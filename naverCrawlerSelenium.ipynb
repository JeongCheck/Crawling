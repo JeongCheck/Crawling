{
 "cells": [
  {
   "cell_type": "code",
   "execution_count": 9,
   "id": "df943b69",
   "metadata": {},
   "outputs": [
    {
     "name": "stdout",
     "output_type": "stream",
     "text": [
      "('64bit', '')\n"
     ]
    }
   ],
   "source": [
    "import platform\n",
    "print(platform.architecture())"
   ]
  },
  {
   "cell_type": "code",
   "execution_count": 10,
   "id": "ec0b16a4",
   "metadata": {},
   "outputs": [
    {
     "name": "stdout",
     "output_type": "stream",
     "text": [
      "Python 3.7.9\r\n"
     ]
    }
   ],
   "source": [
    "!python --version"
   ]
  },
  {
   "cell_type": "code",
   "execution_count": 11,
   "id": "b0b072c2",
   "metadata": {},
   "outputs": [
    {
     "data": {
      "text/plain": [
       "'/home/aiffel-dj26/Projects/Crawling'"
      ]
     },
     "execution_count": 11,
     "metadata": {},
     "output_type": "execute_result"
    }
   ],
   "source": [
    "pwd"
   ]
  },
  {
   "cell_type": "code",
   "execution_count": 12,
   "id": "b580e68e",
   "metadata": {},
   "outputs": [],
   "source": [
    "# 네이버에서 검색어 입력받아 검색 한 후 블로그 메뉴를 선택하고\n",
    "# 오른쪽에 있는 검색옵션 버튼을 눌러서\n",
    "# 정렬 방식과 기간을 입력하기\n",
    "\n",
    "#Step 0. 필요한 모듈과 라이브러리를 로딩하고 검색어를 입력 받습니다.\n",
    "import sys\n",
    "import os\n",
    "import pandas as pd\n",
    "import numpy as np\n",
    "\n",
    "from bs4 import BeautifulSoup\n",
    "from selenium import webdriver\n",
    "import time\n",
    "import tqdm\n",
    "from tqdm.notebook import tqdm"
   ]
  },
  {
   "cell_type": "code",
   "execution_count": 13,
   "id": "28f04c96",
   "metadata": {},
   "outputs": [],
   "source": [
    "query_txt = '성심당여행대전'\n",
    "start_date=\"20190101\"\n",
    "end_date=\"20210501\""
   ]
  },
  {
   "cell_type": "code",
   "execution_count": 18,
   "id": "00aa0816",
   "metadata": {},
   "outputs": [
    {
     "data": {
      "text/plain": [
       "'/home/aiffel-dj26'"
      ]
     },
     "execution_count": 18,
     "metadata": {},
     "output_type": "execute_result"
    }
   ],
   "source": [
    "os.getenv('HOME')"
   ]
  },
  {
   "cell_type": "code",
   "execution_count": 19,
   "id": "1740b0bd",
   "metadata": {},
   "outputs": [
    {
     "data": {
      "text/plain": [
       "'3.14.1'"
      ]
     },
     "execution_count": 19,
     "metadata": {},
     "output_type": "execute_result"
    }
   ],
   "source": [
    "webdriver.__version__"
   ]
  },
  {
   "cell_type": "code",
   "execution_count": 51,
   "id": "02c1383c",
   "metadata": {},
   "outputs": [
    {
     "ename": "NameError",
     "evalue": "name 'Keys' is not defined",
     "output_type": "error",
     "traceback": [
      "\u001b[0;31m---------------------------------------------------------------------------\u001b[0m",
      "\u001b[0;31mNameError\u001b[0m                                 Traceback (most recent call last)",
      "\u001b[0;32m<ipython-input-51-0764bd87983b>\u001b[0m in \u001b[0;36m<module>\u001b[0;34m\u001b[0m\n\u001b[1;32m      8\u001b[0m \u001b[0;34m\u001b[0m\u001b[0m\n\u001b[1;32m      9\u001b[0m \u001b[0;31m#Step 2. 네이버 검색창에 \"검색어\" 검색\u001b[0m\u001b[0;34m\u001b[0m\u001b[0;34m\u001b[0m\u001b[0;34m\u001b[0m\u001b[0m\n\u001b[0;32m---> 10\u001b[0;31m \u001b[0melement\u001b[0m \u001b[0;34m=\u001b[0m \u001b[0mdriver\u001b[0m\u001b[0;34m.\u001b[0m\u001b[0mfind_element_by_name\u001b[0m\u001b[0;34m(\u001b[0m\u001b[0;34m\"sectionBlogQuery\"\u001b[0m\u001b[0;34m)\u001b[0m\u001b[0;34m.\u001b[0m\u001b[0msend_keys\u001b[0m\u001b[0;34m(\u001b[0m\u001b[0mKeys\u001b[0m\u001b[0;34m.\u001b[0m\u001b[0mRETURN\u001b[0m\u001b[0;34m)\u001b[0m\u001b[0;34m\u001b[0m\u001b[0;34m\u001b[0m\u001b[0m\n\u001b[0m\u001b[1;32m     11\u001b[0m \u001b[0melement\u001b[0m\u001b[0;34m.\u001b[0m\u001b[0mclear\u001b[0m\u001b[0;34m(\u001b[0m\u001b[0;34m)\u001b[0m\u001b[0;34m\u001b[0m\u001b[0;34m\u001b[0m\u001b[0m\n\u001b[1;32m     12\u001b[0m \u001b[0melement\u001b[0m\u001b[0;34m.\u001b[0m\u001b[0msend_keys\u001b[0m\u001b[0;34m(\u001b[0m\u001b[0mquery_txt\u001b[0m\u001b[0;34m)\u001b[0m  \u001b[0;31m# query_txt는 위에서 입력한 '이재용'\u001b[0m\u001b[0;34m\u001b[0m\u001b[0;34m\u001b[0m\u001b[0m\n",
      "\u001b[0;31mNameError\u001b[0m: name 'Keys' is not defined"
     ]
    }
   ],
   "source": [
    "#Step 1. 크롬 웹브라우저 실행\n",
    "path = os.getenv('HOME')+ '/chromedriver'\n",
    "\n",
    "driver = webdriver.Chrome(path)\n",
    "# 사이트 주소는 네이버\n",
    "driver.get('https://blog.naver.com/')\n",
    "time.sleep(1)\n",
    "\n",
    "#Step 2. 네이버 검색창에 \"검색어\" 검색\n",
    "element = driver.find_element_by_name(\"sectionBlogQuery\").send_keys(Keys.RETURN)\n",
    "element.clear()\n",
    "element.send_keys(query_txt)  # query_txt는 위에서 입력한 '이재용'\n",
    "element.submit()\n",
    "\n",
    "#Step 3. \"블로그\" 카테고리 선택\n",
    "driver.find_element_by_link_text(\"블로그\").click( )    # .click() 괄호 안을 눌러라는 뜻\n",
    "\n",
    "#Step 4. 오른쪽의 검색 옵션 버튼 클릭\n",
    "driver.find_element_by_name(\"btn_option_search_option_open_btn\").click( )\n",
    "\n",
    "#Step 5. 정렬 : \"관련도순\" \n",
    "# 개발자 도구에서 정렬 버튼의 id 가 보이지 않습니다.\n",
    "# 이럴 경우 쉽게 사용할 수 있는 방법이 바로 xpath 를 이용하는 방법입니다.\n",
    "# xpath는 개발자 도구에서 해당 메뉴 부분을 마우스 오른쪽 버튼을 누르고 \n",
    "# copy -> copy xpath 를 선택하면 됩니다\n",
    "# xpath 에 대한 자세한 내용은 이번 장의 뒷 부분을 참고하세요.\n",
    "\n",
    "driver.find_element_by_xpath(\"\"\"//*[@id=\"snb\"]/div/ul/li[1]/a\"\"\").click( )  # 정렬 버튼의 xpath 클릭\n",
    "driver.find_element_by_xpath(\"\"\"//*[@id=\"snb\"]/div/ul/li[1]/div/ul/li[1]/a\"\"\").click( ) # 관련도순 xpath\n",
    "\n",
    "\n",
    "\n",
    "#Step 6. 날짜 입력\n",
    "driver.find_element_by_xpath(\"\"\"//*[@id=\"snb\"]/div/ul/li[2]/a\"\"\").click()\n",
    "time.sleep(2)\n",
    "\n",
    "# 이 부분이 아주 중요합니다.\n",
    "# 날짜 부분에 날짜를 입력할 때 입력 속도가 너무 빠를 경우 날짜가 입력이 되다가 \n",
    "# 오타가 나오는 경우가 많습니다.\n",
    "# 그래서 날짜를 입력할 때 for 반복문을 사용해서 1 글자씩 입력하도록 코딩했습니다.\n",
    "\n",
    "# 시작 날짜 입력하기\n",
    "s_date = driver.find_element_by_xpath(\"\"\"//*[@id=\"blog_input_period_begin\"]\"\"\")     \n",
    "driver.find_element_by_xpath(\"\"\"//*[@id=\"blog_input_period_begin\"]\"\"\").click()\n",
    "s_date.clear( )  # 날짜 입력 부분에 기존에 입력되어 있던 날짜를 제거합니다. \n",
    "time.sleep(1)\n",
    "# 아래 코드가 날짜를 for 반복문으로 1 글자씩 입력하는 부분입니다.\n",
    "for c in start_date:\n",
    "    s_date.send_keys(c)\n",
    "    time.sleep(0.1)\n",
    "    \n",
    "# 종료 날짜 입력하기\n",
    "e_date = driver.find_element_by_xpath(\"\"\"//*[@id=\"blog_input_period_end\"]\"\"\")\n",
    "driver.find_element_by_xpath(\"\"\"//*[@id=\"blog_input_period_end\"]\"\"\").click()\n",
    "e_date.clear()\n",
    "time.sleep(1)\n",
    "\n",
    "for c in end_date:\n",
    "    e_date.send_keys(c)\n",
    "    time.sleep(0.1)\n",
    "    \n",
    "# Step7. 날짜 입력 \"적용하기\" 버튼을 클릭 합니다.  \n",
    "driver.find_element_by_class_name(\"tx\").click()\n",
    "time.sleep(3)\n",
    "\n",
    "# # Step 8. 상세 검색버튼을 클릭 후 제외할 단어들을 설정합니다.\n",
    "# ele2 = driver.find_element_by_id(\"inpop3\")\n",
    "# ele2.send_keys(query_txt2)\n",
    "# ele2.send_keys(',')\n",
    "# ele2.send_keys(query_txt3)\n",
    "# driver.find_element_by_css_selector(\".btn_ft.ty_green._search\").click( )\n",
    "\n",
    "\n",
    "url_list = []\n",
    "title_list = []\n",
    "\n",
    "total_page = 5\n",
    "for i in tqdm(range(0, total_page)):  # 페이지 번호\n",
    "    i = i*10 + 1\n",
    "    url = \"https://search.naver.com/search.naver\\\n",
    "?date_from={0}&date_option=8&date_to={1}\\\n",
    "&dup_remove=1&nso=p%3Afrom{2}to{3}post_blogurl=\\\n",
    "&post_blogurl_without=&query={4}&sm=tab_pge&srchby=all&st=sim&where=post&start={5}\".format(start_date,end_date,start_date,end_date,query_txt, i)\n",
    "    driver.get(url)\n",
    "    time.sleep(0.5)\n",
    "    \n",
    "    # URL 크롤링 시작\n",
    "    titles = \"a.sh_blog_title._sp_each_url._sp_each_title\"\n",
    "    article_raw = driver.find_elements_by_css_selector(titles)\n",
    "#     article_raw\n",
    "\n",
    "    # url 크롤링 시작    \n",
    "    for article in article_raw:\n",
    "        url = article.get_attribute('href')   \n",
    "        url_list.append(url)\n",
    "    \n",
    "    # 제목 크롤링 시작    \n",
    "    for article in article_raw:\n",
    "        title = article.get_attribute('title')   \n",
    "        title_list.append(title)\n",
    "    \n",
    "        print(title)\n",
    "    \n",
    "print('url갯수: ', len(url_list))\n",
    "print('url갯수: ', len(title_list))\n",
    "\n",
    "df = pd.DataFrame({'url':url_list, 'title':title_list})\n",
    "\n",
    "# 저장하기\n",
    "df.to_csv(\"./blog_url.csv\")"
   ]
  },
  {
   "cell_type": "code",
   "execution_count": null,
   "id": "7e8abc02",
   "metadata": {},
   "outputs": [],
   "source": []
  }
 ],
 "metadata": {
  "kernelspec": {
   "display_name": "Python 3",
   "language": "python",
   "name": "python3"
  },
  "language_info": {
   "codemirror_mode": {
    "name": "ipython",
    "version": 3
   },
   "file_extension": ".py",
   "mimetype": "text/x-python",
   "name": "python",
   "nbconvert_exporter": "python",
   "pygments_lexer": "ipython3",
   "version": "3.7.9"
  }
 },
 "nbformat": 4,
 "nbformat_minor": 5
}
