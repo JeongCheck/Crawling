{
 "cells": [
  {
   "cell_type": "code",
   "execution_count": 1,
   "metadata": {},
   "outputs": [],
   "source": [
    "import re\n",
    "import json\n",
    "import math\n",
    "import datetime\n",
    "import requests\n",
    "import urllib.request\n",
    "import urllib.error\n",
    "import urllib.parse\n",
    "from bs4 import BeautifulSoup\n",
    "import csv\n",
    "import os"
   ]
  },
  {
   "cell_type": "markdown",
   "metadata": {},
   "source": [
    "## 검색 키워드\n",
    "- 관광지 + 여행 + 후기\n",
    "- 관광지 + 여행 + 주말에\n",
    "- 관광지 + 여행 + 대전 \n",
    "- 관광지 + 관광 + 후기\n",
    "- 관광지 + 관광 + 주말에 \n",
    "- 관광지 + 관광 + 대전 \n",
    "\n",
    "## 관광지 리스트\n",
    "- 총 12개 + 4개    \n",
    "\n",
    "\n",
    "- 오-월드\n",
    "- 뿌리공원\n",
    "- 엑스포과학공원\n",
    "- 한밭수목원\n",
    "- 계족산황톳길\n",
    "- 대청호반\n",
    "- 장태산휴양림\n",
    "- 대전둘레산길\n",
    "- 동춘당\n",
    "- 대전문화예술단지 : 대전예술의전당, 대전시립미술관, 이응노미술관\n",
    "- 으능정이문화의거리\n",
    "- 유성온천\n",
    "\n",
    "\n",
    "\n",
    "- 성심당\n",
    "- 시민천문대\n",
    "- 수통골\n",
    "- 한밭야구장\n",
    "- 국립중앙과학관"
   ]
  },
  {
   "cell_type": "code",
   "execution_count": 6,
   "metadata": {},
   "outputs": [
    {
     "name": "stdout",
     "output_type": "stream",
     "text": [
      "16\n",
      "96\n"
     ]
    }
   ],
   "source": [
    "place = ['오월드', '뿌리공원','엑스포과학공원','한밭수목원','계족산황톳길','대청호반','장태산휴양림','대전둘레산길','동춘당','대전문화예술단지',\n",
    "         '으능정이문화의거리','유성온천','성심당','시민천문대','수통골','한밭야구장']\n",
    "print(len(place))\n",
    "tour = ['여행', '관광']\n",
    "keywords = ['후기', '대전', '주말에']\n",
    "\n",
    "complete_keyword = [f'{p} {t} {w}' for p in place for t in tour for w in keywords]\n",
    "\n",
    "print(len(complete_keyword))"
   ]
  },
  {
   "cell_type": "code",
   "execution_count": 6,
   "metadata": {
    "scrolled": true
   },
   "outputs": [
    {
     "data": {
      "text/plain": [
       "['오월드 여행 후기',\n",
       " '오월드 여행 대전',\n",
       " '오월드 여행 주말에',\n",
       " '오월드 관광 후기',\n",
       " '오월드 관광 대전',\n",
       " '오월드 관광 주말에',\n",
       " '뿌리공원 여행 후기',\n",
       " '뿌리공원 여행 대전',\n",
       " '뿌리공원 여행 주말에',\n",
       " '뿌리공원 관광 후기',\n",
       " '뿌리공원 관광 대전',\n",
       " '뿌리공원 관광 주말에',\n",
       " '엑스포과학공원 여행 후기',\n",
       " '엑스포과학공원 여행 대전',\n",
       " '엑스포과학공원 여행 주말에',\n",
       " '엑스포과학공원 관광 후기',\n",
       " '엑스포과학공원 관광 대전',\n",
       " '엑스포과학공원 관광 주말에',\n",
       " '한밭수목원 여행 후기',\n",
       " '한밭수목원 여행 대전',\n",
       " '한밭수목원 여행 주말에',\n",
       " '한밭수목원 관광 후기',\n",
       " '한밭수목원 관광 대전',\n",
       " '한밭수목원 관광 주말에',\n",
       " '계족산황톳길 여행 후기',\n",
       " '계족산황톳길 여행 대전',\n",
       " '계족산황톳길 여행 주말에',\n",
       " '계족산황톳길 관광 후기',\n",
       " '계족산황톳길 관광 대전',\n",
       " '계족산황톳길 관광 주말에',\n",
       " '대청호반 여행 후기',\n",
       " '대청호반 여행 대전',\n",
       " '대청호반 여행 주말에',\n",
       " '대청호반 관광 후기',\n",
       " '대청호반 관광 대전',\n",
       " '대청호반 관광 주말에',\n",
       " '장태산휴양림 여행 후기',\n",
       " '장태산휴양림 여행 대전',\n",
       " '장태산휴양림 여행 주말에',\n",
       " '장태산휴양림 관광 후기',\n",
       " '장태산휴양림 관광 대전',\n",
       " '장태산휴양림 관광 주말에',\n",
       " '대전둘레산길 여행 후기',\n",
       " '대전둘레산길 여행 대전',\n",
       " '대전둘레산길 여행 주말에',\n",
       " '대전둘레산길 관광 후기',\n",
       " '대전둘레산길 관광 대전',\n",
       " '대전둘레산길 관광 주말에',\n",
       " '동춘당 여행 후기',\n",
       " '동춘당 여행 대전',\n",
       " '동춘당 여행 주말에',\n",
       " '동춘당 관광 후기',\n",
       " '동춘당 관광 대전',\n",
       " '동춘당 관광 주말에',\n",
       " '대전문화예술단지 여행 후기',\n",
       " '대전문화예술단지 여행 대전',\n",
       " '대전문화예술단지 여행 주말에',\n",
       " '대전문화예술단지 관광 후기',\n",
       " '대전문화예술단지 관광 대전',\n",
       " '대전문화예술단지 관광 주말에',\n",
       " '으능정이문화의거리 여행 후기',\n",
       " '으능정이문화의거리 여행 대전',\n",
       " '으능정이문화의거리 여행 주말에',\n",
       " '으능정이문화의거리 관광 후기',\n",
       " '으능정이문화의거리 관광 대전',\n",
       " '으능정이문화의거리 관광 주말에',\n",
       " '유성온천 여행 후기',\n",
       " '유성온천 여행 대전',\n",
       " '유성온천 여행 주말에',\n",
       " '유성온천 관광 후기',\n",
       " '유성온천 관광 대전',\n",
       " '유성온천 관광 주말에',\n",
       " '성심당 여행 후기',\n",
       " '성심당 여행 대전',\n",
       " '성심당 여행 주말에',\n",
       " '성심당 관광 후기',\n",
       " '성심당 관광 대전',\n",
       " '성심당 관광 주말에',\n",
       " '시민천문대 여행 후기',\n",
       " '시민천문대 여행 대전',\n",
       " '시민천문대 여행 주말에',\n",
       " '시민천문대 관광 후기',\n",
       " '시민천문대 관광 대전',\n",
       " '시민천문대 관광 주말에',\n",
       " '수통골 여행 후기',\n",
       " '수통골 여행 대전',\n",
       " '수통골 여행 주말에',\n",
       " '수통골 관광 후기',\n",
       " '수통골 관광 대전',\n",
       " '수통골 관광 주말에',\n",
       " '한밭야구장 여행 후기',\n",
       " '한밭야구장 여행 대전',\n",
       " '한밭야구장 여행 주말에',\n",
       " '한밭야구장 관광 후기',\n",
       " '한밭야구장 관광 대전',\n",
       " '한밭야구장 관광 주말에']"
      ]
     },
     "execution_count": 6,
     "metadata": {},
     "output_type": "execute_result"
    }
   ],
   "source": [
    "complete_keyword"
   ]
  },
  {
   "cell_type": "code",
   "execution_count": 9,
   "metadata": {},
   "outputs": [
    {
     "name": "stdout",
     "output_type": "stream",
     "text": [
      "['대전예술의전당 여행 후기', '대전예술의전당 여행 대전', '대전예술의전당 여행 주말에', '대전예술의전당 관광 후기', '대전예술의전당 관광 대전', '대전예술의전당 관광 주말에', '대전시립미술관 여행 후기', '대전시립미술관 여행 대전', '대전시립미술관 여행 주말에', '대전시립미술관 관광 후기', '대전시립미술관 관광 대전', '대전시립미술관 관광 주말에', '이응노미술관 여행 후기', '이응노미술관 여행 대전', '이응노미술관 여행 주말에', '이응노미술관 관광 후기', '이응노미술관 관광 대전', '이응노미술관 관광 주말에', '국립중앙과학관 여행 후기', '국립중앙과학관 여행 대전', '국립중앙과학관 여행 주말에', '국립중앙과학관 관광 후기', '국립중앙과학관 관광 대전', '국립중앙과학관 관광 주말에']\n"
     ]
    }
   ],
   "source": [
    "new_list = ['대전예술의전당', '대전시립미술관', '이응노미술관', '국립중앙과학관']\n",
    "\n",
    "tour = ['여행', '관광']\n",
    "keywords = ['후기', '대전', '주말에']\n",
    "\n",
    "new_keyword = [f'{p} {t} {w}' for p in new_list for t in tour for w in keywords]\n",
    "\n",
    "print(new_keyword)"
   ]
  },
  {
   "cell_type": "markdown",
   "metadata": {},
   "source": [
    "## 데이터 저장 경로"
   ]
  },
  {
   "cell_type": "code",
   "execution_count": 7,
   "metadata": {},
   "outputs": [
    {
     "data": {
      "text/plain": [
       "'/home/aiffel-dj26/Projects/crawling_data'"
      ]
     },
     "execution_count": 7,
     "metadata": {},
     "output_type": "execute_result"
    }
   ],
   "source": [
    "data_dir = os.getenv('HOME') + '/Projects/crawling_data'\n",
    "data_dir"
   ]
  },
  {
   "cell_type": "markdown",
   "metadata": {},
   "source": [
    "## 크롤링 \n",
    "- naver 검색 API"
   ]
  },
  {
   "cell_type": "code",
   "execution_count": 2,
   "metadata": {},
   "outputs": [],
   "source": [
    "naver_client_id = \"lzPSlFTEnz232oLdqwzy\"\n",
    "naver_client_secret = \"1Ig7U84bjP\""
   ]
  },
  {
   "cell_type": "code",
   "execution_count": 5,
   "metadata": {},
   "outputs": [],
   "source": [
    "def naver_blog_crawling(data_dir, search_blog_keyword, display_count, sort_type):\n",
    "    search_result_blog_page_count = get_blog_search_result_pagination_count(search_blog_keyword, display_count)\n",
    "    get_blog_post(data_dir, search_blog_keyword, display_count, search_result_blog_page_count, sort_type)\n",
    "\n",
    "\n",
    "def get_blog_search_result_pagination_count(search_blog_keyword, display_count):\n",
    "    encode_search_keyword = urllib.parse.quote(search_blog_keyword)\n",
    "    url = \"https://openapi.naver.com/v1/search/blog?startDate=2019-01-01&endDate=2021-05-01&query=\" + encode_search_keyword + \"&startDate=2019-01-01&endDate=2021-05-01\"\n",
    "    request = urllib.request.Request(url)\n",
    "\n",
    "    request.add_header(\"X-Naver-Client-Id\", naver_client_id)\n",
    "    request.add_header(\"X-Naver-Client-Secret\", naver_client_secret)\n",
    "\n",
    "    response = urllib.request.urlopen(request)\n",
    "    response_code = response.getcode()\n",
    "\n",
    "    if response_code is 200:\n",
    "        response_body = response.read()\n",
    "        response_body_dict = json.loads(response_body.decode('utf-8')) # 긁어온 내용 \n",
    "\n",
    "        if response_body_dict['total'] == 0:\n",
    "            blog_pagination_count = 0\n",
    "        else:\n",
    "            blog_pagination_total_count = math.ceil(response_body_dict['total'] / int(display_count))\n",
    "\n",
    "            if blog_pagination_total_count >= 1000:\n",
    "                blog_pagination_count = 1000\n",
    "            else:\n",
    "                blog_pagination_count = blog_pagination_total_count\n",
    "\n",
    "            print(\"키워드 \" + search_blog_keyword + \"에 해당하는 포스팅 수 : \" + str(response_body_dict['total']))\n",
    "            print(\"키워드 \" + search_blog_keyword + \"에 해당하는 블로그 실제 페이징 수 : \" + str(blog_pagination_total_count))\n",
    "            print(\"키워드 \" + search_blog_keyword + \"에 해당하는 블로그 처리할 수 있는 페이징 수 : \" + str(blog_pagination_count))\n",
    "\n",
    "        return blog_pagination_count\n",
    "\n",
    "\n",
    "def get_blog_post(data_dir, search_blog_keyword, display_count, search_result_blog_page_count, sort_type):\n",
    "    # csv 파일 생성 및 쓰기\n",
    "    file = open(f'{data_dir}/{search_blog_keyword}.csv', 'w', encoding='utf-8', newline='') \n",
    "    csvWriter = csv.writer(file)\n",
    "    \n",
    "    encode_search_blog_keyword = urllib.parse.quote(search_blog_keyword)\n",
    "\n",
    "    for i in range(1, search_result_blog_page_count + 1):\n",
    "        url = \"https://openapi.naver.com/v1/search/blog?query=\" + encode_search_blog_keyword + \"&display=\" + str(\n",
    "            display_count) + \"&start=\" + str(i) + \"&sort=\" + sort_type + \"&startDate=2019-01-01&endDate=2021-05-01\"\n",
    "\n",
    "        request = urllib.request.Request(url)\n",
    "        \n",
    "        request.add_header(\"X-Naver-Client-Id\", naver_client_id)\n",
    "        request.add_header(\"X-Naver-Client-Secret\", naver_client_secret)\n",
    "\n",
    "        response = urllib.request.urlopen(request)\n",
    "        response_code = response.getcode()\n",
    "\n",
    "        if response_code is 200:\n",
    "            response_body = response.read()\n",
    "            response_body_dict = json.loads(response_body.decode('utf-8'))\n",
    "\n",
    "            for j in range(0, len(response_body_dict['items'])):\n",
    "                try:\n",
    "                    blog_post_url = response_body_dict['items'][j]['link'].replace(\"amp;\", \"\")\n",
    "                    \n",
    "                    get_blog_post_content_code = requests.get(blog_post_url)\n",
    "                    get_blog_post_content_text = get_blog_post_content_code.text\n",
    "\n",
    "                    get_blog_post_content_soup = BeautifulSoup(get_blog_post_content_text, 'lxml')\n",
    "\n",
    "                    for link in get_blog_post_content_soup.select('iframe#mainFrame'):\n",
    "                        real_blog_post_url = \"http://blog.naver.com\" + link.get('src')\n",
    "                        \n",
    "\n",
    "                        get_real_blog_post_content_code = requests.get(real_blog_post_url)\n",
    "                        get_real_blog_post_content_text = get_real_blog_post_content_code.text\n",
    "\n",
    "                        get_real_blog_post_content_soup = BeautifulSoup(get_real_blog_post_content_text, 'lxml')\n",
    "\n",
    "                        for blog_post_content in get_real_blog_post_content_soup.select('div#postViewArea'):\n",
    "                            blog_post_content_text = blog_post_content.get_text()\n",
    "                            \n",
    "                            if blog_post_content_text is None:\n",
    "                                print('No text !')\n",
    "                            remove_html_tag = re.compile('<.*?>')\n",
    "\n",
    "                            blog_post_title = re.sub(remove_html_tag, '', response_body_dict['items'][j]['title'])\n",
    "                            blog_post_description = re.sub(remove_html_tag, '',\n",
    "                                                           response_body_dict['items'][j]['description'])\n",
    "                            blog_post_postdate = datetime.datetime.strptime(response_body_dict['items'][j]['postdate'],\n",
    "                                                                            \"%Y%m%d\").strftime(\"%y.%m.%d\")\n",
    "                            blog_post_blogger_name = response_body_dict['items'][j]['bloggername']\n",
    "                            blog_post_full_contents = str(blog_post_content_text)\n",
    "                            \n",
    "                            \n",
    "\n",
    "                            if blog_post_postdate >= \"19.01.01\" and blog_post_postdate <= \"21.05.01\":\n",
    "                                csvWriter.writerow([blog_post_postdate, blog_post_description, blog_post_full_contents, blog_post_blogger_name])\n",
    "\n",
    "\n",
    "                except:\n",
    "                    j += 1\n",
    "            \n",
    "    file.close()\n",
    "    print('finish crawling !')"
   ]
  },
  {
   "cell_type": "code",
   "execution_count": 67,
   "metadata": {
    "scrolled": true
   },
   "outputs": [
    {
     "name": "stdout",
     "output_type": "stream",
     "text": [
      "키워드 한밭야구장 관광 주말에에 해당하는 포스팅 수 : 15\n",
      "키워드 한밭야구장 관광 주말에에 해당하는 블로그 실제 페이징 수 : 1\n",
      "키워드 한밭야구장 관광 주말에에 해당하는 블로그 처리할 수 있는 페이징 수 : 1\n"
     ]
    }
   ],
   "source": [
    "naver_blog_crawling(data_dir, complete_keyword[-1], 100, \"sim\")"
   ]
  },
  {
   "cell_type": "code",
   "execution_count": null,
   "metadata": {},
   "outputs": [
    {
     "name": "stdout",
     "output_type": "stream",
     "text": [
      "키워드 오월드 여행 후기에 해당하는 포스팅 수 : 454\n",
      "키워드 오월드 여행 후기에 해당하는 블로그 실제 페이징 수 : 5\n",
      "키워드 오월드 여행 후기에 해당하는 블로그 처리할 수 있는 페이징 수 : 5\n"
     ]
    }
   ],
   "source": [
    "# for word in complete_keyword[:-1]:\n",
    "#     naver_blog_crawling(data_dir, word, 100, \"sim\")    "
   ]
  },
  {
   "cell_type": "code",
   "execution_count": 7,
   "metadata": {},
   "outputs": [
    {
     "data": {
      "text/plain": [
       "'대전둘레산길 관광 대전'"
      ]
     },
     "execution_count": 7,
     "metadata": {},
     "output_type": "execute_result"
    }
   ],
   "source": [
    "complete_keyword[46]"
   ]
  },
  {
   "cell_type": "code",
   "execution_count": 8,
   "metadata": {},
   "outputs": [
    {
     "name": "stdout",
     "output_type": "stream",
     "text": [
      "키워드 엑스포과학공원 여행 주말에에 해당하는 포스팅 수 : 33915\n",
      "키워드 엑스포과학공원 여행 주말에에 해당하는 블로그 실제 페이징 수 : 340\n",
      "키워드 엑스포과학공원 여행 주말에에 해당하는 블로그 처리할 수 있는 페이징 수 : 340\n",
      "finish crawling !\n",
      "키워드 엑스포과학공원 관광 후기에 해당하는 포스팅 수 : 125\n",
      "키워드 엑스포과학공원 관광 후기에 해당하는 블로그 실제 페이징 수 : 2\n",
      "키워드 엑스포과학공원 관광 후기에 해당하는 블로그 처리할 수 있는 페이징 수 : 2\n",
      "finish crawling !\n",
      "키워드 엑스포과학공원 관광 대전에 해당하는 포스팅 수 : 3013\n",
      "키워드 엑스포과학공원 관광 대전에 해당하는 블로그 실제 페이징 수 : 31\n",
      "키워드 엑스포과학공원 관광 대전에 해당하는 블로그 처리할 수 있는 페이징 수 : 31\n",
      "finish crawling !\n",
      "키워드 엑스포과학공원 관광 주말에에 해당하는 포스팅 수 : 24539\n",
      "키워드 엑스포과학공원 관광 주말에에 해당하는 블로그 실제 페이징 수 : 246\n",
      "키워드 엑스포과학공원 관광 주말에에 해당하는 블로그 처리할 수 있는 페이징 수 : 246\n",
      "finish crawling !\n",
      "키워드 한밭수목원 여행 후기에 해당하는 포스팅 수 : 646\n",
      "키워드 한밭수목원 여행 후기에 해당하는 블로그 실제 페이징 수 : 7\n",
      "키워드 한밭수목원 여행 후기에 해당하는 블로그 처리할 수 있는 페이징 수 : 7\n",
      "finish crawling !\n",
      "키워드 한밭수목원 여행 대전에 해당하는 포스팅 수 : 7179\n",
      "키워드 한밭수목원 여행 대전에 해당하는 블로그 실제 페이징 수 : 72\n",
      "키워드 한밭수목원 여행 대전에 해당하는 블로그 처리할 수 있는 페이징 수 : 72\n",
      "finish crawling !\n",
      "키워드 한밭수목원 여행 주말에에 해당하는 포스팅 수 : 2063\n",
      "키워드 한밭수목원 여행 주말에에 해당하는 블로그 실제 페이징 수 : 21\n",
      "키워드 한밭수목원 여행 주말에에 해당하는 블로그 처리할 수 있는 페이징 수 : 21\n",
      "finish crawling !\n",
      "키워드 한밭수목원 관광 후기에 해당하는 포스팅 수 : 192\n",
      "키워드 한밭수목원 관광 후기에 해당하는 블로그 실제 페이징 수 : 2\n",
      "키워드 한밭수목원 관광 후기에 해당하는 블로그 처리할 수 있는 페이징 수 : 2\n",
      "finish crawling !\n",
      "키워드 한밭수목원 관광 대전에 해당하는 포스팅 수 : 2895\n",
      "키워드 한밭수목원 관광 대전에 해당하는 블로그 실제 페이징 수 : 29\n",
      "키워드 한밭수목원 관광 대전에 해당하는 블로그 처리할 수 있는 페이징 수 : 29\n",
      "finish crawling !\n",
      "키워드 한밭수목원 관광 주말에에 해당하는 포스팅 수 : 648\n",
      "키워드 한밭수목원 관광 주말에에 해당하는 블로그 실제 페이징 수 : 7\n",
      "키워드 한밭수목원 관광 주말에에 해당하는 블로그 처리할 수 있는 페이징 수 : 7\n",
      "finish crawling !\n",
      "키워드 계족산황톳길 여행 후기에 해당하는 포스팅 수 : 202\n",
      "키워드 계족산황톳길 여행 후기에 해당하는 블로그 실제 페이징 수 : 3\n",
      "키워드 계족산황톳길 여행 후기에 해당하는 블로그 처리할 수 있는 페이징 수 : 3\n",
      "finish crawling !\n",
      "키워드 계족산황톳길 여행 대전에 해당하는 포스팅 수 : 2669\n",
      "키워드 계족산황톳길 여행 대전에 해당하는 블로그 실제 페이징 수 : 27\n",
      "키워드 계족산황톳길 여행 대전에 해당하는 블로그 처리할 수 있는 페이징 수 : 27\n",
      "finish crawling !\n",
      "키워드 계족산황톳길 여행 주말에에 해당하는 포스팅 수 : 138\n",
      "키워드 계족산황톳길 여행 주말에에 해당하는 블로그 실제 페이징 수 : 2\n",
      "키워드 계족산황톳길 여행 주말에에 해당하는 블로그 처리할 수 있는 페이징 수 : 2\n",
      "finish crawling !\n",
      "키워드 계족산황톳길 관광 후기에 해당하는 포스팅 수 : 138\n",
      "키워드 계족산황톳길 관광 후기에 해당하는 블로그 실제 페이징 수 : 2\n",
      "키워드 계족산황톳길 관광 후기에 해당하는 블로그 처리할 수 있는 페이징 수 : 2\n",
      "finish crawling !\n",
      "키워드 계족산황톳길 관광 대전에 해당하는 포스팅 수 : 2668\n",
      "키워드 계족산황톳길 관광 대전에 해당하는 블로그 실제 페이징 수 : 27\n",
      "키워드 계족산황톳길 관광 대전에 해당하는 블로그 처리할 수 있는 페이징 수 : 27\n",
      "finish crawling !\n",
      "키워드 계족산황톳길 관광 주말에에 해당하는 포스팅 수 : 114\n",
      "키워드 계족산황톳길 관광 주말에에 해당하는 블로그 실제 페이징 수 : 2\n",
      "키워드 계족산황톳길 관광 주말에에 해당하는 블로그 처리할 수 있는 페이징 수 : 2\n",
      "finish crawling !\n",
      "키워드 대청호반 여행 후기에 해당하는 포스팅 수 : 339\n",
      "키워드 대청호반 여행 후기에 해당하는 블로그 실제 페이징 수 : 4\n",
      "키워드 대청호반 여행 후기에 해당하는 블로그 처리할 수 있는 페이징 수 : 4\n",
      "finish crawling !\n",
      "키워드 대청호반 여행 대전에 해당하는 포스팅 수 : 2112\n",
      "키워드 대청호반 여행 대전에 해당하는 블로그 실제 페이징 수 : 22\n",
      "키워드 대청호반 여행 대전에 해당하는 블로그 처리할 수 있는 페이징 수 : 22\n",
      "finish crawling !\n",
      "키워드 대청호반 여행 주말에에 해당하는 포스팅 수 : 128\n",
      "키워드 대청호반 여행 주말에에 해당하는 블로그 실제 페이징 수 : 2\n",
      "키워드 대청호반 여행 주말에에 해당하는 블로그 처리할 수 있는 페이징 수 : 2\n",
      "finish crawling !\n",
      "키워드 대청호반 관광 후기에 해당하는 포스팅 수 : 288\n",
      "키워드 대청호반 관광 후기에 해당하는 블로그 실제 페이징 수 : 3\n",
      "키워드 대청호반 관광 후기에 해당하는 블로그 처리할 수 있는 페이징 수 : 3\n",
      "finish crawling !\n",
      "키워드 대청호반 관광 대전에 해당하는 포스팅 수 : 1773\n",
      "키워드 대청호반 관광 대전에 해당하는 블로그 실제 페이징 수 : 18\n",
      "키워드 대청호반 관광 대전에 해당하는 블로그 처리할 수 있는 페이징 수 : 18\n",
      "finish crawling !\n",
      "키워드 대청호반 관광 주말에에 해당하는 포스팅 수 : 85\n",
      "키워드 대청호반 관광 주말에에 해당하는 블로그 실제 페이징 수 : 1\n",
      "키워드 대청호반 관광 주말에에 해당하는 블로그 처리할 수 있는 페이징 수 : 1\n",
      "finish crawling !\n",
      "키워드 장태산휴양림 여행 후기에 해당하는 포스팅 수 : 7\n",
      "키워드 장태산휴양림 여행 후기에 해당하는 블로그 실제 페이징 수 : 1\n",
      "키워드 장태산휴양림 여행 후기에 해당하는 블로그 처리할 수 있는 페이징 수 : 1\n",
      "finish crawling !\n",
      "키워드 장태산휴양림 여행 대전에 해당하는 포스팅 수 : 92\n",
      "키워드 장태산휴양림 여행 대전에 해당하는 블로그 실제 페이징 수 : 1\n",
      "키워드 장태산휴양림 여행 대전에 해당하는 블로그 처리할 수 있는 페이징 수 : 1\n",
      "finish crawling !\n",
      "키워드 장태산휴양림 여행 주말에에 해당하는 포스팅 수 : 1222\n",
      "키워드 장태산휴양림 여행 주말에에 해당하는 블로그 실제 페이징 수 : 13\n",
      "키워드 장태산휴양림 여행 주말에에 해당하는 블로그 처리할 수 있는 페이징 수 : 13\n",
      "finish crawling !\n",
      "키워드 장태산휴양림 관광 후기에 해당하는 포스팅 수 : 169\n",
      "키워드 장태산휴양림 관광 후기에 해당하는 블로그 실제 페이징 수 : 2\n",
      "키워드 장태산휴양림 관광 후기에 해당하는 블로그 처리할 수 있는 페이징 수 : 2\n",
      "finish crawling !\n",
      "키워드 장태산휴양림 관광 대전에 해당하는 포스팅 수 : 2423\n",
      "키워드 장태산휴양림 관광 대전에 해당하는 블로그 실제 페이징 수 : 25\n",
      "키워드 장태산휴양림 관광 대전에 해당하는 블로그 처리할 수 있는 페이징 수 : 25\n",
      "finish crawling !\n",
      "키워드 장태산휴양림 관광 주말에에 해당하는 포스팅 수 : 108\n",
      "키워드 장태산휴양림 관광 주말에에 해당하는 블로그 실제 페이징 수 : 2\n",
      "키워드 장태산휴양림 관광 주말에에 해당하는 블로그 처리할 수 있는 페이징 수 : 2\n",
      "finish crawling !\n",
      "키워드 대전둘레산길 여행 후기에 해당하는 포스팅 수 : 6718\n",
      "키워드 대전둘레산길 여행 후기에 해당하는 블로그 실제 페이징 수 : 68\n",
      "키워드 대전둘레산길 여행 후기에 해당하는 블로그 처리할 수 있는 페이징 수 : 68\n",
      "finish crawling !\n",
      "키워드 대전둘레산길 여행 대전에 해당하는 포스팅 수 : 38242\n",
      "키워드 대전둘레산길 여행 대전에 해당하는 블로그 실제 페이징 수 : 383\n",
      "키워드 대전둘레산길 여행 대전에 해당하는 블로그 처리할 수 있는 페이징 수 : 383\n"
     ]
    },
    {
     "ename": "URLError",
     "evalue": "<urlopen error [Errno -2] Name or service not known>",
     "output_type": "error",
     "traceback": [
      "\u001b[0;31m---------------------------------------------------------------------------\u001b[0m",
      "\u001b[0;31mgaierror\u001b[0m                                  Traceback (most recent call last)",
      "\u001b[0;32m~/anaconda3/envs/aiffel/lib/python3.7/urllib/request.py\u001b[0m in \u001b[0;36mdo_open\u001b[0;34m(self, http_class, req, **http_conn_args)\u001b[0m\n\u001b[1;32m   1349\u001b[0m                 h.request(req.get_method(), req.selector, req.data, headers,\n\u001b[0;32m-> 1350\u001b[0;31m                           encode_chunked=req.has_header('Transfer-encoding'))\n\u001b[0m\u001b[1;32m   1351\u001b[0m             \u001b[0;32mexcept\u001b[0m \u001b[0mOSError\u001b[0m \u001b[0;32mas\u001b[0m \u001b[0merr\u001b[0m\u001b[0;34m:\u001b[0m \u001b[0;31m# timeout error\u001b[0m\u001b[0;34m\u001b[0m\u001b[0;34m\u001b[0m\u001b[0m\n",
      "\u001b[0;32m~/anaconda3/envs/aiffel/lib/python3.7/http/client.py\u001b[0m in \u001b[0;36mrequest\u001b[0;34m(self, method, url, body, headers, encode_chunked)\u001b[0m\n\u001b[1;32m   1276\u001b[0m         \u001b[0;34m\"\"\"Send a complete request to the server.\"\"\"\u001b[0m\u001b[0;34m\u001b[0m\u001b[0;34m\u001b[0m\u001b[0m\n\u001b[0;32m-> 1277\u001b[0;31m         \u001b[0mself\u001b[0m\u001b[0;34m.\u001b[0m\u001b[0m_send_request\u001b[0m\u001b[0;34m(\u001b[0m\u001b[0mmethod\u001b[0m\u001b[0;34m,\u001b[0m \u001b[0murl\u001b[0m\u001b[0;34m,\u001b[0m \u001b[0mbody\u001b[0m\u001b[0;34m,\u001b[0m \u001b[0mheaders\u001b[0m\u001b[0;34m,\u001b[0m \u001b[0mencode_chunked\u001b[0m\u001b[0;34m)\u001b[0m\u001b[0;34m\u001b[0m\u001b[0;34m\u001b[0m\u001b[0m\n\u001b[0m\u001b[1;32m   1278\u001b[0m \u001b[0;34m\u001b[0m\u001b[0m\n",
      "\u001b[0;32m~/anaconda3/envs/aiffel/lib/python3.7/http/client.py\u001b[0m in \u001b[0;36m_send_request\u001b[0;34m(self, method, url, body, headers, encode_chunked)\u001b[0m\n\u001b[1;32m   1322\u001b[0m             \u001b[0mbody\u001b[0m \u001b[0;34m=\u001b[0m \u001b[0m_encode\u001b[0m\u001b[0;34m(\u001b[0m\u001b[0mbody\u001b[0m\u001b[0;34m,\u001b[0m \u001b[0;34m'body'\u001b[0m\u001b[0;34m)\u001b[0m\u001b[0;34m\u001b[0m\u001b[0;34m\u001b[0m\u001b[0m\n\u001b[0;32m-> 1323\u001b[0;31m         \u001b[0mself\u001b[0m\u001b[0;34m.\u001b[0m\u001b[0mendheaders\u001b[0m\u001b[0;34m(\u001b[0m\u001b[0mbody\u001b[0m\u001b[0;34m,\u001b[0m \u001b[0mencode_chunked\u001b[0m\u001b[0;34m=\u001b[0m\u001b[0mencode_chunked\u001b[0m\u001b[0;34m)\u001b[0m\u001b[0;34m\u001b[0m\u001b[0;34m\u001b[0m\u001b[0m\n\u001b[0m\u001b[1;32m   1324\u001b[0m \u001b[0;34m\u001b[0m\u001b[0m\n",
      "\u001b[0;32m~/anaconda3/envs/aiffel/lib/python3.7/http/client.py\u001b[0m in \u001b[0;36mendheaders\u001b[0;34m(self, message_body, encode_chunked)\u001b[0m\n\u001b[1;32m   1271\u001b[0m             \u001b[0;32mraise\u001b[0m \u001b[0mCannotSendHeader\u001b[0m\u001b[0;34m(\u001b[0m\u001b[0;34m)\u001b[0m\u001b[0;34m\u001b[0m\u001b[0;34m\u001b[0m\u001b[0m\n\u001b[0;32m-> 1272\u001b[0;31m         \u001b[0mself\u001b[0m\u001b[0;34m.\u001b[0m\u001b[0m_send_output\u001b[0m\u001b[0;34m(\u001b[0m\u001b[0mmessage_body\u001b[0m\u001b[0;34m,\u001b[0m \u001b[0mencode_chunked\u001b[0m\u001b[0;34m=\u001b[0m\u001b[0mencode_chunked\u001b[0m\u001b[0;34m)\u001b[0m\u001b[0;34m\u001b[0m\u001b[0;34m\u001b[0m\u001b[0m\n\u001b[0m\u001b[1;32m   1273\u001b[0m \u001b[0;34m\u001b[0m\u001b[0m\n",
      "\u001b[0;32m~/anaconda3/envs/aiffel/lib/python3.7/http/client.py\u001b[0m in \u001b[0;36m_send_output\u001b[0;34m(self, message_body, encode_chunked)\u001b[0m\n\u001b[1;32m   1031\u001b[0m         \u001b[0;32mdel\u001b[0m \u001b[0mself\u001b[0m\u001b[0;34m.\u001b[0m\u001b[0m_buffer\u001b[0m\u001b[0;34m[\u001b[0m\u001b[0;34m:\u001b[0m\u001b[0;34m]\u001b[0m\u001b[0;34m\u001b[0m\u001b[0;34m\u001b[0m\u001b[0m\n\u001b[0;32m-> 1032\u001b[0;31m         \u001b[0mself\u001b[0m\u001b[0;34m.\u001b[0m\u001b[0msend\u001b[0m\u001b[0;34m(\u001b[0m\u001b[0mmsg\u001b[0m\u001b[0;34m)\u001b[0m\u001b[0;34m\u001b[0m\u001b[0;34m\u001b[0m\u001b[0m\n\u001b[0m\u001b[1;32m   1033\u001b[0m \u001b[0;34m\u001b[0m\u001b[0m\n",
      "\u001b[0;32m~/anaconda3/envs/aiffel/lib/python3.7/http/client.py\u001b[0m in \u001b[0;36msend\u001b[0;34m(self, data)\u001b[0m\n\u001b[1;32m    971\u001b[0m             \u001b[0;32mif\u001b[0m \u001b[0mself\u001b[0m\u001b[0;34m.\u001b[0m\u001b[0mauto_open\u001b[0m\u001b[0;34m:\u001b[0m\u001b[0;34m\u001b[0m\u001b[0;34m\u001b[0m\u001b[0m\n\u001b[0;32m--> 972\u001b[0;31m                 \u001b[0mself\u001b[0m\u001b[0;34m.\u001b[0m\u001b[0mconnect\u001b[0m\u001b[0;34m(\u001b[0m\u001b[0;34m)\u001b[0m\u001b[0;34m\u001b[0m\u001b[0;34m\u001b[0m\u001b[0m\n\u001b[0m\u001b[1;32m    973\u001b[0m             \u001b[0;32melse\u001b[0m\u001b[0;34m:\u001b[0m\u001b[0;34m\u001b[0m\u001b[0;34m\u001b[0m\u001b[0m\n",
      "\u001b[0;32m~/anaconda3/envs/aiffel/lib/python3.7/http/client.py\u001b[0m in \u001b[0;36mconnect\u001b[0;34m(self)\u001b[0m\n\u001b[1;32m   1438\u001b[0m \u001b[0;34m\u001b[0m\u001b[0m\n\u001b[0;32m-> 1439\u001b[0;31m             \u001b[0msuper\u001b[0m\u001b[0;34m(\u001b[0m\u001b[0;34m)\u001b[0m\u001b[0;34m.\u001b[0m\u001b[0mconnect\u001b[0m\u001b[0;34m(\u001b[0m\u001b[0;34m)\u001b[0m\u001b[0;34m\u001b[0m\u001b[0;34m\u001b[0m\u001b[0m\n\u001b[0m\u001b[1;32m   1440\u001b[0m \u001b[0;34m\u001b[0m\u001b[0m\n",
      "\u001b[0;32m~/anaconda3/envs/aiffel/lib/python3.7/http/client.py\u001b[0m in \u001b[0;36mconnect\u001b[0;34m(self)\u001b[0m\n\u001b[1;32m    943\u001b[0m         self.sock = self._create_connection(\n\u001b[0;32m--> 944\u001b[0;31m             (self.host,self.port), self.timeout, self.source_address)\n\u001b[0m\u001b[1;32m    945\u001b[0m         \u001b[0mself\u001b[0m\u001b[0;34m.\u001b[0m\u001b[0msock\u001b[0m\u001b[0;34m.\u001b[0m\u001b[0msetsockopt\u001b[0m\u001b[0;34m(\u001b[0m\u001b[0msocket\u001b[0m\u001b[0;34m.\u001b[0m\u001b[0mIPPROTO_TCP\u001b[0m\u001b[0;34m,\u001b[0m \u001b[0msocket\u001b[0m\u001b[0;34m.\u001b[0m\u001b[0mTCP_NODELAY\u001b[0m\u001b[0;34m,\u001b[0m \u001b[0;36m1\u001b[0m\u001b[0;34m)\u001b[0m\u001b[0;34m\u001b[0m\u001b[0;34m\u001b[0m\u001b[0m\n",
      "\u001b[0;32m~/anaconda3/envs/aiffel/lib/python3.7/socket.py\u001b[0m in \u001b[0;36mcreate_connection\u001b[0;34m(address, timeout, source_address)\u001b[0m\n\u001b[1;32m    706\u001b[0m     \u001b[0merr\u001b[0m \u001b[0;34m=\u001b[0m \u001b[0;32mNone\u001b[0m\u001b[0;34m\u001b[0m\u001b[0;34m\u001b[0m\u001b[0m\n\u001b[0;32m--> 707\u001b[0;31m     \u001b[0;32mfor\u001b[0m \u001b[0mres\u001b[0m \u001b[0;32min\u001b[0m \u001b[0mgetaddrinfo\u001b[0m\u001b[0;34m(\u001b[0m\u001b[0mhost\u001b[0m\u001b[0;34m,\u001b[0m \u001b[0mport\u001b[0m\u001b[0;34m,\u001b[0m \u001b[0;36m0\u001b[0m\u001b[0;34m,\u001b[0m \u001b[0mSOCK_STREAM\u001b[0m\u001b[0;34m)\u001b[0m\u001b[0;34m:\u001b[0m\u001b[0;34m\u001b[0m\u001b[0;34m\u001b[0m\u001b[0m\n\u001b[0m\u001b[1;32m    708\u001b[0m         \u001b[0maf\u001b[0m\u001b[0;34m,\u001b[0m \u001b[0msocktype\u001b[0m\u001b[0;34m,\u001b[0m \u001b[0mproto\u001b[0m\u001b[0;34m,\u001b[0m \u001b[0mcanonname\u001b[0m\u001b[0;34m,\u001b[0m \u001b[0msa\u001b[0m \u001b[0;34m=\u001b[0m \u001b[0mres\u001b[0m\u001b[0;34m\u001b[0m\u001b[0;34m\u001b[0m\u001b[0m\n",
      "\u001b[0;32m~/anaconda3/envs/aiffel/lib/python3.7/socket.py\u001b[0m in \u001b[0;36mgetaddrinfo\u001b[0;34m(host, port, family, type, proto, flags)\u001b[0m\n\u001b[1;32m    751\u001b[0m     \u001b[0maddrlist\u001b[0m \u001b[0;34m=\u001b[0m \u001b[0;34m[\u001b[0m\u001b[0;34m]\u001b[0m\u001b[0;34m\u001b[0m\u001b[0;34m\u001b[0m\u001b[0m\n\u001b[0;32m--> 752\u001b[0;31m     \u001b[0;32mfor\u001b[0m \u001b[0mres\u001b[0m \u001b[0;32min\u001b[0m \u001b[0m_socket\u001b[0m\u001b[0;34m.\u001b[0m\u001b[0mgetaddrinfo\u001b[0m\u001b[0;34m(\u001b[0m\u001b[0mhost\u001b[0m\u001b[0;34m,\u001b[0m \u001b[0mport\u001b[0m\u001b[0;34m,\u001b[0m \u001b[0mfamily\u001b[0m\u001b[0;34m,\u001b[0m \u001b[0mtype\u001b[0m\u001b[0;34m,\u001b[0m \u001b[0mproto\u001b[0m\u001b[0;34m,\u001b[0m \u001b[0mflags\u001b[0m\u001b[0;34m)\u001b[0m\u001b[0;34m:\u001b[0m\u001b[0;34m\u001b[0m\u001b[0;34m\u001b[0m\u001b[0m\n\u001b[0m\u001b[1;32m    753\u001b[0m         \u001b[0maf\u001b[0m\u001b[0;34m,\u001b[0m \u001b[0msocktype\u001b[0m\u001b[0;34m,\u001b[0m \u001b[0mproto\u001b[0m\u001b[0;34m,\u001b[0m \u001b[0mcanonname\u001b[0m\u001b[0;34m,\u001b[0m \u001b[0msa\u001b[0m \u001b[0;34m=\u001b[0m \u001b[0mres\u001b[0m\u001b[0;34m\u001b[0m\u001b[0;34m\u001b[0m\u001b[0m\n",
      "\u001b[0;31mgaierror\u001b[0m: [Errno -2] Name or service not known",
      "\nDuring handling of the above exception, another exception occurred:\n",
      "\u001b[0;31mURLError\u001b[0m                                  Traceback (most recent call last)",
      "\u001b[0;32m<ipython-input-8-47c76b8f7cd8>\u001b[0m in \u001b[0;36m<module>\u001b[0;34m\u001b[0m\n\u001b[1;32m      1\u001b[0m \u001b[0;32mfor\u001b[0m \u001b[0mword\u001b[0m \u001b[0;32min\u001b[0m \u001b[0mcomplete_keyword\u001b[0m\u001b[0;34m[\u001b[0m\u001b[0;36m14\u001b[0m\u001b[0;34m:\u001b[0m\u001b[0;34m-\u001b[0m\u001b[0;36m1\u001b[0m\u001b[0;34m]\u001b[0m\u001b[0;34m:\u001b[0m\u001b[0;34m\u001b[0m\u001b[0;34m\u001b[0m\u001b[0m\n\u001b[0;32m----> 2\u001b[0;31m     \u001b[0mnaver_blog_crawling\u001b[0m\u001b[0;34m(\u001b[0m\u001b[0mdata_dir\u001b[0m\u001b[0;34m,\u001b[0m \u001b[0mword\u001b[0m\u001b[0;34m,\u001b[0m \u001b[0;36m100\u001b[0m\u001b[0;34m,\u001b[0m \u001b[0;34m\"sim\"\u001b[0m\u001b[0;34m)\u001b[0m\u001b[0;34m\u001b[0m\u001b[0;34m\u001b[0m\u001b[0m\n\u001b[0m",
      "\u001b[0;32m<ipython-input-4-0c6d85106ebc>\u001b[0m in \u001b[0;36mnaver_blog_crawling\u001b[0;34m(data_dir, search_blog_keyword, display_count, sort_type)\u001b[0m\n\u001b[1;32m      1\u001b[0m \u001b[0;32mdef\u001b[0m \u001b[0mnaver_blog_crawling\u001b[0m\u001b[0;34m(\u001b[0m\u001b[0mdata_dir\u001b[0m\u001b[0;34m,\u001b[0m \u001b[0msearch_blog_keyword\u001b[0m\u001b[0;34m,\u001b[0m \u001b[0mdisplay_count\u001b[0m\u001b[0;34m,\u001b[0m \u001b[0msort_type\u001b[0m\u001b[0;34m)\u001b[0m\u001b[0;34m:\u001b[0m\u001b[0;34m\u001b[0m\u001b[0;34m\u001b[0m\u001b[0m\n\u001b[1;32m      2\u001b[0m     \u001b[0msearch_result_blog_page_count\u001b[0m \u001b[0;34m=\u001b[0m \u001b[0mget_blog_search_result_pagination_count\u001b[0m\u001b[0;34m(\u001b[0m\u001b[0msearch_blog_keyword\u001b[0m\u001b[0;34m,\u001b[0m \u001b[0mdisplay_count\u001b[0m\u001b[0;34m)\u001b[0m\u001b[0;34m\u001b[0m\u001b[0;34m\u001b[0m\u001b[0m\n\u001b[0;32m----> 3\u001b[0;31m     \u001b[0mget_blog_post\u001b[0m\u001b[0;34m(\u001b[0m\u001b[0mdata_dir\u001b[0m\u001b[0;34m,\u001b[0m \u001b[0msearch_blog_keyword\u001b[0m\u001b[0;34m,\u001b[0m \u001b[0mdisplay_count\u001b[0m\u001b[0;34m,\u001b[0m \u001b[0msearch_result_blog_page_count\u001b[0m\u001b[0;34m,\u001b[0m \u001b[0msort_type\u001b[0m\u001b[0;34m)\u001b[0m\u001b[0;34m\u001b[0m\u001b[0;34m\u001b[0m\u001b[0m\n\u001b[0m\u001b[1;32m      4\u001b[0m \u001b[0;34m\u001b[0m\u001b[0m\n\u001b[1;32m      5\u001b[0m \u001b[0;34m\u001b[0m\u001b[0m\n",
      "\u001b[0;32m<ipython-input-4-0c6d85106ebc>\u001b[0m in \u001b[0;36mget_blog_post\u001b[0;34m(data_dir, search_blog_keyword, display_count, search_result_blog_page_count, sort_type)\u001b[0m\n\u001b[1;32m     52\u001b[0m         \u001b[0mrequest\u001b[0m\u001b[0;34m.\u001b[0m\u001b[0madd_header\u001b[0m\u001b[0;34m(\u001b[0m\u001b[0;34m\"X-Naver-Client-Secret\"\u001b[0m\u001b[0;34m,\u001b[0m \u001b[0mnaver_client_secret\u001b[0m\u001b[0;34m)\u001b[0m\u001b[0;34m\u001b[0m\u001b[0;34m\u001b[0m\u001b[0m\n\u001b[1;32m     53\u001b[0m \u001b[0;34m\u001b[0m\u001b[0m\n\u001b[0;32m---> 54\u001b[0;31m         \u001b[0mresponse\u001b[0m \u001b[0;34m=\u001b[0m \u001b[0murllib\u001b[0m\u001b[0;34m.\u001b[0m\u001b[0mrequest\u001b[0m\u001b[0;34m.\u001b[0m\u001b[0murlopen\u001b[0m\u001b[0;34m(\u001b[0m\u001b[0mrequest\u001b[0m\u001b[0;34m)\u001b[0m\u001b[0;34m\u001b[0m\u001b[0;34m\u001b[0m\u001b[0m\n\u001b[0m\u001b[1;32m     55\u001b[0m         \u001b[0mresponse_code\u001b[0m \u001b[0;34m=\u001b[0m \u001b[0mresponse\u001b[0m\u001b[0;34m.\u001b[0m\u001b[0mgetcode\u001b[0m\u001b[0;34m(\u001b[0m\u001b[0;34m)\u001b[0m\u001b[0;34m\u001b[0m\u001b[0;34m\u001b[0m\u001b[0m\n\u001b[1;32m     56\u001b[0m \u001b[0;34m\u001b[0m\u001b[0m\n",
      "\u001b[0;32m~/anaconda3/envs/aiffel/lib/python3.7/urllib/request.py\u001b[0m in \u001b[0;36murlopen\u001b[0;34m(url, data, timeout, cafile, capath, cadefault, context)\u001b[0m\n\u001b[1;32m    220\u001b[0m     \u001b[0;32melse\u001b[0m\u001b[0;34m:\u001b[0m\u001b[0;34m\u001b[0m\u001b[0;34m\u001b[0m\u001b[0m\n\u001b[1;32m    221\u001b[0m         \u001b[0mopener\u001b[0m \u001b[0;34m=\u001b[0m \u001b[0m_opener\u001b[0m\u001b[0;34m\u001b[0m\u001b[0;34m\u001b[0m\u001b[0m\n\u001b[0;32m--> 222\u001b[0;31m     \u001b[0;32mreturn\u001b[0m \u001b[0mopener\u001b[0m\u001b[0;34m.\u001b[0m\u001b[0mopen\u001b[0m\u001b[0;34m(\u001b[0m\u001b[0murl\u001b[0m\u001b[0;34m,\u001b[0m \u001b[0mdata\u001b[0m\u001b[0;34m,\u001b[0m \u001b[0mtimeout\u001b[0m\u001b[0;34m)\u001b[0m\u001b[0;34m\u001b[0m\u001b[0;34m\u001b[0m\u001b[0m\n\u001b[0m\u001b[1;32m    223\u001b[0m \u001b[0;34m\u001b[0m\u001b[0m\n\u001b[1;32m    224\u001b[0m \u001b[0;32mdef\u001b[0m \u001b[0minstall_opener\u001b[0m\u001b[0;34m(\u001b[0m\u001b[0mopener\u001b[0m\u001b[0;34m)\u001b[0m\u001b[0;34m:\u001b[0m\u001b[0;34m\u001b[0m\u001b[0;34m\u001b[0m\u001b[0m\n",
      "\u001b[0;32m~/anaconda3/envs/aiffel/lib/python3.7/urllib/request.py\u001b[0m in \u001b[0;36mopen\u001b[0;34m(self, fullurl, data, timeout)\u001b[0m\n\u001b[1;32m    523\u001b[0m             \u001b[0mreq\u001b[0m \u001b[0;34m=\u001b[0m \u001b[0mmeth\u001b[0m\u001b[0;34m(\u001b[0m\u001b[0mreq\u001b[0m\u001b[0;34m)\u001b[0m\u001b[0;34m\u001b[0m\u001b[0;34m\u001b[0m\u001b[0m\n\u001b[1;32m    524\u001b[0m \u001b[0;34m\u001b[0m\u001b[0m\n\u001b[0;32m--> 525\u001b[0;31m         \u001b[0mresponse\u001b[0m \u001b[0;34m=\u001b[0m \u001b[0mself\u001b[0m\u001b[0;34m.\u001b[0m\u001b[0m_open\u001b[0m\u001b[0;34m(\u001b[0m\u001b[0mreq\u001b[0m\u001b[0;34m,\u001b[0m \u001b[0mdata\u001b[0m\u001b[0;34m)\u001b[0m\u001b[0;34m\u001b[0m\u001b[0;34m\u001b[0m\u001b[0m\n\u001b[0m\u001b[1;32m    526\u001b[0m \u001b[0;34m\u001b[0m\u001b[0m\n\u001b[1;32m    527\u001b[0m         \u001b[0;31m# post-process response\u001b[0m\u001b[0;34m\u001b[0m\u001b[0;34m\u001b[0m\u001b[0;34m\u001b[0m\u001b[0m\n",
      "\u001b[0;32m~/anaconda3/envs/aiffel/lib/python3.7/urllib/request.py\u001b[0m in \u001b[0;36m_open\u001b[0;34m(self, req, data)\u001b[0m\n\u001b[1;32m    541\u001b[0m         \u001b[0mprotocol\u001b[0m \u001b[0;34m=\u001b[0m \u001b[0mreq\u001b[0m\u001b[0;34m.\u001b[0m\u001b[0mtype\u001b[0m\u001b[0;34m\u001b[0m\u001b[0;34m\u001b[0m\u001b[0m\n\u001b[1;32m    542\u001b[0m         result = self._call_chain(self.handle_open, protocol, protocol +\n\u001b[0;32m--> 543\u001b[0;31m                                   '_open', req)\n\u001b[0m\u001b[1;32m    544\u001b[0m         \u001b[0;32mif\u001b[0m \u001b[0mresult\u001b[0m\u001b[0;34m:\u001b[0m\u001b[0;34m\u001b[0m\u001b[0;34m\u001b[0m\u001b[0m\n\u001b[1;32m    545\u001b[0m             \u001b[0;32mreturn\u001b[0m \u001b[0mresult\u001b[0m\u001b[0;34m\u001b[0m\u001b[0;34m\u001b[0m\u001b[0m\n",
      "\u001b[0;32m~/anaconda3/envs/aiffel/lib/python3.7/urllib/request.py\u001b[0m in \u001b[0;36m_call_chain\u001b[0;34m(self, chain, kind, meth_name, *args)\u001b[0m\n\u001b[1;32m    501\u001b[0m         \u001b[0;32mfor\u001b[0m \u001b[0mhandler\u001b[0m \u001b[0;32min\u001b[0m \u001b[0mhandlers\u001b[0m\u001b[0;34m:\u001b[0m\u001b[0;34m\u001b[0m\u001b[0;34m\u001b[0m\u001b[0m\n\u001b[1;32m    502\u001b[0m             \u001b[0mfunc\u001b[0m \u001b[0;34m=\u001b[0m \u001b[0mgetattr\u001b[0m\u001b[0;34m(\u001b[0m\u001b[0mhandler\u001b[0m\u001b[0;34m,\u001b[0m \u001b[0mmeth_name\u001b[0m\u001b[0;34m)\u001b[0m\u001b[0;34m\u001b[0m\u001b[0;34m\u001b[0m\u001b[0m\n\u001b[0;32m--> 503\u001b[0;31m             \u001b[0mresult\u001b[0m \u001b[0;34m=\u001b[0m \u001b[0mfunc\u001b[0m\u001b[0;34m(\u001b[0m\u001b[0;34m*\u001b[0m\u001b[0margs\u001b[0m\u001b[0;34m)\u001b[0m\u001b[0;34m\u001b[0m\u001b[0;34m\u001b[0m\u001b[0m\n\u001b[0m\u001b[1;32m    504\u001b[0m             \u001b[0;32mif\u001b[0m \u001b[0mresult\u001b[0m \u001b[0;32mis\u001b[0m \u001b[0;32mnot\u001b[0m \u001b[0;32mNone\u001b[0m\u001b[0;34m:\u001b[0m\u001b[0;34m\u001b[0m\u001b[0;34m\u001b[0m\u001b[0m\n\u001b[1;32m    505\u001b[0m                 \u001b[0;32mreturn\u001b[0m \u001b[0mresult\u001b[0m\u001b[0;34m\u001b[0m\u001b[0;34m\u001b[0m\u001b[0m\n",
      "\u001b[0;32m~/anaconda3/envs/aiffel/lib/python3.7/urllib/request.py\u001b[0m in \u001b[0;36mhttps_open\u001b[0;34m(self, req)\u001b[0m\n\u001b[1;32m   1391\u001b[0m         \u001b[0;32mdef\u001b[0m \u001b[0mhttps_open\u001b[0m\u001b[0;34m(\u001b[0m\u001b[0mself\u001b[0m\u001b[0;34m,\u001b[0m \u001b[0mreq\u001b[0m\u001b[0;34m)\u001b[0m\u001b[0;34m:\u001b[0m\u001b[0;34m\u001b[0m\u001b[0;34m\u001b[0m\u001b[0m\n\u001b[1;32m   1392\u001b[0m             return self.do_open(http.client.HTTPSConnection, req,\n\u001b[0;32m-> 1393\u001b[0;31m                 context=self._context, check_hostname=self._check_hostname)\n\u001b[0m\u001b[1;32m   1394\u001b[0m \u001b[0;34m\u001b[0m\u001b[0m\n\u001b[1;32m   1395\u001b[0m         \u001b[0mhttps_request\u001b[0m \u001b[0;34m=\u001b[0m \u001b[0mAbstractHTTPHandler\u001b[0m\u001b[0;34m.\u001b[0m\u001b[0mdo_request_\u001b[0m\u001b[0;34m\u001b[0m\u001b[0;34m\u001b[0m\u001b[0m\n",
      "\u001b[0;32m~/anaconda3/envs/aiffel/lib/python3.7/urllib/request.py\u001b[0m in \u001b[0;36mdo_open\u001b[0;34m(self, http_class, req, **http_conn_args)\u001b[0m\n\u001b[1;32m   1350\u001b[0m                           encode_chunked=req.has_header('Transfer-encoding'))\n\u001b[1;32m   1351\u001b[0m             \u001b[0;32mexcept\u001b[0m \u001b[0mOSError\u001b[0m \u001b[0;32mas\u001b[0m \u001b[0merr\u001b[0m\u001b[0;34m:\u001b[0m \u001b[0;31m# timeout error\u001b[0m\u001b[0;34m\u001b[0m\u001b[0;34m\u001b[0m\u001b[0m\n\u001b[0;32m-> 1352\u001b[0;31m                 \u001b[0;32mraise\u001b[0m \u001b[0mURLError\u001b[0m\u001b[0;34m(\u001b[0m\u001b[0merr\u001b[0m\u001b[0;34m)\u001b[0m\u001b[0;34m\u001b[0m\u001b[0;34m\u001b[0m\u001b[0m\n\u001b[0m\u001b[1;32m   1353\u001b[0m             \u001b[0mr\u001b[0m \u001b[0;34m=\u001b[0m \u001b[0mh\u001b[0m\u001b[0;34m.\u001b[0m\u001b[0mgetresponse\u001b[0m\u001b[0;34m(\u001b[0m\u001b[0;34m)\u001b[0m\u001b[0;34m\u001b[0m\u001b[0;34m\u001b[0m\u001b[0m\n\u001b[1;32m   1354\u001b[0m         \u001b[0;32mexcept\u001b[0m\u001b[0;34m:\u001b[0m\u001b[0;34m\u001b[0m\u001b[0;34m\u001b[0m\u001b[0m\n",
      "\u001b[0;31mURLError\u001b[0m: <urlopen error [Errno -2] Name or service not known>"
     ]
    }
   ],
   "source": [
    "# for word in complete_keyword[14:-1]:\n",
    "#     naver_blog_crawling(data_dir, word, 100, \"sim\")    "
   ]
  },
  {
   "cell_type": "code",
   "execution_count": 13,
   "metadata": {
    "scrolled": true
   },
   "outputs": [
    {
     "name": "stdout",
     "output_type": "stream",
     "text": [
      "키워드 대전둘레산길 여행 대전에 해당하는 포스팅 수 : 38243\n",
      "키워드 대전둘레산길 여행 대전에 해당하는 블로그 실제 페이징 수 : 383\n",
      "키워드 대전둘레산길 여행 대전에 해당하는 블로그 처리할 수 있는 페이징 수 : 383\n"
     ]
    },
    {
     "ename": "HTTPError",
     "evalue": "HTTP Error 504: Gateway Time-out",
     "output_type": "error",
     "traceback": [
      "\u001b[0;31m---------------------------------------------------------------------------\u001b[0m",
      "\u001b[0;31mHTTPError\u001b[0m                                 Traceback (most recent call last)",
      "\u001b[0;32m<ipython-input-13-257def5c6ee6>\u001b[0m in \u001b[0;36m<module>\u001b[0;34m\u001b[0m\n\u001b[1;32m      1\u001b[0m \u001b[0;32mfor\u001b[0m \u001b[0mword\u001b[0m \u001b[0;32min\u001b[0m \u001b[0mcomplete_keyword\u001b[0m\u001b[0;34m[\u001b[0m\u001b[0;36m43\u001b[0m\u001b[0;34m:\u001b[0m\u001b[0;34m-\u001b[0m\u001b[0;36m1\u001b[0m\u001b[0;34m]\u001b[0m\u001b[0;34m:\u001b[0m\u001b[0;34m\u001b[0m\u001b[0;34m\u001b[0m\u001b[0m\n\u001b[0;32m----> 2\u001b[0;31m     \u001b[0mnaver_blog_crawling\u001b[0m\u001b[0;34m(\u001b[0m\u001b[0mdata_dir\u001b[0m\u001b[0;34m,\u001b[0m \u001b[0mword\u001b[0m\u001b[0;34m,\u001b[0m \u001b[0;36m100\u001b[0m\u001b[0;34m,\u001b[0m \u001b[0;34m\"sim\"\u001b[0m\u001b[0;34m)\u001b[0m\u001b[0;34m\u001b[0m\u001b[0;34m\u001b[0m\u001b[0m\n\u001b[0m",
      "\u001b[0;32m<ipython-input-4-0c6d85106ebc>\u001b[0m in \u001b[0;36mnaver_blog_crawling\u001b[0;34m(data_dir, search_blog_keyword, display_count, sort_type)\u001b[0m\n\u001b[1;32m      1\u001b[0m \u001b[0;32mdef\u001b[0m \u001b[0mnaver_blog_crawling\u001b[0m\u001b[0;34m(\u001b[0m\u001b[0mdata_dir\u001b[0m\u001b[0;34m,\u001b[0m \u001b[0msearch_blog_keyword\u001b[0m\u001b[0;34m,\u001b[0m \u001b[0mdisplay_count\u001b[0m\u001b[0;34m,\u001b[0m \u001b[0msort_type\u001b[0m\u001b[0;34m)\u001b[0m\u001b[0;34m:\u001b[0m\u001b[0;34m\u001b[0m\u001b[0;34m\u001b[0m\u001b[0m\n\u001b[1;32m      2\u001b[0m     \u001b[0msearch_result_blog_page_count\u001b[0m \u001b[0;34m=\u001b[0m \u001b[0mget_blog_search_result_pagination_count\u001b[0m\u001b[0;34m(\u001b[0m\u001b[0msearch_blog_keyword\u001b[0m\u001b[0;34m,\u001b[0m \u001b[0mdisplay_count\u001b[0m\u001b[0;34m)\u001b[0m\u001b[0;34m\u001b[0m\u001b[0;34m\u001b[0m\u001b[0m\n\u001b[0;32m----> 3\u001b[0;31m     \u001b[0mget_blog_post\u001b[0m\u001b[0;34m(\u001b[0m\u001b[0mdata_dir\u001b[0m\u001b[0;34m,\u001b[0m \u001b[0msearch_blog_keyword\u001b[0m\u001b[0;34m,\u001b[0m \u001b[0mdisplay_count\u001b[0m\u001b[0;34m,\u001b[0m \u001b[0msearch_result_blog_page_count\u001b[0m\u001b[0;34m,\u001b[0m \u001b[0msort_type\u001b[0m\u001b[0;34m)\u001b[0m\u001b[0;34m\u001b[0m\u001b[0;34m\u001b[0m\u001b[0m\n\u001b[0m\u001b[1;32m      4\u001b[0m \u001b[0;34m\u001b[0m\u001b[0m\n\u001b[1;32m      5\u001b[0m \u001b[0;34m\u001b[0m\u001b[0m\n",
      "\u001b[0;32m<ipython-input-4-0c6d85106ebc>\u001b[0m in \u001b[0;36mget_blog_post\u001b[0;34m(data_dir, search_blog_keyword, display_count, search_result_blog_page_count, sort_type)\u001b[0m\n\u001b[1;32m     52\u001b[0m         \u001b[0mrequest\u001b[0m\u001b[0;34m.\u001b[0m\u001b[0madd_header\u001b[0m\u001b[0;34m(\u001b[0m\u001b[0;34m\"X-Naver-Client-Secret\"\u001b[0m\u001b[0;34m,\u001b[0m \u001b[0mnaver_client_secret\u001b[0m\u001b[0;34m)\u001b[0m\u001b[0;34m\u001b[0m\u001b[0;34m\u001b[0m\u001b[0m\n\u001b[1;32m     53\u001b[0m \u001b[0;34m\u001b[0m\u001b[0m\n\u001b[0;32m---> 54\u001b[0;31m         \u001b[0mresponse\u001b[0m \u001b[0;34m=\u001b[0m \u001b[0murllib\u001b[0m\u001b[0;34m.\u001b[0m\u001b[0mrequest\u001b[0m\u001b[0;34m.\u001b[0m\u001b[0murlopen\u001b[0m\u001b[0;34m(\u001b[0m\u001b[0mrequest\u001b[0m\u001b[0;34m)\u001b[0m\u001b[0;34m\u001b[0m\u001b[0;34m\u001b[0m\u001b[0m\n\u001b[0m\u001b[1;32m     55\u001b[0m         \u001b[0mresponse_code\u001b[0m \u001b[0;34m=\u001b[0m \u001b[0mresponse\u001b[0m\u001b[0;34m.\u001b[0m\u001b[0mgetcode\u001b[0m\u001b[0;34m(\u001b[0m\u001b[0;34m)\u001b[0m\u001b[0;34m\u001b[0m\u001b[0;34m\u001b[0m\u001b[0m\n\u001b[1;32m     56\u001b[0m \u001b[0;34m\u001b[0m\u001b[0m\n",
      "\u001b[0;32m~/anaconda3/envs/aiffel/lib/python3.7/urllib/request.py\u001b[0m in \u001b[0;36murlopen\u001b[0;34m(url, data, timeout, cafile, capath, cadefault, context)\u001b[0m\n\u001b[1;32m    220\u001b[0m     \u001b[0;32melse\u001b[0m\u001b[0;34m:\u001b[0m\u001b[0;34m\u001b[0m\u001b[0;34m\u001b[0m\u001b[0m\n\u001b[1;32m    221\u001b[0m         \u001b[0mopener\u001b[0m \u001b[0;34m=\u001b[0m \u001b[0m_opener\u001b[0m\u001b[0;34m\u001b[0m\u001b[0;34m\u001b[0m\u001b[0m\n\u001b[0;32m--> 222\u001b[0;31m     \u001b[0;32mreturn\u001b[0m \u001b[0mopener\u001b[0m\u001b[0;34m.\u001b[0m\u001b[0mopen\u001b[0m\u001b[0;34m(\u001b[0m\u001b[0murl\u001b[0m\u001b[0;34m,\u001b[0m \u001b[0mdata\u001b[0m\u001b[0;34m,\u001b[0m \u001b[0mtimeout\u001b[0m\u001b[0;34m)\u001b[0m\u001b[0;34m\u001b[0m\u001b[0;34m\u001b[0m\u001b[0m\n\u001b[0m\u001b[1;32m    223\u001b[0m \u001b[0;34m\u001b[0m\u001b[0m\n\u001b[1;32m    224\u001b[0m \u001b[0;32mdef\u001b[0m \u001b[0minstall_opener\u001b[0m\u001b[0;34m(\u001b[0m\u001b[0mopener\u001b[0m\u001b[0;34m)\u001b[0m\u001b[0;34m:\u001b[0m\u001b[0;34m\u001b[0m\u001b[0;34m\u001b[0m\u001b[0m\n",
      "\u001b[0;32m~/anaconda3/envs/aiffel/lib/python3.7/urllib/request.py\u001b[0m in \u001b[0;36mopen\u001b[0;34m(self, fullurl, data, timeout)\u001b[0m\n\u001b[1;32m    529\u001b[0m         \u001b[0;32mfor\u001b[0m \u001b[0mprocessor\u001b[0m \u001b[0;32min\u001b[0m \u001b[0mself\u001b[0m\u001b[0;34m.\u001b[0m\u001b[0mprocess_response\u001b[0m\u001b[0;34m.\u001b[0m\u001b[0mget\u001b[0m\u001b[0;34m(\u001b[0m\u001b[0mprotocol\u001b[0m\u001b[0;34m,\u001b[0m \u001b[0;34m[\u001b[0m\u001b[0;34m]\u001b[0m\u001b[0;34m)\u001b[0m\u001b[0;34m:\u001b[0m\u001b[0;34m\u001b[0m\u001b[0;34m\u001b[0m\u001b[0m\n\u001b[1;32m    530\u001b[0m             \u001b[0mmeth\u001b[0m \u001b[0;34m=\u001b[0m \u001b[0mgetattr\u001b[0m\u001b[0;34m(\u001b[0m\u001b[0mprocessor\u001b[0m\u001b[0;34m,\u001b[0m \u001b[0mmeth_name\u001b[0m\u001b[0;34m)\u001b[0m\u001b[0;34m\u001b[0m\u001b[0;34m\u001b[0m\u001b[0m\n\u001b[0;32m--> 531\u001b[0;31m             \u001b[0mresponse\u001b[0m \u001b[0;34m=\u001b[0m \u001b[0mmeth\u001b[0m\u001b[0;34m(\u001b[0m\u001b[0mreq\u001b[0m\u001b[0;34m,\u001b[0m \u001b[0mresponse\u001b[0m\u001b[0;34m)\u001b[0m\u001b[0;34m\u001b[0m\u001b[0;34m\u001b[0m\u001b[0m\n\u001b[0m\u001b[1;32m    532\u001b[0m \u001b[0;34m\u001b[0m\u001b[0m\n\u001b[1;32m    533\u001b[0m         \u001b[0;32mreturn\u001b[0m \u001b[0mresponse\u001b[0m\u001b[0;34m\u001b[0m\u001b[0;34m\u001b[0m\u001b[0m\n",
      "\u001b[0;32m~/anaconda3/envs/aiffel/lib/python3.7/urllib/request.py\u001b[0m in \u001b[0;36mhttp_response\u001b[0;34m(self, request, response)\u001b[0m\n\u001b[1;32m    639\u001b[0m         \u001b[0;32mif\u001b[0m \u001b[0;32mnot\u001b[0m \u001b[0;34m(\u001b[0m\u001b[0;36m200\u001b[0m \u001b[0;34m<=\u001b[0m \u001b[0mcode\u001b[0m \u001b[0;34m<\u001b[0m \u001b[0;36m300\u001b[0m\u001b[0;34m)\u001b[0m\u001b[0;34m:\u001b[0m\u001b[0;34m\u001b[0m\u001b[0;34m\u001b[0m\u001b[0m\n\u001b[1;32m    640\u001b[0m             response = self.parent.error(\n\u001b[0;32m--> 641\u001b[0;31m                 'http', request, response, code, msg, hdrs)\n\u001b[0m\u001b[1;32m    642\u001b[0m \u001b[0;34m\u001b[0m\u001b[0m\n\u001b[1;32m    643\u001b[0m         \u001b[0;32mreturn\u001b[0m \u001b[0mresponse\u001b[0m\u001b[0;34m\u001b[0m\u001b[0;34m\u001b[0m\u001b[0m\n",
      "\u001b[0;32m~/anaconda3/envs/aiffel/lib/python3.7/urllib/request.py\u001b[0m in \u001b[0;36merror\u001b[0;34m(self, proto, *args)\u001b[0m\n\u001b[1;32m    567\u001b[0m         \u001b[0;32mif\u001b[0m \u001b[0mhttp_err\u001b[0m\u001b[0;34m:\u001b[0m\u001b[0;34m\u001b[0m\u001b[0;34m\u001b[0m\u001b[0m\n\u001b[1;32m    568\u001b[0m             \u001b[0margs\u001b[0m \u001b[0;34m=\u001b[0m \u001b[0;34m(\u001b[0m\u001b[0mdict\u001b[0m\u001b[0;34m,\u001b[0m \u001b[0;34m'default'\u001b[0m\u001b[0;34m,\u001b[0m \u001b[0;34m'http_error_default'\u001b[0m\u001b[0;34m)\u001b[0m \u001b[0;34m+\u001b[0m \u001b[0morig_args\u001b[0m\u001b[0;34m\u001b[0m\u001b[0;34m\u001b[0m\u001b[0m\n\u001b[0;32m--> 569\u001b[0;31m             \u001b[0;32mreturn\u001b[0m \u001b[0mself\u001b[0m\u001b[0;34m.\u001b[0m\u001b[0m_call_chain\u001b[0m\u001b[0;34m(\u001b[0m\u001b[0;34m*\u001b[0m\u001b[0margs\u001b[0m\u001b[0;34m)\u001b[0m\u001b[0;34m\u001b[0m\u001b[0;34m\u001b[0m\u001b[0m\n\u001b[0m\u001b[1;32m    570\u001b[0m \u001b[0;34m\u001b[0m\u001b[0m\n\u001b[1;32m    571\u001b[0m \u001b[0;31m# XXX probably also want an abstract factory that knows when it makes\u001b[0m\u001b[0;34m\u001b[0m\u001b[0;34m\u001b[0m\u001b[0;34m\u001b[0m\u001b[0m\n",
      "\u001b[0;32m~/anaconda3/envs/aiffel/lib/python3.7/urllib/request.py\u001b[0m in \u001b[0;36m_call_chain\u001b[0;34m(self, chain, kind, meth_name, *args)\u001b[0m\n\u001b[1;32m    501\u001b[0m         \u001b[0;32mfor\u001b[0m \u001b[0mhandler\u001b[0m \u001b[0;32min\u001b[0m \u001b[0mhandlers\u001b[0m\u001b[0;34m:\u001b[0m\u001b[0;34m\u001b[0m\u001b[0;34m\u001b[0m\u001b[0m\n\u001b[1;32m    502\u001b[0m             \u001b[0mfunc\u001b[0m \u001b[0;34m=\u001b[0m \u001b[0mgetattr\u001b[0m\u001b[0;34m(\u001b[0m\u001b[0mhandler\u001b[0m\u001b[0;34m,\u001b[0m \u001b[0mmeth_name\u001b[0m\u001b[0;34m)\u001b[0m\u001b[0;34m\u001b[0m\u001b[0;34m\u001b[0m\u001b[0m\n\u001b[0;32m--> 503\u001b[0;31m             \u001b[0mresult\u001b[0m \u001b[0;34m=\u001b[0m \u001b[0mfunc\u001b[0m\u001b[0;34m(\u001b[0m\u001b[0;34m*\u001b[0m\u001b[0margs\u001b[0m\u001b[0;34m)\u001b[0m\u001b[0;34m\u001b[0m\u001b[0;34m\u001b[0m\u001b[0m\n\u001b[0m\u001b[1;32m    504\u001b[0m             \u001b[0;32mif\u001b[0m \u001b[0mresult\u001b[0m \u001b[0;32mis\u001b[0m \u001b[0;32mnot\u001b[0m \u001b[0;32mNone\u001b[0m\u001b[0;34m:\u001b[0m\u001b[0;34m\u001b[0m\u001b[0;34m\u001b[0m\u001b[0m\n\u001b[1;32m    505\u001b[0m                 \u001b[0;32mreturn\u001b[0m \u001b[0mresult\u001b[0m\u001b[0;34m\u001b[0m\u001b[0;34m\u001b[0m\u001b[0m\n",
      "\u001b[0;32m~/anaconda3/envs/aiffel/lib/python3.7/urllib/request.py\u001b[0m in \u001b[0;36mhttp_error_default\u001b[0;34m(self, req, fp, code, msg, hdrs)\u001b[0m\n\u001b[1;32m    647\u001b[0m \u001b[0;32mclass\u001b[0m \u001b[0mHTTPDefaultErrorHandler\u001b[0m\u001b[0;34m(\u001b[0m\u001b[0mBaseHandler\u001b[0m\u001b[0;34m)\u001b[0m\u001b[0;34m:\u001b[0m\u001b[0;34m\u001b[0m\u001b[0;34m\u001b[0m\u001b[0m\n\u001b[1;32m    648\u001b[0m     \u001b[0;32mdef\u001b[0m \u001b[0mhttp_error_default\u001b[0m\u001b[0;34m(\u001b[0m\u001b[0mself\u001b[0m\u001b[0;34m,\u001b[0m \u001b[0mreq\u001b[0m\u001b[0;34m,\u001b[0m \u001b[0mfp\u001b[0m\u001b[0;34m,\u001b[0m \u001b[0mcode\u001b[0m\u001b[0;34m,\u001b[0m \u001b[0mmsg\u001b[0m\u001b[0;34m,\u001b[0m \u001b[0mhdrs\u001b[0m\u001b[0;34m)\u001b[0m\u001b[0;34m:\u001b[0m\u001b[0;34m\u001b[0m\u001b[0;34m\u001b[0m\u001b[0m\n\u001b[0;32m--> 649\u001b[0;31m         \u001b[0;32mraise\u001b[0m \u001b[0mHTTPError\u001b[0m\u001b[0;34m(\u001b[0m\u001b[0mreq\u001b[0m\u001b[0;34m.\u001b[0m\u001b[0mfull_url\u001b[0m\u001b[0;34m,\u001b[0m \u001b[0mcode\u001b[0m\u001b[0;34m,\u001b[0m \u001b[0mmsg\u001b[0m\u001b[0;34m,\u001b[0m \u001b[0mhdrs\u001b[0m\u001b[0;34m,\u001b[0m \u001b[0mfp\u001b[0m\u001b[0;34m)\u001b[0m\u001b[0;34m\u001b[0m\u001b[0;34m\u001b[0m\u001b[0m\n\u001b[0m\u001b[1;32m    650\u001b[0m \u001b[0;34m\u001b[0m\u001b[0m\n\u001b[1;32m    651\u001b[0m \u001b[0;32mclass\u001b[0m \u001b[0mHTTPRedirectHandler\u001b[0m\u001b[0;34m(\u001b[0m\u001b[0mBaseHandler\u001b[0m\u001b[0;34m)\u001b[0m\u001b[0;34m:\u001b[0m\u001b[0;34m\u001b[0m\u001b[0;34m\u001b[0m\u001b[0m\n",
      "\u001b[0;31mHTTPError\u001b[0m: HTTP Error 504: Gateway Time-out"
     ]
    }
   ],
   "source": [
    "for word in complete_keyword[43:-1]:\n",
    "    naver_blog_crawling(data_dir, word, 100, \"sim\")  "
   ]
  },
  {
   "cell_type": "code",
   "execution_count": 14,
   "metadata": {
    "scrolled": true
   },
   "outputs": [
    {
     "name": "stdout",
     "output_type": "stream",
     "text": [
      "키워드 대전둘레산길 여행 주말에에 해당하는 포스팅 수 : 3186\n",
      "키워드 대전둘레산길 여행 주말에에 해당하는 블로그 실제 페이징 수 : 32\n",
      "키워드 대전둘레산길 여행 주말에에 해당하는 블로그 처리할 수 있는 페이징 수 : 32\n",
      "finish crawling !\n",
      "키워드 대전둘레산길 관광 후기에 해당하는 포스팅 수 : 4573\n",
      "키워드 대전둘레산길 관광 후기에 해당하는 블로그 실제 페이징 수 : 46\n",
      "키워드 대전둘레산길 관광 후기에 해당하는 블로그 처리할 수 있는 페이징 수 : 46\n",
      "finish crawling !\n",
      "키워드 대전둘레산길 관광 대전에 해당하는 포스팅 수 : 26899\n",
      "키워드 대전둘레산길 관광 대전에 해당하는 블로그 실제 페이징 수 : 269\n",
      "키워드 대전둘레산길 관광 대전에 해당하는 블로그 처리할 수 있는 페이징 수 : 269\n"
     ]
    },
    {
     "ename": "KeyboardInterrupt",
     "evalue": "",
     "output_type": "error",
     "traceback": [
      "\u001b[0;31m---------------------------------------------------------------------------\u001b[0m",
      "\u001b[0;31mKeyboardInterrupt\u001b[0m                         Traceback (most recent call last)",
      "\u001b[0;32m<ipython-input-14-c381c108bc12>\u001b[0m in \u001b[0;36m<module>\u001b[0;34m\u001b[0m\n\u001b[1;32m      1\u001b[0m \u001b[0;32mfor\u001b[0m \u001b[0mword\u001b[0m \u001b[0;32min\u001b[0m \u001b[0mcomplete_keyword\u001b[0m\u001b[0;34m[\u001b[0m\u001b[0;36m44\u001b[0m\u001b[0;34m:\u001b[0m\u001b[0;34m-\u001b[0m\u001b[0;36m1\u001b[0m\u001b[0;34m]\u001b[0m\u001b[0;34m:\u001b[0m\u001b[0;34m\u001b[0m\u001b[0;34m\u001b[0m\u001b[0m\n\u001b[0;32m----> 2\u001b[0;31m     \u001b[0mnaver_blog_crawling\u001b[0m\u001b[0;34m(\u001b[0m\u001b[0mdata_dir\u001b[0m\u001b[0;34m,\u001b[0m \u001b[0mword\u001b[0m\u001b[0;34m,\u001b[0m \u001b[0;36m100\u001b[0m\u001b[0;34m,\u001b[0m \u001b[0;34m\"sim\"\u001b[0m\u001b[0;34m)\u001b[0m\u001b[0;34m\u001b[0m\u001b[0;34m\u001b[0m\u001b[0m\n\u001b[0m",
      "\u001b[0;32m<ipython-input-4-0c6d85106ebc>\u001b[0m in \u001b[0;36mnaver_blog_crawling\u001b[0;34m(data_dir, search_blog_keyword, display_count, sort_type)\u001b[0m\n\u001b[1;32m      1\u001b[0m \u001b[0;32mdef\u001b[0m \u001b[0mnaver_blog_crawling\u001b[0m\u001b[0;34m(\u001b[0m\u001b[0mdata_dir\u001b[0m\u001b[0;34m,\u001b[0m \u001b[0msearch_blog_keyword\u001b[0m\u001b[0;34m,\u001b[0m \u001b[0mdisplay_count\u001b[0m\u001b[0;34m,\u001b[0m \u001b[0msort_type\u001b[0m\u001b[0;34m)\u001b[0m\u001b[0;34m:\u001b[0m\u001b[0;34m\u001b[0m\u001b[0;34m\u001b[0m\u001b[0m\n\u001b[1;32m      2\u001b[0m     \u001b[0msearch_result_blog_page_count\u001b[0m \u001b[0;34m=\u001b[0m \u001b[0mget_blog_search_result_pagination_count\u001b[0m\u001b[0;34m(\u001b[0m\u001b[0msearch_blog_keyword\u001b[0m\u001b[0;34m,\u001b[0m \u001b[0mdisplay_count\u001b[0m\u001b[0;34m)\u001b[0m\u001b[0;34m\u001b[0m\u001b[0;34m\u001b[0m\u001b[0m\n\u001b[0;32m----> 3\u001b[0;31m     \u001b[0mget_blog_post\u001b[0m\u001b[0;34m(\u001b[0m\u001b[0mdata_dir\u001b[0m\u001b[0;34m,\u001b[0m \u001b[0msearch_blog_keyword\u001b[0m\u001b[0;34m,\u001b[0m \u001b[0mdisplay_count\u001b[0m\u001b[0;34m,\u001b[0m \u001b[0msearch_result_blog_page_count\u001b[0m\u001b[0;34m,\u001b[0m \u001b[0msort_type\u001b[0m\u001b[0;34m)\u001b[0m\u001b[0;34m\u001b[0m\u001b[0;34m\u001b[0m\u001b[0m\n\u001b[0m\u001b[1;32m      4\u001b[0m \u001b[0;34m\u001b[0m\u001b[0m\n\u001b[1;32m      5\u001b[0m \u001b[0;34m\u001b[0m\u001b[0m\n",
      "\u001b[0;32m<ipython-input-4-0c6d85106ebc>\u001b[0m in \u001b[0;36mget_blog_post\u001b[0;34m(data_dir, search_blog_keyword, display_count, search_result_blog_page_count, sort_type)\u001b[0m\n\u001b[1;32m     52\u001b[0m         \u001b[0mrequest\u001b[0m\u001b[0;34m.\u001b[0m\u001b[0madd_header\u001b[0m\u001b[0;34m(\u001b[0m\u001b[0;34m\"X-Naver-Client-Secret\"\u001b[0m\u001b[0;34m,\u001b[0m \u001b[0mnaver_client_secret\u001b[0m\u001b[0;34m)\u001b[0m\u001b[0;34m\u001b[0m\u001b[0;34m\u001b[0m\u001b[0m\n\u001b[1;32m     53\u001b[0m \u001b[0;34m\u001b[0m\u001b[0m\n\u001b[0;32m---> 54\u001b[0;31m         \u001b[0mresponse\u001b[0m \u001b[0;34m=\u001b[0m \u001b[0murllib\u001b[0m\u001b[0;34m.\u001b[0m\u001b[0mrequest\u001b[0m\u001b[0;34m.\u001b[0m\u001b[0murlopen\u001b[0m\u001b[0;34m(\u001b[0m\u001b[0mrequest\u001b[0m\u001b[0;34m)\u001b[0m\u001b[0;34m\u001b[0m\u001b[0;34m\u001b[0m\u001b[0m\n\u001b[0m\u001b[1;32m     55\u001b[0m         \u001b[0mresponse_code\u001b[0m \u001b[0;34m=\u001b[0m \u001b[0mresponse\u001b[0m\u001b[0;34m.\u001b[0m\u001b[0mgetcode\u001b[0m\u001b[0;34m(\u001b[0m\u001b[0;34m)\u001b[0m\u001b[0;34m\u001b[0m\u001b[0;34m\u001b[0m\u001b[0m\n\u001b[1;32m     56\u001b[0m \u001b[0;34m\u001b[0m\u001b[0m\n",
      "\u001b[0;32m~/anaconda3/envs/aiffel/lib/python3.7/urllib/request.py\u001b[0m in \u001b[0;36murlopen\u001b[0;34m(url, data, timeout, cafile, capath, cadefault, context)\u001b[0m\n\u001b[1;32m    220\u001b[0m     \u001b[0;32melse\u001b[0m\u001b[0;34m:\u001b[0m\u001b[0;34m\u001b[0m\u001b[0;34m\u001b[0m\u001b[0m\n\u001b[1;32m    221\u001b[0m         \u001b[0mopener\u001b[0m \u001b[0;34m=\u001b[0m \u001b[0m_opener\u001b[0m\u001b[0;34m\u001b[0m\u001b[0;34m\u001b[0m\u001b[0m\n\u001b[0;32m--> 222\u001b[0;31m     \u001b[0;32mreturn\u001b[0m \u001b[0mopener\u001b[0m\u001b[0;34m.\u001b[0m\u001b[0mopen\u001b[0m\u001b[0;34m(\u001b[0m\u001b[0murl\u001b[0m\u001b[0;34m,\u001b[0m \u001b[0mdata\u001b[0m\u001b[0;34m,\u001b[0m \u001b[0mtimeout\u001b[0m\u001b[0;34m)\u001b[0m\u001b[0;34m\u001b[0m\u001b[0;34m\u001b[0m\u001b[0m\n\u001b[0m\u001b[1;32m    223\u001b[0m \u001b[0;34m\u001b[0m\u001b[0m\n\u001b[1;32m    224\u001b[0m \u001b[0;32mdef\u001b[0m \u001b[0minstall_opener\u001b[0m\u001b[0;34m(\u001b[0m\u001b[0mopener\u001b[0m\u001b[0;34m)\u001b[0m\u001b[0;34m:\u001b[0m\u001b[0;34m\u001b[0m\u001b[0;34m\u001b[0m\u001b[0m\n",
      "\u001b[0;32m~/anaconda3/envs/aiffel/lib/python3.7/urllib/request.py\u001b[0m in \u001b[0;36mopen\u001b[0;34m(self, fullurl, data, timeout)\u001b[0m\n\u001b[1;32m    523\u001b[0m             \u001b[0mreq\u001b[0m \u001b[0;34m=\u001b[0m \u001b[0mmeth\u001b[0m\u001b[0;34m(\u001b[0m\u001b[0mreq\u001b[0m\u001b[0;34m)\u001b[0m\u001b[0;34m\u001b[0m\u001b[0;34m\u001b[0m\u001b[0m\n\u001b[1;32m    524\u001b[0m \u001b[0;34m\u001b[0m\u001b[0m\n\u001b[0;32m--> 525\u001b[0;31m         \u001b[0mresponse\u001b[0m \u001b[0;34m=\u001b[0m \u001b[0mself\u001b[0m\u001b[0;34m.\u001b[0m\u001b[0m_open\u001b[0m\u001b[0;34m(\u001b[0m\u001b[0mreq\u001b[0m\u001b[0;34m,\u001b[0m \u001b[0mdata\u001b[0m\u001b[0;34m)\u001b[0m\u001b[0;34m\u001b[0m\u001b[0;34m\u001b[0m\u001b[0m\n\u001b[0m\u001b[1;32m    526\u001b[0m \u001b[0;34m\u001b[0m\u001b[0m\n\u001b[1;32m    527\u001b[0m         \u001b[0;31m# post-process response\u001b[0m\u001b[0;34m\u001b[0m\u001b[0;34m\u001b[0m\u001b[0;34m\u001b[0m\u001b[0m\n",
      "\u001b[0;32m~/anaconda3/envs/aiffel/lib/python3.7/urllib/request.py\u001b[0m in \u001b[0;36m_open\u001b[0;34m(self, req, data)\u001b[0m\n\u001b[1;32m    541\u001b[0m         \u001b[0mprotocol\u001b[0m \u001b[0;34m=\u001b[0m \u001b[0mreq\u001b[0m\u001b[0;34m.\u001b[0m\u001b[0mtype\u001b[0m\u001b[0;34m\u001b[0m\u001b[0;34m\u001b[0m\u001b[0m\n\u001b[1;32m    542\u001b[0m         result = self._call_chain(self.handle_open, protocol, protocol +\n\u001b[0;32m--> 543\u001b[0;31m                                   '_open', req)\n\u001b[0m\u001b[1;32m    544\u001b[0m         \u001b[0;32mif\u001b[0m \u001b[0mresult\u001b[0m\u001b[0;34m:\u001b[0m\u001b[0;34m\u001b[0m\u001b[0;34m\u001b[0m\u001b[0m\n\u001b[1;32m    545\u001b[0m             \u001b[0;32mreturn\u001b[0m \u001b[0mresult\u001b[0m\u001b[0;34m\u001b[0m\u001b[0;34m\u001b[0m\u001b[0m\n",
      "\u001b[0;32m~/anaconda3/envs/aiffel/lib/python3.7/urllib/request.py\u001b[0m in \u001b[0;36m_call_chain\u001b[0;34m(self, chain, kind, meth_name, *args)\u001b[0m\n\u001b[1;32m    501\u001b[0m         \u001b[0;32mfor\u001b[0m \u001b[0mhandler\u001b[0m \u001b[0;32min\u001b[0m \u001b[0mhandlers\u001b[0m\u001b[0;34m:\u001b[0m\u001b[0;34m\u001b[0m\u001b[0;34m\u001b[0m\u001b[0m\n\u001b[1;32m    502\u001b[0m             \u001b[0mfunc\u001b[0m \u001b[0;34m=\u001b[0m \u001b[0mgetattr\u001b[0m\u001b[0;34m(\u001b[0m\u001b[0mhandler\u001b[0m\u001b[0;34m,\u001b[0m \u001b[0mmeth_name\u001b[0m\u001b[0;34m)\u001b[0m\u001b[0;34m\u001b[0m\u001b[0;34m\u001b[0m\u001b[0m\n\u001b[0;32m--> 503\u001b[0;31m             \u001b[0mresult\u001b[0m \u001b[0;34m=\u001b[0m \u001b[0mfunc\u001b[0m\u001b[0;34m(\u001b[0m\u001b[0;34m*\u001b[0m\u001b[0margs\u001b[0m\u001b[0;34m)\u001b[0m\u001b[0;34m\u001b[0m\u001b[0;34m\u001b[0m\u001b[0m\n\u001b[0m\u001b[1;32m    504\u001b[0m             \u001b[0;32mif\u001b[0m \u001b[0mresult\u001b[0m \u001b[0;32mis\u001b[0m \u001b[0;32mnot\u001b[0m \u001b[0;32mNone\u001b[0m\u001b[0;34m:\u001b[0m\u001b[0;34m\u001b[0m\u001b[0;34m\u001b[0m\u001b[0m\n\u001b[1;32m    505\u001b[0m                 \u001b[0;32mreturn\u001b[0m \u001b[0mresult\u001b[0m\u001b[0;34m\u001b[0m\u001b[0;34m\u001b[0m\u001b[0m\n",
      "\u001b[0;32m~/anaconda3/envs/aiffel/lib/python3.7/urllib/request.py\u001b[0m in \u001b[0;36mhttps_open\u001b[0;34m(self, req)\u001b[0m\n\u001b[1;32m   1391\u001b[0m         \u001b[0;32mdef\u001b[0m \u001b[0mhttps_open\u001b[0m\u001b[0;34m(\u001b[0m\u001b[0mself\u001b[0m\u001b[0;34m,\u001b[0m \u001b[0mreq\u001b[0m\u001b[0;34m)\u001b[0m\u001b[0;34m:\u001b[0m\u001b[0;34m\u001b[0m\u001b[0;34m\u001b[0m\u001b[0m\n\u001b[1;32m   1392\u001b[0m             return self.do_open(http.client.HTTPSConnection, req,\n\u001b[0;32m-> 1393\u001b[0;31m                 context=self._context, check_hostname=self._check_hostname)\n\u001b[0m\u001b[1;32m   1394\u001b[0m \u001b[0;34m\u001b[0m\u001b[0m\n\u001b[1;32m   1395\u001b[0m         \u001b[0mhttps_request\u001b[0m \u001b[0;34m=\u001b[0m \u001b[0mAbstractHTTPHandler\u001b[0m\u001b[0;34m.\u001b[0m\u001b[0mdo_request_\u001b[0m\u001b[0;34m\u001b[0m\u001b[0;34m\u001b[0m\u001b[0m\n",
      "\u001b[0;32m~/anaconda3/envs/aiffel/lib/python3.7/urllib/request.py\u001b[0m in \u001b[0;36mdo_open\u001b[0;34m(self, http_class, req, **http_conn_args)\u001b[0m\n\u001b[1;32m   1351\u001b[0m             \u001b[0;32mexcept\u001b[0m \u001b[0mOSError\u001b[0m \u001b[0;32mas\u001b[0m \u001b[0merr\u001b[0m\u001b[0;34m:\u001b[0m \u001b[0;31m# timeout error\u001b[0m\u001b[0;34m\u001b[0m\u001b[0;34m\u001b[0m\u001b[0m\n\u001b[1;32m   1352\u001b[0m                 \u001b[0;32mraise\u001b[0m \u001b[0mURLError\u001b[0m\u001b[0;34m(\u001b[0m\u001b[0merr\u001b[0m\u001b[0;34m)\u001b[0m\u001b[0;34m\u001b[0m\u001b[0;34m\u001b[0m\u001b[0m\n\u001b[0;32m-> 1353\u001b[0;31m             \u001b[0mr\u001b[0m \u001b[0;34m=\u001b[0m \u001b[0mh\u001b[0m\u001b[0;34m.\u001b[0m\u001b[0mgetresponse\u001b[0m\u001b[0;34m(\u001b[0m\u001b[0;34m)\u001b[0m\u001b[0;34m\u001b[0m\u001b[0;34m\u001b[0m\u001b[0m\n\u001b[0m\u001b[1;32m   1354\u001b[0m         \u001b[0;32mexcept\u001b[0m\u001b[0;34m:\u001b[0m\u001b[0;34m\u001b[0m\u001b[0;34m\u001b[0m\u001b[0m\n\u001b[1;32m   1355\u001b[0m             \u001b[0mh\u001b[0m\u001b[0;34m.\u001b[0m\u001b[0mclose\u001b[0m\u001b[0;34m(\u001b[0m\u001b[0;34m)\u001b[0m\u001b[0;34m\u001b[0m\u001b[0;34m\u001b[0m\u001b[0m\n",
      "\u001b[0;32m~/anaconda3/envs/aiffel/lib/python3.7/http/client.py\u001b[0m in \u001b[0;36mgetresponse\u001b[0;34m(self)\u001b[0m\n\u001b[1;32m   1367\u001b[0m         \u001b[0;32mtry\u001b[0m\u001b[0;34m:\u001b[0m\u001b[0;34m\u001b[0m\u001b[0;34m\u001b[0m\u001b[0m\n\u001b[1;32m   1368\u001b[0m             \u001b[0;32mtry\u001b[0m\u001b[0;34m:\u001b[0m\u001b[0;34m\u001b[0m\u001b[0;34m\u001b[0m\u001b[0m\n\u001b[0;32m-> 1369\u001b[0;31m                 \u001b[0mresponse\u001b[0m\u001b[0;34m.\u001b[0m\u001b[0mbegin\u001b[0m\u001b[0;34m(\u001b[0m\u001b[0;34m)\u001b[0m\u001b[0;34m\u001b[0m\u001b[0;34m\u001b[0m\u001b[0m\n\u001b[0m\u001b[1;32m   1370\u001b[0m             \u001b[0;32mexcept\u001b[0m \u001b[0mConnectionError\u001b[0m\u001b[0;34m:\u001b[0m\u001b[0;34m\u001b[0m\u001b[0;34m\u001b[0m\u001b[0m\n\u001b[1;32m   1371\u001b[0m                 \u001b[0mself\u001b[0m\u001b[0;34m.\u001b[0m\u001b[0mclose\u001b[0m\u001b[0;34m(\u001b[0m\u001b[0;34m)\u001b[0m\u001b[0;34m\u001b[0m\u001b[0;34m\u001b[0m\u001b[0m\n",
      "\u001b[0;32m~/anaconda3/envs/aiffel/lib/python3.7/http/client.py\u001b[0m in \u001b[0;36mbegin\u001b[0;34m(self)\u001b[0m\n\u001b[1;32m    308\u001b[0m         \u001b[0;31m# read until we get a non-100 response\u001b[0m\u001b[0;34m\u001b[0m\u001b[0;34m\u001b[0m\u001b[0;34m\u001b[0m\u001b[0m\n\u001b[1;32m    309\u001b[0m         \u001b[0;32mwhile\u001b[0m \u001b[0;32mTrue\u001b[0m\u001b[0;34m:\u001b[0m\u001b[0;34m\u001b[0m\u001b[0;34m\u001b[0m\u001b[0m\n\u001b[0;32m--> 310\u001b[0;31m             \u001b[0mversion\u001b[0m\u001b[0;34m,\u001b[0m \u001b[0mstatus\u001b[0m\u001b[0;34m,\u001b[0m \u001b[0mreason\u001b[0m \u001b[0;34m=\u001b[0m \u001b[0mself\u001b[0m\u001b[0;34m.\u001b[0m\u001b[0m_read_status\u001b[0m\u001b[0;34m(\u001b[0m\u001b[0;34m)\u001b[0m\u001b[0;34m\u001b[0m\u001b[0;34m\u001b[0m\u001b[0m\n\u001b[0m\u001b[1;32m    311\u001b[0m             \u001b[0;32mif\u001b[0m \u001b[0mstatus\u001b[0m \u001b[0;34m!=\u001b[0m \u001b[0mCONTINUE\u001b[0m\u001b[0;34m:\u001b[0m\u001b[0;34m\u001b[0m\u001b[0;34m\u001b[0m\u001b[0m\n\u001b[1;32m    312\u001b[0m                 \u001b[0;32mbreak\u001b[0m\u001b[0;34m\u001b[0m\u001b[0;34m\u001b[0m\u001b[0m\n",
      "\u001b[0;32m~/anaconda3/envs/aiffel/lib/python3.7/http/client.py\u001b[0m in \u001b[0;36m_read_status\u001b[0;34m(self)\u001b[0m\n\u001b[1;32m    269\u001b[0m \u001b[0;34m\u001b[0m\u001b[0m\n\u001b[1;32m    270\u001b[0m     \u001b[0;32mdef\u001b[0m \u001b[0m_read_status\u001b[0m\u001b[0;34m(\u001b[0m\u001b[0mself\u001b[0m\u001b[0;34m)\u001b[0m\u001b[0;34m:\u001b[0m\u001b[0;34m\u001b[0m\u001b[0;34m\u001b[0m\u001b[0m\n\u001b[0;32m--> 271\u001b[0;31m         \u001b[0mline\u001b[0m \u001b[0;34m=\u001b[0m \u001b[0mstr\u001b[0m\u001b[0;34m(\u001b[0m\u001b[0mself\u001b[0m\u001b[0;34m.\u001b[0m\u001b[0mfp\u001b[0m\u001b[0;34m.\u001b[0m\u001b[0mreadline\u001b[0m\u001b[0;34m(\u001b[0m\u001b[0m_MAXLINE\u001b[0m \u001b[0;34m+\u001b[0m \u001b[0;36m1\u001b[0m\u001b[0;34m)\u001b[0m\u001b[0;34m,\u001b[0m \u001b[0;34m\"iso-8859-1\"\u001b[0m\u001b[0;34m)\u001b[0m\u001b[0;34m\u001b[0m\u001b[0;34m\u001b[0m\u001b[0m\n\u001b[0m\u001b[1;32m    272\u001b[0m         \u001b[0;32mif\u001b[0m \u001b[0mlen\u001b[0m\u001b[0;34m(\u001b[0m\u001b[0mline\u001b[0m\u001b[0;34m)\u001b[0m \u001b[0;34m>\u001b[0m \u001b[0m_MAXLINE\u001b[0m\u001b[0;34m:\u001b[0m\u001b[0;34m\u001b[0m\u001b[0;34m\u001b[0m\u001b[0m\n\u001b[1;32m    273\u001b[0m             \u001b[0;32mraise\u001b[0m \u001b[0mLineTooLong\u001b[0m\u001b[0;34m(\u001b[0m\u001b[0;34m\"status line\"\u001b[0m\u001b[0;34m)\u001b[0m\u001b[0;34m\u001b[0m\u001b[0;34m\u001b[0m\u001b[0m\n",
      "\u001b[0;32m~/anaconda3/envs/aiffel/lib/python3.7/socket.py\u001b[0m in \u001b[0;36mreadinto\u001b[0;34m(self, b)\u001b[0m\n\u001b[1;32m    587\u001b[0m         \u001b[0;32mwhile\u001b[0m \u001b[0;32mTrue\u001b[0m\u001b[0;34m:\u001b[0m\u001b[0;34m\u001b[0m\u001b[0;34m\u001b[0m\u001b[0m\n\u001b[1;32m    588\u001b[0m             \u001b[0;32mtry\u001b[0m\u001b[0;34m:\u001b[0m\u001b[0;34m\u001b[0m\u001b[0;34m\u001b[0m\u001b[0m\n\u001b[0;32m--> 589\u001b[0;31m                 \u001b[0;32mreturn\u001b[0m \u001b[0mself\u001b[0m\u001b[0;34m.\u001b[0m\u001b[0m_sock\u001b[0m\u001b[0;34m.\u001b[0m\u001b[0mrecv_into\u001b[0m\u001b[0;34m(\u001b[0m\u001b[0mb\u001b[0m\u001b[0;34m)\u001b[0m\u001b[0;34m\u001b[0m\u001b[0;34m\u001b[0m\u001b[0m\n\u001b[0m\u001b[1;32m    590\u001b[0m             \u001b[0;32mexcept\u001b[0m \u001b[0mtimeout\u001b[0m\u001b[0;34m:\u001b[0m\u001b[0;34m\u001b[0m\u001b[0;34m\u001b[0m\u001b[0m\n\u001b[1;32m    591\u001b[0m                 \u001b[0mself\u001b[0m\u001b[0;34m.\u001b[0m\u001b[0m_timeout_occurred\u001b[0m \u001b[0;34m=\u001b[0m \u001b[0;32mTrue\u001b[0m\u001b[0;34m\u001b[0m\u001b[0;34m\u001b[0m\u001b[0m\n",
      "\u001b[0;32m~/anaconda3/envs/aiffel/lib/python3.7/ssl.py\u001b[0m in \u001b[0;36mrecv_into\u001b[0;34m(self, buffer, nbytes, flags)\u001b[0m\n\u001b[1;32m   1069\u001b[0m                   \u001b[0;34m\"non-zero flags not allowed in calls to recv_into() on %s\"\u001b[0m \u001b[0;34m%\u001b[0m\u001b[0;34m\u001b[0m\u001b[0;34m\u001b[0m\u001b[0m\n\u001b[1;32m   1070\u001b[0m                   self.__class__)\n\u001b[0;32m-> 1071\u001b[0;31m             \u001b[0;32mreturn\u001b[0m \u001b[0mself\u001b[0m\u001b[0;34m.\u001b[0m\u001b[0mread\u001b[0m\u001b[0;34m(\u001b[0m\u001b[0mnbytes\u001b[0m\u001b[0;34m,\u001b[0m \u001b[0mbuffer\u001b[0m\u001b[0;34m)\u001b[0m\u001b[0;34m\u001b[0m\u001b[0;34m\u001b[0m\u001b[0m\n\u001b[0m\u001b[1;32m   1072\u001b[0m         \u001b[0;32melse\u001b[0m\u001b[0;34m:\u001b[0m\u001b[0;34m\u001b[0m\u001b[0;34m\u001b[0m\u001b[0m\n\u001b[1;32m   1073\u001b[0m             \u001b[0;32mreturn\u001b[0m \u001b[0msuper\u001b[0m\u001b[0;34m(\u001b[0m\u001b[0;34m)\u001b[0m\u001b[0;34m.\u001b[0m\u001b[0mrecv_into\u001b[0m\u001b[0;34m(\u001b[0m\u001b[0mbuffer\u001b[0m\u001b[0;34m,\u001b[0m \u001b[0mnbytes\u001b[0m\u001b[0;34m,\u001b[0m \u001b[0mflags\u001b[0m\u001b[0;34m)\u001b[0m\u001b[0;34m\u001b[0m\u001b[0;34m\u001b[0m\u001b[0m\n",
      "\u001b[0;32m~/anaconda3/envs/aiffel/lib/python3.7/ssl.py\u001b[0m in \u001b[0;36mread\u001b[0;34m(self, len, buffer)\u001b[0m\n\u001b[1;32m    927\u001b[0m         \u001b[0;32mtry\u001b[0m\u001b[0;34m:\u001b[0m\u001b[0;34m\u001b[0m\u001b[0;34m\u001b[0m\u001b[0m\n\u001b[1;32m    928\u001b[0m             \u001b[0;32mif\u001b[0m \u001b[0mbuffer\u001b[0m \u001b[0;32mis\u001b[0m \u001b[0;32mnot\u001b[0m \u001b[0;32mNone\u001b[0m\u001b[0;34m:\u001b[0m\u001b[0;34m\u001b[0m\u001b[0;34m\u001b[0m\u001b[0m\n\u001b[0;32m--> 929\u001b[0;31m                 \u001b[0;32mreturn\u001b[0m \u001b[0mself\u001b[0m\u001b[0;34m.\u001b[0m\u001b[0m_sslobj\u001b[0m\u001b[0;34m.\u001b[0m\u001b[0mread\u001b[0m\u001b[0;34m(\u001b[0m\u001b[0mlen\u001b[0m\u001b[0;34m,\u001b[0m \u001b[0mbuffer\u001b[0m\u001b[0;34m)\u001b[0m\u001b[0;34m\u001b[0m\u001b[0;34m\u001b[0m\u001b[0m\n\u001b[0m\u001b[1;32m    930\u001b[0m             \u001b[0;32melse\u001b[0m\u001b[0;34m:\u001b[0m\u001b[0;34m\u001b[0m\u001b[0;34m\u001b[0m\u001b[0m\n\u001b[1;32m    931\u001b[0m                 \u001b[0;32mreturn\u001b[0m \u001b[0mself\u001b[0m\u001b[0;34m.\u001b[0m\u001b[0m_sslobj\u001b[0m\u001b[0;34m.\u001b[0m\u001b[0mread\u001b[0m\u001b[0;34m(\u001b[0m\u001b[0mlen\u001b[0m\u001b[0;34m)\u001b[0m\u001b[0;34m\u001b[0m\u001b[0;34m\u001b[0m\u001b[0m\n",
      "\u001b[0;31mKeyboardInterrupt\u001b[0m: "
     ]
    }
   ],
   "source": [
    "for word in complete_keyword[44:-1]:\n",
    "    naver_blog_crawling(data_dir, word, 100, \"sim\")  "
   ]
  },
  {
   "cell_type": "code",
   "execution_count": null,
   "metadata": {
    "scrolled": true
   },
   "outputs": [
    {
     "name": "stdout",
     "output_type": "stream",
     "text": [
      "키워드 대전둘레산길 관광 주말에에 해당하는 포스팅 수 : 2232\n",
      "키워드 대전둘레산길 관광 주말에에 해당하는 블로그 실제 페이징 수 : 23\n",
      "키워드 대전둘레산길 관광 주말에에 해당하는 블로그 처리할 수 있는 페이징 수 : 23\n",
      "finish crawling !\n",
      "키워드 동춘당 여행 후기에 해당하는 포스팅 수 : 316\n",
      "키워드 동춘당 여행 후기에 해당하는 블로그 실제 페이징 수 : 4\n",
      "키워드 동춘당 여행 후기에 해당하는 블로그 처리할 수 있는 페이징 수 : 4\n",
      "finish crawling !\n",
      "키워드 동춘당 여행 대전에 해당하는 포스팅 수 : 1208\n",
      "키워드 동춘당 여행 대전에 해당하는 블로그 실제 페이징 수 : 13\n",
      "키워드 동춘당 여행 대전에 해당하는 블로그 처리할 수 있는 페이징 수 : 13\n",
      "finish crawling !\n",
      "키워드 동춘당 여행 주말에에 해당하는 포스팅 수 : 48\n",
      "키워드 동춘당 여행 주말에에 해당하는 블로그 실제 페이징 수 : 1\n",
      "키워드 동춘당 여행 주말에에 해당하는 블로그 처리할 수 있는 페이징 수 : 1\n",
      "finish crawling !\n",
      "키워드 동춘당 관광 후기에 해당하는 포스팅 수 : 184\n",
      "키워드 동춘당 관광 후기에 해당하는 블로그 실제 페이징 수 : 2\n",
      "키워드 동춘당 관광 후기에 해당하는 블로그 처리할 수 있는 페이징 수 : 2\n",
      "finish crawling !\n",
      "키워드 동춘당 관광 대전에 해당하는 포스팅 수 : 1048\n",
      "키워드 동춘당 관광 대전에 해당하는 블로그 실제 페이징 수 : 11\n",
      "키워드 동춘당 관광 대전에 해당하는 블로그 처리할 수 있는 페이징 수 : 11\n",
      "finish crawling !\n",
      "키워드 동춘당 관광 주말에에 해당하는 포스팅 수 : 30\n",
      "키워드 동춘당 관광 주말에에 해당하는 블로그 실제 페이징 수 : 1\n",
      "키워드 동춘당 관광 주말에에 해당하는 블로그 처리할 수 있는 페이징 수 : 1\n",
      "finish crawling !\n",
      "키워드 대전문화예술단지 여행 후기에 해당하는 포스팅 수 : 16125\n",
      "키워드 대전문화예술단지 여행 후기에 해당하는 블로그 실제 페이징 수 : 162\n",
      "키워드 대전문화예술단지 여행 후기에 해당하는 블로그 처리할 수 있는 페이징 수 : 162\n",
      "finish crawling !\n",
      "키워드 대전문화예술단지 여행 대전에 해당하는 포스팅 수 : 109222\n",
      "키워드 대전문화예술단지 여행 대전에 해당하는 블로그 실제 페이징 수 : 1093\n",
      "키워드 대전문화예술단지 여행 대전에 해당하는 블로그 처리할 수 있는 페이징 수 : 1000\n"
     ]
    }
   ],
   "source": [
    "for word in complete_keyword[47:-1]:\n",
    "    naver_blog_crawling(data_dir, word, 100, \"sim\")  "
   ]
  },
  {
   "cell_type": "code",
   "execution_count": null,
   "metadata": {},
   "outputs": [
    {
     "name": "stdout",
     "output_type": "stream",
     "text": [
      "키워드 으능정이문화의거리 여행 후기에 해당하는 포스팅 수 : 55\n",
      "키워드 으능정이문화의거리 여행 후기에 해당하는 블로그 실제 페이징 수 : 1\n",
      "키워드 으능정이문화의거리 여행 후기에 해당하는 블로그 처리할 수 있는 페이징 수 : 1\n",
      "finish crawling !\n",
      "키워드 으능정이문화의거리 여행 대전에 해당하는 포스팅 수 : 503\n",
      "키워드 으능정이문화의거리 여행 대전에 해당하는 블로그 실제 페이징 수 : 6\n",
      "키워드 으능정이문화의거리 여행 대전에 해당하는 블로그 처리할 수 있는 페이징 수 : 6\n",
      "finish crawling !\n",
      "키워드 으능정이문화의거리 여행 주말에에 해당하는 포스팅 수 : 169261\n",
      "키워드 으능정이문화의거리 여행 주말에에 해당하는 블로그 실제 페이징 수 : 1693\n",
      "키워드 으능정이문화의거리 여행 주말에에 해당하는 블로그 처리할 수 있는 페이징 수 : 1000\n"
     ]
    }
   ],
   "source": [
    "for word in complete_keyword[60:-1]:\n",
    "    naver_blog_crawling(data_dir, word, 100, \"date\")  "
   ]
  },
  {
   "cell_type": "code",
   "execution_count": null,
   "metadata": {},
   "outputs": [
    {
     "name": "stdout",
     "output_type": "stream",
     "text": [
      "키워드 으능정이문화의거리 여행 주말에에 해당하는 포스팅 수 : 169285\n",
      "키워드 으능정이문화의거리 여행 주말에에 해당하는 블로그 실제 페이징 수 : 1693\n",
      "키워드 으능정이문화의거리 여행 주말에에 해당하는 블로그 처리할 수 있는 페이징 수 : 1000\n"
     ]
    }
   ],
   "source": [
    "for word in complete_keyword[62:-1]:\n",
    "    naver_blog_crawling(data_dir, word, 100, \"date\")  "
   ]
  },
  {
   "cell_type": "code",
   "execution_count": null,
   "metadata": {
    "scrolled": true
   },
   "outputs": [
    {
     "name": "stdout",
     "output_type": "stream",
     "text": [
      "키워드 으능정이문화의거리 관광 후기에 해당하는 포스팅 수 : 23\n",
      "키워드 으능정이문화의거리 관광 후기에 해당하는 블로그 실제 페이징 수 : 1\n",
      "키워드 으능정이문화의거리 관광 후기에 해당하는 블로그 처리할 수 있는 페이징 수 : 1\n",
      "finish crawling !\n",
      "키워드 으능정이문화의거리 관광 대전에 해당하는 포스팅 수 : 333\n",
      "키워드 으능정이문화의거리 관광 대전에 해당하는 블로그 실제 페이징 수 : 4\n",
      "키워드 으능정이문화의거리 관광 대전에 해당하는 블로그 처리할 수 있는 페이징 수 : 4\n",
      "finish crawling !\n",
      "키워드 으능정이문화의거리 관광 주말에에 해당하는 포스팅 수 : 90562\n",
      "키워드 으능정이문화의거리 관광 주말에에 해당하는 블로그 실제 페이징 수 : 906\n",
      "키워드 으능정이문화의거리 관광 주말에에 해당하는 블로그 처리할 수 있는 페이징 수 : 906\n"
     ]
    }
   ],
   "source": [
    "for word in complete_keyword[63:-1]:\n",
    "    naver_blog_crawling(data_dir, word, 100, \"date\")  "
   ]
  },
  {
   "cell_type": "code",
   "execution_count": null,
   "metadata": {},
   "outputs": [
    {
     "name": "stdout",
     "output_type": "stream",
     "text": [
      "키워드 으능정이문화의거리 관광 주말에에 해당하는 포스팅 수 : 90565\n",
      "키워드 으능정이문화의거리 관광 주말에에 해당하는 블로그 실제 페이징 수 : 906\n",
      "키워드 으능정이문화의거리 관광 주말에에 해당하는 블로그 처리할 수 있는 페이징 수 : 906\n"
     ]
    }
   ],
   "source": [
    "for word in complete_keyword[65:-1]:\n",
    "    naver_blog_crawling(data_dir, word, 100, \"date\")  "
   ]
  },
  {
   "cell_type": "code",
   "execution_count": 8,
   "metadata": {},
   "outputs": [
    {
     "name": "stdout",
     "output_type": "stream",
     "text": [
      "키워드 유성온천 여행 후기에 해당하는 포스팅 수 : 1451\n",
      "키워드 유성온천 여행 후기에 해당하는 블로그 실제 페이징 수 : 15\n",
      "키워드 유성온천 여행 후기에 해당하는 블로그 처리할 수 있는 페이징 수 : 15\n",
      "finish crawling !\n",
      "키워드 유성온천 여행 대전에 해당하는 포스팅 수 : 8336\n",
      "키워드 유성온천 여행 대전에 해당하는 블로그 실제 페이징 수 : 84\n",
      "키워드 유성온천 여행 대전에 해당하는 블로그 처리할 수 있는 페이징 수 : 84\n",
      "finish crawling !\n",
      "키워드 유성온천 여행 주말에에 해당하는 포스팅 수 : 451\n",
      "키워드 유성온천 여행 주말에에 해당하는 블로그 실제 페이징 수 : 5\n",
      "키워드 유성온천 여행 주말에에 해당하는 블로그 처리할 수 있는 페이징 수 : 5\n",
      "finish crawling !\n",
      "키워드 유성온천 관광 후기에 해당하는 포스팅 수 : 579\n",
      "키워드 유성온천 관광 후기에 해당하는 블로그 실제 페이징 수 : 6\n",
      "키워드 유성온천 관광 후기에 해당하는 블로그 처리할 수 있는 페이징 수 : 6\n",
      "finish crawling !\n",
      "키워드 유성온천 관광 대전에 해당하는 포스팅 수 : 6637\n",
      "키워드 유성온천 관광 대전에 해당하는 블로그 실제 페이징 수 : 67\n",
      "키워드 유성온천 관광 대전에 해당하는 블로그 처리할 수 있는 페이징 수 : 67\n",
      "finish crawling !\n",
      "키워드 유성온천 관광 주말에에 해당하는 포스팅 수 : 182\n",
      "키워드 유성온천 관광 주말에에 해당하는 블로그 실제 페이징 수 : 2\n",
      "키워드 유성온천 관광 주말에에 해당하는 블로그 처리할 수 있는 페이징 수 : 2\n",
      "finish crawling !\n",
      "키워드 성심당 여행 후기에 해당하는 포스팅 수 : 3694\n",
      "키워드 성심당 여행 후기에 해당하는 블로그 실제 페이징 수 : 37\n",
      "키워드 성심당 여행 후기에 해당하는 블로그 처리할 수 있는 페이징 수 : 37\n",
      "finish crawling !\n",
      "키워드 성심당 여행 대전에 해당하는 포스팅 수 : 24387\n",
      "키워드 성심당 여행 대전에 해당하는 블로그 실제 페이징 수 : 244\n",
      "키워드 성심당 여행 대전에 해당하는 블로그 처리할 수 있는 페이징 수 : 244\n",
      "finish crawling !\n",
      "키워드 성심당 여행 주말에에 해당하는 포스팅 수 : 1358\n",
      "키워드 성심당 여행 주말에에 해당하는 블로그 실제 페이징 수 : 14\n",
      "키워드 성심당 여행 주말에에 해당하는 블로그 처리할 수 있는 페이징 수 : 14\n",
      "finish crawling !\n",
      "키워드 성심당 관광 후기에 해당하는 포스팅 수 : 527\n",
      "키워드 성심당 관광 후기에 해당하는 블로그 실제 페이징 수 : 6\n",
      "키워드 성심당 관광 후기에 해당하는 블로그 처리할 수 있는 페이징 수 : 6\n",
      "finish crawling !\n",
      "키워드 성심당 관광 대전에 해당하는 포스팅 수 : 3526\n",
      "키워드 성심당 관광 대전에 해당하는 블로그 실제 페이징 수 : 36\n",
      "키워드 성심당 관광 대전에 해당하는 블로그 처리할 수 있는 페이징 수 : 36\n",
      "finish crawling !\n",
      "키워드 성심당 관광 주말에에 해당하는 포스팅 수 : 170\n",
      "키워드 성심당 관광 주말에에 해당하는 블로그 실제 페이징 수 : 2\n",
      "키워드 성심당 관광 주말에에 해당하는 블로그 처리할 수 있는 페이징 수 : 2\n",
      "finish crawling !\n",
      "키워드 시민천문대 여행 후기에 해당하는 포스팅 수 : 642\n",
      "키워드 시민천문대 여행 후기에 해당하는 블로그 실제 페이징 수 : 7\n",
      "키워드 시민천문대 여행 후기에 해당하는 블로그 처리할 수 있는 페이징 수 : 7\n",
      "finish crawling !\n",
      "키워드 시민천문대 여행 대전에 해당하는 포스팅 수 : 2073\n",
      "키워드 시민천문대 여행 대전에 해당하는 블로그 실제 페이징 수 : 21\n",
      "키워드 시민천문대 여행 대전에 해당하는 블로그 처리할 수 있는 페이징 수 : 21\n",
      "finish crawling !\n",
      "키워드 시민천문대 여행 주말에에 해당하는 포스팅 수 : 238\n",
      "키워드 시민천문대 여행 주말에에 해당하는 블로그 실제 페이징 수 : 3\n",
      "키워드 시민천문대 여행 주말에에 해당하는 블로그 처리할 수 있는 페이징 수 : 3\n",
      "finish crawling !\n",
      "키워드 시민천문대 관광 후기에 해당하는 포스팅 수 : 405\n",
      "키워드 시민천문대 관광 후기에 해당하는 블로그 실제 페이징 수 : 5\n",
      "키워드 시민천문대 관광 후기에 해당하는 블로그 처리할 수 있는 페이징 수 : 5\n",
      "finish crawling !\n",
      "키워드 시민천문대 관광 대전에 해당하는 포스팅 수 : 1330\n",
      "키워드 시민천문대 관광 대전에 해당하는 블로그 실제 페이징 수 : 14\n",
      "키워드 시민천문대 관광 대전에 해당하는 블로그 처리할 수 있는 페이징 수 : 14\n",
      "finish crawling !\n",
      "키워드 시민천문대 관광 주말에에 해당하는 포스팅 수 : 137\n",
      "키워드 시민천문대 관광 주말에에 해당하는 블로그 실제 페이징 수 : 2\n",
      "키워드 시민천문대 관광 주말에에 해당하는 블로그 처리할 수 있는 페이징 수 : 2\n",
      "finish crawling !\n",
      "키워드 수통골 여행 후기에 해당하는 포스팅 수 : 153\n",
      "키워드 수통골 여행 후기에 해당하는 블로그 실제 페이징 수 : 2\n",
      "키워드 수통골 여행 후기에 해당하는 블로그 처리할 수 있는 페이징 수 : 2\n",
      "finish crawling !\n",
      "키워드 수통골 여행 대전에 해당하는 포스팅 수 : 1556\n",
      "키워드 수통골 여행 대전에 해당하는 블로그 실제 페이징 수 : 16\n",
      "키워드 수통골 여행 대전에 해당하는 블로그 처리할 수 있는 페이징 수 : 16\n",
      "finish crawling !\n",
      "키워드 수통골 여행 주말에에 해당하는 포스팅 수 : 146\n",
      "키워드 수통골 여행 주말에에 해당하는 블로그 실제 페이징 수 : 2\n",
      "키워드 수통골 여행 주말에에 해당하는 블로그 처리할 수 있는 페이징 수 : 2\n",
      "finish crawling !\n",
      "키워드 수통골 관광 후기에 해당하는 포스팅 수 : 47\n",
      "키워드 수통골 관광 후기에 해당하는 블로그 실제 페이징 수 : 1\n",
      "키워드 수통골 관광 후기에 해당하는 블로그 처리할 수 있는 페이징 수 : 1\n",
      "finish crawling !\n",
      "키워드 수통골 관광 대전에 해당하는 포스팅 수 : 598\n",
      "키워드 수통골 관광 대전에 해당하는 블로그 실제 페이징 수 : 6\n",
      "키워드 수통골 관광 대전에 해당하는 블로그 처리할 수 있는 페이징 수 : 6\n",
      "finish crawling !\n",
      "키워드 수통골 관광 주말에에 해당하는 포스팅 수 : 24\n",
      "키워드 수통골 관광 주말에에 해당하는 블로그 실제 페이징 수 : 1\n",
      "키워드 수통골 관광 주말에에 해당하는 블로그 처리할 수 있는 페이징 수 : 1\n",
      "finish crawling !\n",
      "키워드 한밭야구장 여행 후기에 해당하는 포스팅 수 : 57\n",
      "키워드 한밭야구장 여행 후기에 해당하는 블로그 실제 페이징 수 : 1\n",
      "키워드 한밭야구장 여행 후기에 해당하는 블로그 처리할 수 있는 페이징 수 : 1\n",
      "finish crawling !\n",
      "키워드 한밭야구장 여행 대전에 해당하는 포스팅 수 : 658\n",
      "키워드 한밭야구장 여행 대전에 해당하는 블로그 실제 페이징 수 : 7\n",
      "키워드 한밭야구장 여행 대전에 해당하는 블로그 처리할 수 있는 페이징 수 : 7\n",
      "finish crawling !\n",
      "키워드 한밭야구장 여행 주말에에 해당하는 포스팅 수 : 43\n",
      "키워드 한밭야구장 여행 주말에에 해당하는 블로그 실제 페이징 수 : 1\n",
      "키워드 한밭야구장 여행 주말에에 해당하는 블로그 처리할 수 있는 페이징 수 : 1\n",
      "finish crawling !\n",
      "키워드 한밭야구장 관광 후기에 해당하는 포스팅 수 : 17\n",
      "키워드 한밭야구장 관광 후기에 해당하는 블로그 실제 페이징 수 : 1\n",
      "키워드 한밭야구장 관광 후기에 해당하는 블로그 처리할 수 있는 페이징 수 : 1\n",
      "finish crawling !\n",
      "키워드 한밭야구장 관광 대전에 해당하는 포스팅 수 : 358\n",
      "키워드 한밭야구장 관광 대전에 해당하는 블로그 실제 페이징 수 : 4\n",
      "키워드 한밭야구장 관광 대전에 해당하는 블로그 처리할 수 있는 페이징 수 : 4\n",
      "finish crawling !\n"
     ]
    }
   ],
   "source": [
    "for word in complete_keyword[66:-1]:\n",
    "    naver_blog_crawling(data_dir, word, 100, \"date\")  "
   ]
  },
  {
   "cell_type": "code",
   "execution_count": 6,
   "metadata": {},
   "outputs": [
    {
     "name": "stdout",
     "output_type": "stream",
     "text": [
      "키워드 대전예술의전당 여행 후기에 해당하는 포스팅 수 : 985\n",
      "키워드 대전예술의전당 여행 후기에 해당하는 블로그 실제 페이징 수 : 10\n",
      "키워드 대전예술의전당 여행 후기에 해당하는 블로그 처리할 수 있는 페이징 수 : 10\n",
      "finish crawling !\n",
      "키워드 대전예술의전당 여행 대전에 해당하는 포스팅 수 : 9421\n",
      "키워드 대전예술의전당 여행 대전에 해당하는 블로그 실제 페이징 수 : 95\n",
      "키워드 대전예술의전당 여행 대전에 해당하는 블로그 처리할 수 있는 페이징 수 : 95\n",
      "finish crawling !\n",
      "키워드 대전예술의전당 여행 주말에에 해당하는 포스팅 수 : 37640\n",
      "키워드 대전예술의전당 여행 주말에에 해당하는 블로그 실제 페이징 수 : 377\n",
      "키워드 대전예술의전당 여행 주말에에 해당하는 블로그 처리할 수 있는 페이징 수 : 377\n",
      "finish crawling !\n",
      "키워드 대전예술의전당 관광 후기에 해당하는 포스팅 수 : 318\n",
      "키워드 대전예술의전당 관광 후기에 해당하는 블로그 실제 페이징 수 : 4\n",
      "키워드 대전예술의전당 관광 후기에 해당하는 블로그 처리할 수 있는 페이징 수 : 4\n",
      "finish crawling !\n",
      "키워드 대전예술의전당 관광 대전에 해당하는 포스팅 수 : 4345\n",
      "키워드 대전예술의전당 관광 대전에 해당하는 블로그 실제 페이징 수 : 44\n",
      "키워드 대전예술의전당 관광 대전에 해당하는 블로그 처리할 수 있는 페이징 수 : 44\n",
      "finish crawling !\n",
      "키워드 대전예술의전당 관광 주말에에 해당하는 포스팅 수 : 21827\n",
      "키워드 대전예술의전당 관광 주말에에 해당하는 블로그 실제 페이징 수 : 219\n",
      "키워드 대전예술의전당 관광 주말에에 해당하는 블로그 처리할 수 있는 페이징 수 : 219\n",
      "finish crawling !\n",
      "키워드 대전시립미술관 여행 후기에 해당하는 포스팅 수 : 267\n",
      "키워드 대전시립미술관 여행 후기에 해당하는 블로그 실제 페이징 수 : 3\n",
      "키워드 대전시립미술관 여행 후기에 해당하는 블로그 처리할 수 있는 페이징 수 : 3\n",
      "finish crawling !\n",
      "키워드 대전시립미술관 여행 대전에 해당하는 포스팅 수 : 3052\n",
      "키워드 대전시립미술관 여행 대전에 해당하는 블로그 실제 페이징 수 : 31\n",
      "키워드 대전시립미술관 여행 대전에 해당하는 블로그 처리할 수 있는 페이징 수 : 31\n",
      "finish crawling !\n",
      "키워드 대전시립미술관 여행 주말에에 해당하는 포스팅 수 : 26526\n",
      "키워드 대전시립미술관 여행 주말에에 해당하는 블로그 실제 페이징 수 : 266\n",
      "키워드 대전시립미술관 여행 주말에에 해당하는 블로그 처리할 수 있는 페이징 수 : 266\n",
      "finish crawling !\n",
      "키워드 대전시립미술관 관광 후기에 해당하는 포스팅 수 : 76\n",
      "키워드 대전시립미술관 관광 후기에 해당하는 블로그 실제 페이징 수 : 1\n",
      "키워드 대전시립미술관 관광 후기에 해당하는 블로그 처리할 수 있는 페이징 수 : 1\n",
      "finish crawling !\n",
      "키워드 대전시립미술관 관광 대전에 해당하는 포스팅 수 : 890\n",
      "키워드 대전시립미술관 관광 대전에 해당하는 블로그 실제 페이징 수 : 9\n",
      "키워드 대전시립미술관 관광 대전에 해당하는 블로그 처리할 수 있는 페이징 수 : 9\n",
      "finish crawling !\n",
      "키워드 대전시립미술관 관광 주말에에 해당하는 포스팅 수 : 14828\n",
      "키워드 대전시립미술관 관광 주말에에 해당하는 블로그 실제 페이징 수 : 149\n",
      "키워드 대전시립미술관 관광 주말에에 해당하는 블로그 처리할 수 있는 페이징 수 : 149\n",
      "finish crawling !\n",
      "키워드 이응노미술관 여행 후기에 해당하는 포스팅 수 : 4\n",
      "키워드 이응노미술관 여행 후기에 해당하는 블로그 실제 페이징 수 : 1\n",
      "키워드 이응노미술관 여행 후기에 해당하는 블로그 처리할 수 있는 페이징 수 : 1\n",
      "finish crawling !\n",
      "키워드 이응노미술관 여행 대전에 해당하는 포스팅 수 : 28\n",
      "키워드 이응노미술관 여행 대전에 해당하는 블로그 실제 페이징 수 : 1\n",
      "키워드 이응노미술관 여행 대전에 해당하는 블로그 처리할 수 있는 페이징 수 : 1\n",
      "finish crawling !\n",
      "키워드 이응노미술관 여행 주말에에 해당하는 포스팅 수 : 603\n",
      "키워드 이응노미술관 여행 주말에에 해당하는 블로그 실제 페이징 수 : 7\n",
      "키워드 이응노미술관 여행 주말에에 해당하는 블로그 처리할 수 있는 페이징 수 : 7\n",
      "finish crawling !\n",
      "키워드 이응노미술관 관광 후기에 해당하는 포스팅 수 : 83\n",
      "키워드 이응노미술관 관광 후기에 해당하는 블로그 실제 페이징 수 : 1\n",
      "키워드 이응노미술관 관광 후기에 해당하는 블로그 처리할 수 있는 페이징 수 : 1\n",
      "finish crawling !\n",
      "키워드 이응노미술관 관광 대전에 해당하는 포스팅 수 : 763\n",
      "키워드 이응노미술관 관광 대전에 해당하는 블로그 실제 페이징 수 : 8\n",
      "키워드 이응노미술관 관광 대전에 해당하는 블로그 처리할 수 있는 페이징 수 : 8\n",
      "finish crawling !\n",
      "키워드 이응노미술관 관광 주말에에 해당하는 포스팅 수 : 31\n",
      "키워드 이응노미술관 관광 주말에에 해당하는 블로그 실제 페이징 수 : 1\n",
      "키워드 이응노미술관 관광 주말에에 해당하는 블로그 처리할 수 있는 페이징 수 : 1\n",
      "finish crawling !\n",
      "키워드 국립중앙과학관 여행 후기에 해당하는 포스팅 수 : 388\n",
      "키워드 국립중앙과학관 여행 후기에 해당하는 블로그 실제 페이징 수 : 4\n",
      "키워드 국립중앙과학관 여행 후기에 해당하는 블로그 처리할 수 있는 페이징 수 : 4\n",
      "finish crawling !\n",
      "키워드 국립중앙과학관 여행 대전에 해당하는 포스팅 수 : 3292\n",
      "키워드 국립중앙과학관 여행 대전에 해당하는 블로그 실제 페이징 수 : 33\n",
      "키워드 국립중앙과학관 여행 대전에 해당하는 블로그 처리할 수 있는 페이징 수 : 33\n"
     ]
    },
    {
     "ename": "URLError",
     "evalue": "<urlopen error [Errno -2] Name or service not known>",
     "output_type": "error",
     "traceback": [
      "\u001b[0;31m---------------------------------------------------------------------------\u001b[0m",
      "\u001b[0;31mgaierror\u001b[0m                                  Traceback (most recent call last)",
      "\u001b[0;32m~/anaconda3/envs/aiffel/lib/python3.7/urllib/request.py\u001b[0m in \u001b[0;36mdo_open\u001b[0;34m(self, http_class, req, **http_conn_args)\u001b[0m\n\u001b[1;32m   1349\u001b[0m                 h.request(req.get_method(), req.selector, req.data, headers,\n\u001b[0;32m-> 1350\u001b[0;31m                           encode_chunked=req.has_header('Transfer-encoding'))\n\u001b[0m\u001b[1;32m   1351\u001b[0m             \u001b[0;32mexcept\u001b[0m \u001b[0mOSError\u001b[0m \u001b[0;32mas\u001b[0m \u001b[0merr\u001b[0m\u001b[0;34m:\u001b[0m \u001b[0;31m# timeout error\u001b[0m\u001b[0;34m\u001b[0m\u001b[0;34m\u001b[0m\u001b[0m\n",
      "\u001b[0;32m~/anaconda3/envs/aiffel/lib/python3.7/http/client.py\u001b[0m in \u001b[0;36mrequest\u001b[0;34m(self, method, url, body, headers, encode_chunked)\u001b[0m\n\u001b[1;32m   1276\u001b[0m         \u001b[0;34m\"\"\"Send a complete request to the server.\"\"\"\u001b[0m\u001b[0;34m\u001b[0m\u001b[0;34m\u001b[0m\u001b[0m\n\u001b[0;32m-> 1277\u001b[0;31m         \u001b[0mself\u001b[0m\u001b[0;34m.\u001b[0m\u001b[0m_send_request\u001b[0m\u001b[0;34m(\u001b[0m\u001b[0mmethod\u001b[0m\u001b[0;34m,\u001b[0m \u001b[0murl\u001b[0m\u001b[0;34m,\u001b[0m \u001b[0mbody\u001b[0m\u001b[0;34m,\u001b[0m \u001b[0mheaders\u001b[0m\u001b[0;34m,\u001b[0m \u001b[0mencode_chunked\u001b[0m\u001b[0;34m)\u001b[0m\u001b[0;34m\u001b[0m\u001b[0;34m\u001b[0m\u001b[0m\n\u001b[0m\u001b[1;32m   1278\u001b[0m \u001b[0;34m\u001b[0m\u001b[0m\n",
      "\u001b[0;32m~/anaconda3/envs/aiffel/lib/python3.7/http/client.py\u001b[0m in \u001b[0;36m_send_request\u001b[0;34m(self, method, url, body, headers, encode_chunked)\u001b[0m\n\u001b[1;32m   1322\u001b[0m             \u001b[0mbody\u001b[0m \u001b[0;34m=\u001b[0m \u001b[0m_encode\u001b[0m\u001b[0;34m(\u001b[0m\u001b[0mbody\u001b[0m\u001b[0;34m,\u001b[0m \u001b[0;34m'body'\u001b[0m\u001b[0;34m)\u001b[0m\u001b[0;34m\u001b[0m\u001b[0;34m\u001b[0m\u001b[0m\n\u001b[0;32m-> 1323\u001b[0;31m         \u001b[0mself\u001b[0m\u001b[0;34m.\u001b[0m\u001b[0mendheaders\u001b[0m\u001b[0;34m(\u001b[0m\u001b[0mbody\u001b[0m\u001b[0;34m,\u001b[0m \u001b[0mencode_chunked\u001b[0m\u001b[0;34m=\u001b[0m\u001b[0mencode_chunked\u001b[0m\u001b[0;34m)\u001b[0m\u001b[0;34m\u001b[0m\u001b[0;34m\u001b[0m\u001b[0m\n\u001b[0m\u001b[1;32m   1324\u001b[0m \u001b[0;34m\u001b[0m\u001b[0m\n",
      "\u001b[0;32m~/anaconda3/envs/aiffel/lib/python3.7/http/client.py\u001b[0m in \u001b[0;36mendheaders\u001b[0;34m(self, message_body, encode_chunked)\u001b[0m\n\u001b[1;32m   1271\u001b[0m             \u001b[0;32mraise\u001b[0m \u001b[0mCannotSendHeader\u001b[0m\u001b[0;34m(\u001b[0m\u001b[0;34m)\u001b[0m\u001b[0;34m\u001b[0m\u001b[0;34m\u001b[0m\u001b[0m\n\u001b[0;32m-> 1272\u001b[0;31m         \u001b[0mself\u001b[0m\u001b[0;34m.\u001b[0m\u001b[0m_send_output\u001b[0m\u001b[0;34m(\u001b[0m\u001b[0mmessage_body\u001b[0m\u001b[0;34m,\u001b[0m \u001b[0mencode_chunked\u001b[0m\u001b[0;34m=\u001b[0m\u001b[0mencode_chunked\u001b[0m\u001b[0;34m)\u001b[0m\u001b[0;34m\u001b[0m\u001b[0;34m\u001b[0m\u001b[0m\n\u001b[0m\u001b[1;32m   1273\u001b[0m \u001b[0;34m\u001b[0m\u001b[0m\n",
      "\u001b[0;32m~/anaconda3/envs/aiffel/lib/python3.7/http/client.py\u001b[0m in \u001b[0;36m_send_output\u001b[0;34m(self, message_body, encode_chunked)\u001b[0m\n\u001b[1;32m   1031\u001b[0m         \u001b[0;32mdel\u001b[0m \u001b[0mself\u001b[0m\u001b[0;34m.\u001b[0m\u001b[0m_buffer\u001b[0m\u001b[0;34m[\u001b[0m\u001b[0;34m:\u001b[0m\u001b[0;34m]\u001b[0m\u001b[0;34m\u001b[0m\u001b[0;34m\u001b[0m\u001b[0m\n\u001b[0;32m-> 1032\u001b[0;31m         \u001b[0mself\u001b[0m\u001b[0;34m.\u001b[0m\u001b[0msend\u001b[0m\u001b[0;34m(\u001b[0m\u001b[0mmsg\u001b[0m\u001b[0;34m)\u001b[0m\u001b[0;34m\u001b[0m\u001b[0;34m\u001b[0m\u001b[0m\n\u001b[0m\u001b[1;32m   1033\u001b[0m \u001b[0;34m\u001b[0m\u001b[0m\n",
      "\u001b[0;32m~/anaconda3/envs/aiffel/lib/python3.7/http/client.py\u001b[0m in \u001b[0;36msend\u001b[0;34m(self, data)\u001b[0m\n\u001b[1;32m    971\u001b[0m             \u001b[0;32mif\u001b[0m \u001b[0mself\u001b[0m\u001b[0;34m.\u001b[0m\u001b[0mauto_open\u001b[0m\u001b[0;34m:\u001b[0m\u001b[0;34m\u001b[0m\u001b[0;34m\u001b[0m\u001b[0m\n\u001b[0;32m--> 972\u001b[0;31m                 \u001b[0mself\u001b[0m\u001b[0;34m.\u001b[0m\u001b[0mconnect\u001b[0m\u001b[0;34m(\u001b[0m\u001b[0;34m)\u001b[0m\u001b[0;34m\u001b[0m\u001b[0;34m\u001b[0m\u001b[0m\n\u001b[0m\u001b[1;32m    973\u001b[0m             \u001b[0;32melse\u001b[0m\u001b[0;34m:\u001b[0m\u001b[0;34m\u001b[0m\u001b[0;34m\u001b[0m\u001b[0m\n",
      "\u001b[0;32m~/anaconda3/envs/aiffel/lib/python3.7/http/client.py\u001b[0m in \u001b[0;36mconnect\u001b[0;34m(self)\u001b[0m\n\u001b[1;32m   1438\u001b[0m \u001b[0;34m\u001b[0m\u001b[0m\n\u001b[0;32m-> 1439\u001b[0;31m             \u001b[0msuper\u001b[0m\u001b[0;34m(\u001b[0m\u001b[0;34m)\u001b[0m\u001b[0;34m.\u001b[0m\u001b[0mconnect\u001b[0m\u001b[0;34m(\u001b[0m\u001b[0;34m)\u001b[0m\u001b[0;34m\u001b[0m\u001b[0;34m\u001b[0m\u001b[0m\n\u001b[0m\u001b[1;32m   1440\u001b[0m \u001b[0;34m\u001b[0m\u001b[0m\n",
      "\u001b[0;32m~/anaconda3/envs/aiffel/lib/python3.7/http/client.py\u001b[0m in \u001b[0;36mconnect\u001b[0;34m(self)\u001b[0m\n\u001b[1;32m    943\u001b[0m         self.sock = self._create_connection(\n\u001b[0;32m--> 944\u001b[0;31m             (self.host,self.port), self.timeout, self.source_address)\n\u001b[0m\u001b[1;32m    945\u001b[0m         \u001b[0mself\u001b[0m\u001b[0;34m.\u001b[0m\u001b[0msock\u001b[0m\u001b[0;34m.\u001b[0m\u001b[0msetsockopt\u001b[0m\u001b[0;34m(\u001b[0m\u001b[0msocket\u001b[0m\u001b[0;34m.\u001b[0m\u001b[0mIPPROTO_TCP\u001b[0m\u001b[0;34m,\u001b[0m \u001b[0msocket\u001b[0m\u001b[0;34m.\u001b[0m\u001b[0mTCP_NODELAY\u001b[0m\u001b[0;34m,\u001b[0m \u001b[0;36m1\u001b[0m\u001b[0;34m)\u001b[0m\u001b[0;34m\u001b[0m\u001b[0;34m\u001b[0m\u001b[0m\n",
      "\u001b[0;32m~/anaconda3/envs/aiffel/lib/python3.7/socket.py\u001b[0m in \u001b[0;36mcreate_connection\u001b[0;34m(address, timeout, source_address)\u001b[0m\n\u001b[1;32m    706\u001b[0m     \u001b[0merr\u001b[0m \u001b[0;34m=\u001b[0m \u001b[0;32mNone\u001b[0m\u001b[0;34m\u001b[0m\u001b[0;34m\u001b[0m\u001b[0m\n\u001b[0;32m--> 707\u001b[0;31m     \u001b[0;32mfor\u001b[0m \u001b[0mres\u001b[0m \u001b[0;32min\u001b[0m \u001b[0mgetaddrinfo\u001b[0m\u001b[0;34m(\u001b[0m\u001b[0mhost\u001b[0m\u001b[0;34m,\u001b[0m \u001b[0mport\u001b[0m\u001b[0;34m,\u001b[0m \u001b[0;36m0\u001b[0m\u001b[0;34m,\u001b[0m \u001b[0mSOCK_STREAM\u001b[0m\u001b[0;34m)\u001b[0m\u001b[0;34m:\u001b[0m\u001b[0;34m\u001b[0m\u001b[0;34m\u001b[0m\u001b[0m\n\u001b[0m\u001b[1;32m    708\u001b[0m         \u001b[0maf\u001b[0m\u001b[0;34m,\u001b[0m \u001b[0msocktype\u001b[0m\u001b[0;34m,\u001b[0m \u001b[0mproto\u001b[0m\u001b[0;34m,\u001b[0m \u001b[0mcanonname\u001b[0m\u001b[0;34m,\u001b[0m \u001b[0msa\u001b[0m \u001b[0;34m=\u001b[0m \u001b[0mres\u001b[0m\u001b[0;34m\u001b[0m\u001b[0;34m\u001b[0m\u001b[0m\n",
      "\u001b[0;32m~/anaconda3/envs/aiffel/lib/python3.7/socket.py\u001b[0m in \u001b[0;36mgetaddrinfo\u001b[0;34m(host, port, family, type, proto, flags)\u001b[0m\n\u001b[1;32m    751\u001b[0m     \u001b[0maddrlist\u001b[0m \u001b[0;34m=\u001b[0m \u001b[0;34m[\u001b[0m\u001b[0;34m]\u001b[0m\u001b[0;34m\u001b[0m\u001b[0;34m\u001b[0m\u001b[0m\n\u001b[0;32m--> 752\u001b[0;31m     \u001b[0;32mfor\u001b[0m \u001b[0mres\u001b[0m \u001b[0;32min\u001b[0m \u001b[0m_socket\u001b[0m\u001b[0;34m.\u001b[0m\u001b[0mgetaddrinfo\u001b[0m\u001b[0;34m(\u001b[0m\u001b[0mhost\u001b[0m\u001b[0;34m,\u001b[0m \u001b[0mport\u001b[0m\u001b[0;34m,\u001b[0m \u001b[0mfamily\u001b[0m\u001b[0;34m,\u001b[0m \u001b[0mtype\u001b[0m\u001b[0;34m,\u001b[0m \u001b[0mproto\u001b[0m\u001b[0;34m,\u001b[0m \u001b[0mflags\u001b[0m\u001b[0;34m)\u001b[0m\u001b[0;34m:\u001b[0m\u001b[0;34m\u001b[0m\u001b[0;34m\u001b[0m\u001b[0m\n\u001b[0m\u001b[1;32m    753\u001b[0m         \u001b[0maf\u001b[0m\u001b[0;34m,\u001b[0m \u001b[0msocktype\u001b[0m\u001b[0;34m,\u001b[0m \u001b[0mproto\u001b[0m\u001b[0;34m,\u001b[0m \u001b[0mcanonname\u001b[0m\u001b[0;34m,\u001b[0m \u001b[0msa\u001b[0m \u001b[0;34m=\u001b[0m \u001b[0mres\u001b[0m\u001b[0;34m\u001b[0m\u001b[0;34m\u001b[0m\u001b[0m\n",
      "\u001b[0;31mgaierror\u001b[0m: [Errno -2] Name or service not known",
      "\nDuring handling of the above exception, another exception occurred:\n",
      "\u001b[0;31mURLError\u001b[0m                                  Traceback (most recent call last)",
      "\u001b[0;32m<ipython-input-6-464ed684fa90>\u001b[0m in \u001b[0;36m<module>\u001b[0;34m\u001b[0m\n\u001b[1;32m      1\u001b[0m \u001b[0;32mfor\u001b[0m \u001b[0mword\u001b[0m \u001b[0;32min\u001b[0m \u001b[0mnew_keyword\u001b[0m\u001b[0;34m:\u001b[0m\u001b[0;34m\u001b[0m\u001b[0;34m\u001b[0m\u001b[0m\n\u001b[0;32m----> 2\u001b[0;31m     \u001b[0mnaver_blog_crawling\u001b[0m\u001b[0;34m(\u001b[0m\u001b[0mdata_dir\u001b[0m\u001b[0;34m,\u001b[0m \u001b[0mword\u001b[0m\u001b[0;34m,\u001b[0m \u001b[0;36m100\u001b[0m\u001b[0;34m,\u001b[0m \u001b[0;34m\"sim\"\u001b[0m\u001b[0;34m)\u001b[0m\u001b[0;34m\u001b[0m\u001b[0;34m\u001b[0m\u001b[0m\n\u001b[0m",
      "\u001b[0;32m<ipython-input-4-0c6d85106ebc>\u001b[0m in \u001b[0;36mnaver_blog_crawling\u001b[0;34m(data_dir, search_blog_keyword, display_count, sort_type)\u001b[0m\n\u001b[1;32m      1\u001b[0m \u001b[0;32mdef\u001b[0m \u001b[0mnaver_blog_crawling\u001b[0m\u001b[0;34m(\u001b[0m\u001b[0mdata_dir\u001b[0m\u001b[0;34m,\u001b[0m \u001b[0msearch_blog_keyword\u001b[0m\u001b[0;34m,\u001b[0m \u001b[0mdisplay_count\u001b[0m\u001b[0;34m,\u001b[0m \u001b[0msort_type\u001b[0m\u001b[0;34m)\u001b[0m\u001b[0;34m:\u001b[0m\u001b[0;34m\u001b[0m\u001b[0;34m\u001b[0m\u001b[0m\n\u001b[1;32m      2\u001b[0m     \u001b[0msearch_result_blog_page_count\u001b[0m \u001b[0;34m=\u001b[0m \u001b[0mget_blog_search_result_pagination_count\u001b[0m\u001b[0;34m(\u001b[0m\u001b[0msearch_blog_keyword\u001b[0m\u001b[0;34m,\u001b[0m \u001b[0mdisplay_count\u001b[0m\u001b[0;34m)\u001b[0m\u001b[0;34m\u001b[0m\u001b[0;34m\u001b[0m\u001b[0m\n\u001b[0;32m----> 3\u001b[0;31m     \u001b[0mget_blog_post\u001b[0m\u001b[0;34m(\u001b[0m\u001b[0mdata_dir\u001b[0m\u001b[0;34m,\u001b[0m \u001b[0msearch_blog_keyword\u001b[0m\u001b[0;34m,\u001b[0m \u001b[0mdisplay_count\u001b[0m\u001b[0;34m,\u001b[0m \u001b[0msearch_result_blog_page_count\u001b[0m\u001b[0;34m,\u001b[0m \u001b[0msort_type\u001b[0m\u001b[0;34m)\u001b[0m\u001b[0;34m\u001b[0m\u001b[0;34m\u001b[0m\u001b[0m\n\u001b[0m\u001b[1;32m      4\u001b[0m \u001b[0;34m\u001b[0m\u001b[0m\n\u001b[1;32m      5\u001b[0m \u001b[0;34m\u001b[0m\u001b[0m\n",
      "\u001b[0;32m<ipython-input-4-0c6d85106ebc>\u001b[0m in \u001b[0;36mget_blog_post\u001b[0;34m(data_dir, search_blog_keyword, display_count, search_result_blog_page_count, sort_type)\u001b[0m\n\u001b[1;32m     52\u001b[0m         \u001b[0mrequest\u001b[0m\u001b[0;34m.\u001b[0m\u001b[0madd_header\u001b[0m\u001b[0;34m(\u001b[0m\u001b[0;34m\"X-Naver-Client-Secret\"\u001b[0m\u001b[0;34m,\u001b[0m \u001b[0mnaver_client_secret\u001b[0m\u001b[0;34m)\u001b[0m\u001b[0;34m\u001b[0m\u001b[0;34m\u001b[0m\u001b[0m\n\u001b[1;32m     53\u001b[0m \u001b[0;34m\u001b[0m\u001b[0m\n\u001b[0;32m---> 54\u001b[0;31m         \u001b[0mresponse\u001b[0m \u001b[0;34m=\u001b[0m \u001b[0murllib\u001b[0m\u001b[0;34m.\u001b[0m\u001b[0mrequest\u001b[0m\u001b[0;34m.\u001b[0m\u001b[0murlopen\u001b[0m\u001b[0;34m(\u001b[0m\u001b[0mrequest\u001b[0m\u001b[0;34m)\u001b[0m\u001b[0;34m\u001b[0m\u001b[0;34m\u001b[0m\u001b[0m\n\u001b[0m\u001b[1;32m     55\u001b[0m         \u001b[0mresponse_code\u001b[0m \u001b[0;34m=\u001b[0m \u001b[0mresponse\u001b[0m\u001b[0;34m.\u001b[0m\u001b[0mgetcode\u001b[0m\u001b[0;34m(\u001b[0m\u001b[0;34m)\u001b[0m\u001b[0;34m\u001b[0m\u001b[0;34m\u001b[0m\u001b[0m\n\u001b[1;32m     56\u001b[0m \u001b[0;34m\u001b[0m\u001b[0m\n",
      "\u001b[0;32m~/anaconda3/envs/aiffel/lib/python3.7/urllib/request.py\u001b[0m in \u001b[0;36murlopen\u001b[0;34m(url, data, timeout, cafile, capath, cadefault, context)\u001b[0m\n\u001b[1;32m    220\u001b[0m     \u001b[0;32melse\u001b[0m\u001b[0;34m:\u001b[0m\u001b[0;34m\u001b[0m\u001b[0;34m\u001b[0m\u001b[0m\n\u001b[1;32m    221\u001b[0m         \u001b[0mopener\u001b[0m \u001b[0;34m=\u001b[0m \u001b[0m_opener\u001b[0m\u001b[0;34m\u001b[0m\u001b[0;34m\u001b[0m\u001b[0m\n\u001b[0;32m--> 222\u001b[0;31m     \u001b[0;32mreturn\u001b[0m \u001b[0mopener\u001b[0m\u001b[0;34m.\u001b[0m\u001b[0mopen\u001b[0m\u001b[0;34m(\u001b[0m\u001b[0murl\u001b[0m\u001b[0;34m,\u001b[0m \u001b[0mdata\u001b[0m\u001b[0;34m,\u001b[0m \u001b[0mtimeout\u001b[0m\u001b[0;34m)\u001b[0m\u001b[0;34m\u001b[0m\u001b[0;34m\u001b[0m\u001b[0m\n\u001b[0m\u001b[1;32m    223\u001b[0m \u001b[0;34m\u001b[0m\u001b[0m\n\u001b[1;32m    224\u001b[0m \u001b[0;32mdef\u001b[0m \u001b[0minstall_opener\u001b[0m\u001b[0;34m(\u001b[0m\u001b[0mopener\u001b[0m\u001b[0;34m)\u001b[0m\u001b[0;34m:\u001b[0m\u001b[0;34m\u001b[0m\u001b[0;34m\u001b[0m\u001b[0m\n",
      "\u001b[0;32m~/anaconda3/envs/aiffel/lib/python3.7/urllib/request.py\u001b[0m in \u001b[0;36mopen\u001b[0;34m(self, fullurl, data, timeout)\u001b[0m\n\u001b[1;32m    523\u001b[0m             \u001b[0mreq\u001b[0m \u001b[0;34m=\u001b[0m \u001b[0mmeth\u001b[0m\u001b[0;34m(\u001b[0m\u001b[0mreq\u001b[0m\u001b[0;34m)\u001b[0m\u001b[0;34m\u001b[0m\u001b[0;34m\u001b[0m\u001b[0m\n\u001b[1;32m    524\u001b[0m \u001b[0;34m\u001b[0m\u001b[0m\n\u001b[0;32m--> 525\u001b[0;31m         \u001b[0mresponse\u001b[0m \u001b[0;34m=\u001b[0m \u001b[0mself\u001b[0m\u001b[0;34m.\u001b[0m\u001b[0m_open\u001b[0m\u001b[0;34m(\u001b[0m\u001b[0mreq\u001b[0m\u001b[0;34m,\u001b[0m \u001b[0mdata\u001b[0m\u001b[0;34m)\u001b[0m\u001b[0;34m\u001b[0m\u001b[0;34m\u001b[0m\u001b[0m\n\u001b[0m\u001b[1;32m    526\u001b[0m \u001b[0;34m\u001b[0m\u001b[0m\n\u001b[1;32m    527\u001b[0m         \u001b[0;31m# post-process response\u001b[0m\u001b[0;34m\u001b[0m\u001b[0;34m\u001b[0m\u001b[0;34m\u001b[0m\u001b[0m\n",
      "\u001b[0;32m~/anaconda3/envs/aiffel/lib/python3.7/urllib/request.py\u001b[0m in \u001b[0;36m_open\u001b[0;34m(self, req, data)\u001b[0m\n\u001b[1;32m    541\u001b[0m         \u001b[0mprotocol\u001b[0m \u001b[0;34m=\u001b[0m \u001b[0mreq\u001b[0m\u001b[0;34m.\u001b[0m\u001b[0mtype\u001b[0m\u001b[0;34m\u001b[0m\u001b[0;34m\u001b[0m\u001b[0m\n\u001b[1;32m    542\u001b[0m         result = self._call_chain(self.handle_open, protocol, protocol +\n\u001b[0;32m--> 543\u001b[0;31m                                   '_open', req)\n\u001b[0m\u001b[1;32m    544\u001b[0m         \u001b[0;32mif\u001b[0m \u001b[0mresult\u001b[0m\u001b[0;34m:\u001b[0m\u001b[0;34m\u001b[0m\u001b[0;34m\u001b[0m\u001b[0m\n\u001b[1;32m    545\u001b[0m             \u001b[0;32mreturn\u001b[0m \u001b[0mresult\u001b[0m\u001b[0;34m\u001b[0m\u001b[0;34m\u001b[0m\u001b[0m\n",
      "\u001b[0;32m~/anaconda3/envs/aiffel/lib/python3.7/urllib/request.py\u001b[0m in \u001b[0;36m_call_chain\u001b[0;34m(self, chain, kind, meth_name, *args)\u001b[0m\n\u001b[1;32m    501\u001b[0m         \u001b[0;32mfor\u001b[0m \u001b[0mhandler\u001b[0m \u001b[0;32min\u001b[0m \u001b[0mhandlers\u001b[0m\u001b[0;34m:\u001b[0m\u001b[0;34m\u001b[0m\u001b[0;34m\u001b[0m\u001b[0m\n\u001b[1;32m    502\u001b[0m             \u001b[0mfunc\u001b[0m \u001b[0;34m=\u001b[0m \u001b[0mgetattr\u001b[0m\u001b[0;34m(\u001b[0m\u001b[0mhandler\u001b[0m\u001b[0;34m,\u001b[0m \u001b[0mmeth_name\u001b[0m\u001b[0;34m)\u001b[0m\u001b[0;34m\u001b[0m\u001b[0;34m\u001b[0m\u001b[0m\n\u001b[0;32m--> 503\u001b[0;31m             \u001b[0mresult\u001b[0m \u001b[0;34m=\u001b[0m \u001b[0mfunc\u001b[0m\u001b[0;34m(\u001b[0m\u001b[0;34m*\u001b[0m\u001b[0margs\u001b[0m\u001b[0;34m)\u001b[0m\u001b[0;34m\u001b[0m\u001b[0;34m\u001b[0m\u001b[0m\n\u001b[0m\u001b[1;32m    504\u001b[0m             \u001b[0;32mif\u001b[0m \u001b[0mresult\u001b[0m \u001b[0;32mis\u001b[0m \u001b[0;32mnot\u001b[0m \u001b[0;32mNone\u001b[0m\u001b[0;34m:\u001b[0m\u001b[0;34m\u001b[0m\u001b[0;34m\u001b[0m\u001b[0m\n\u001b[1;32m    505\u001b[0m                 \u001b[0;32mreturn\u001b[0m \u001b[0mresult\u001b[0m\u001b[0;34m\u001b[0m\u001b[0;34m\u001b[0m\u001b[0m\n",
      "\u001b[0;32m~/anaconda3/envs/aiffel/lib/python3.7/urllib/request.py\u001b[0m in \u001b[0;36mhttps_open\u001b[0;34m(self, req)\u001b[0m\n\u001b[1;32m   1391\u001b[0m         \u001b[0;32mdef\u001b[0m \u001b[0mhttps_open\u001b[0m\u001b[0;34m(\u001b[0m\u001b[0mself\u001b[0m\u001b[0;34m,\u001b[0m \u001b[0mreq\u001b[0m\u001b[0;34m)\u001b[0m\u001b[0;34m:\u001b[0m\u001b[0;34m\u001b[0m\u001b[0;34m\u001b[0m\u001b[0m\n\u001b[1;32m   1392\u001b[0m             return self.do_open(http.client.HTTPSConnection, req,\n\u001b[0;32m-> 1393\u001b[0;31m                 context=self._context, check_hostname=self._check_hostname)\n\u001b[0m\u001b[1;32m   1394\u001b[0m \u001b[0;34m\u001b[0m\u001b[0m\n\u001b[1;32m   1395\u001b[0m         \u001b[0mhttps_request\u001b[0m \u001b[0;34m=\u001b[0m \u001b[0mAbstractHTTPHandler\u001b[0m\u001b[0;34m.\u001b[0m\u001b[0mdo_request_\u001b[0m\u001b[0;34m\u001b[0m\u001b[0;34m\u001b[0m\u001b[0m\n",
      "\u001b[0;32m~/anaconda3/envs/aiffel/lib/python3.7/urllib/request.py\u001b[0m in \u001b[0;36mdo_open\u001b[0;34m(self, http_class, req, **http_conn_args)\u001b[0m\n\u001b[1;32m   1350\u001b[0m                           encode_chunked=req.has_header('Transfer-encoding'))\n\u001b[1;32m   1351\u001b[0m             \u001b[0;32mexcept\u001b[0m \u001b[0mOSError\u001b[0m \u001b[0;32mas\u001b[0m \u001b[0merr\u001b[0m\u001b[0;34m:\u001b[0m \u001b[0;31m# timeout error\u001b[0m\u001b[0;34m\u001b[0m\u001b[0;34m\u001b[0m\u001b[0m\n\u001b[0;32m-> 1352\u001b[0;31m                 \u001b[0;32mraise\u001b[0m \u001b[0mURLError\u001b[0m\u001b[0;34m(\u001b[0m\u001b[0merr\u001b[0m\u001b[0;34m)\u001b[0m\u001b[0;34m\u001b[0m\u001b[0;34m\u001b[0m\u001b[0m\n\u001b[0m\u001b[1;32m   1353\u001b[0m             \u001b[0mr\u001b[0m \u001b[0;34m=\u001b[0m \u001b[0mh\u001b[0m\u001b[0;34m.\u001b[0m\u001b[0mgetresponse\u001b[0m\u001b[0;34m(\u001b[0m\u001b[0;34m)\u001b[0m\u001b[0;34m\u001b[0m\u001b[0;34m\u001b[0m\u001b[0m\n\u001b[1;32m   1354\u001b[0m         \u001b[0;32mexcept\u001b[0m\u001b[0;34m:\u001b[0m\u001b[0;34m\u001b[0m\u001b[0;34m\u001b[0m\u001b[0m\n",
      "\u001b[0;31mURLError\u001b[0m: <urlopen error [Errno -2] Name or service not known>"
     ]
    }
   ],
   "source": [
    "for word in new_keyword:\n",
    "    naver_blog_crawling(data_dir, word, 100, \"sim\")  "
   ]
  },
  {
   "cell_type": "code",
   "execution_count": 20,
   "metadata": {},
   "outputs": [
    {
     "data": {
      "text/plain": [
       "('국립중앙과학관 여행 대전', 24)"
      ]
     },
     "execution_count": 20,
     "metadata": {},
     "output_type": "execute_result"
    }
   ],
   "source": [
    "new_keyword[19], len(new_keyword)"
   ]
  },
  {
   "cell_type": "code",
   "execution_count": null,
   "metadata": {
    "scrolled": true
   },
   "outputs": [
    {
     "name": "stdout",
     "output_type": "stream",
     "text": [
      "키워드 국립중앙과학관 여행 주말에에 해당하는 포스팅 수 : 39917\n",
      "키워드 국립중앙과학관 여행 주말에에 해당하는 블로그 실제 페이징 수 : 400\n",
      "키워드 국립중앙과학관 여행 주말에에 해당하는 블로그 처리할 수 있는 페이징 수 : 400\n"
     ]
    }
   ],
   "source": [
    "for word in new_keyword[20:]:\n",
    "    naver_blog_crawling(data_dir, word, 100, \"date\")  "
   ]
  },
  {
   "cell_type": "code",
   "execution_count": 10,
   "metadata": {},
   "outputs": [
    {
     "name": "stdout",
     "output_type": "stream",
     "text": [
      "키워드 국립중앙과학관 관광 후기에 해당하는 포스팅 수 : 161\n",
      "키워드 국립중앙과학관 관광 후기에 해당하는 블로그 실제 페이징 수 : 2\n",
      "키워드 국립중앙과학관 관광 후기에 해당하는 블로그 처리할 수 있는 페이징 수 : 2\n",
      "finish crawling !\n",
      "키워드 국립중앙과학관 관광 대전에 해당하는 포스팅 수 : 1673\n",
      "키워드 국립중앙과학관 관광 대전에 해당하는 블로그 실제 페이징 수 : 17\n",
      "키워드 국립중앙과학관 관광 대전에 해당하는 블로그 처리할 수 있는 페이징 수 : 17\n",
      "finish crawling !\n",
      "키워드 국립중앙과학관 관광 주말에에 해당하는 포스팅 수 : 27537\n",
      "키워드 국립중앙과학관 관광 주말에에 해당하는 블로그 실제 페이징 수 : 276\n",
      "키워드 국립중앙과학관 관광 주말에에 해당하는 블로그 처리할 수 있는 페이징 수 : 276\n",
      "finish crawling !\n"
     ]
    }
   ],
   "source": [
    "for word in new_keyword[21:]:\n",
    "    naver_blog_crawling(data_dir, word, 100, \"date\")  "
   ]
  }
 ],
 "metadata": {
  "kernelspec": {
   "display_name": "Python 3",
   "language": "python",
   "name": "python3"
  },
  "language_info": {
   "codemirror_mode": {
    "name": "ipython",
    "version": 3
   },
   "file_extension": ".py",
   "mimetype": "text/x-python",
   "name": "python",
   "nbconvert_exporter": "python",
   "pygments_lexer": "ipython3",
   "version": "3.7.9"
  }
 },
 "nbformat": 4,
 "nbformat_minor": 5
}
