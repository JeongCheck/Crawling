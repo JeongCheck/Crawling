{
 "cells": [
  {
   "cell_type": "code",
   "execution_count": 71,
   "metadata": {},
   "outputs": [
    {
     "name": "stdout",
     "output_type": "stream",
     "text": [
      "('64bit', '')\n"
     ]
    }
   ],
   "source": [
    "import platform\n",
    "print(platform.architecture())"
   ]
  },
  {
   "cell_type": "code",
   "execution_count": 72,
   "metadata": {},
   "outputs": [
    {
     "name": "stdout",
     "output_type": "stream",
     "text": [
      "Python 3.7.9\r\n"
     ]
    }
   ],
   "source": [
    "!python --version"
   ]
  },
  {
   "cell_type": "code",
   "execution_count": 73,
   "metadata": {},
   "outputs": [
    {
     "data": {
      "text/plain": [
       "'/home/aiffel-dj26/Projects/Crawling'"
      ]
     },
     "execution_count": 73,
     "metadata": {},
     "output_type": "execute_result"
    }
   ],
   "source": [
    "pwd"
   ]
  },
  {
   "cell_type": "code",
   "execution_count": 74,
   "metadata": {},
   "outputs": [],
   "source": [
    "# 네이버에서 검색어 입력받아 검색 한 후 블로그 메뉴를 선택하고\n",
    "# 오른쪽에 있는 검색옵션 버튼을 눌러서\n",
    "# 정렬 방식과 기간을 입력하기\n",
    "\n",
    "#Step 0. 필요한 모듈과 라이브러리를 로딩하고 검색어를 입력 받습니다.\n",
    "import sys\n",
    "import os\n",
    "import pandas as pd\n",
    "import numpy as np\n",
    "import math\n",
    "\n",
    "from bs4 import BeautifulSoup\n",
    "import requests\n",
    "import urllib.request as req\n",
    "\n",
    "from selenium import webdriver\n",
    "from selenium.webdriver.common.keys import Keys\n",
    "import time\n",
    "import tqdm\n",
    "from tqdm.notebook import tqdm"
   ]
  },
  {
   "cell_type": "code",
   "execution_count": 75,
   "metadata": {},
   "outputs": [],
   "source": [
    "query_txt = '성심당여행대전'\n",
    "start_date= \"20190101\"\n",
    "end_date= \"20210501\""
   ]
  },
  {
   "cell_type": "code",
   "execution_count": 76,
   "metadata": {},
   "outputs": [
    {
     "data": {
      "text/plain": [
       "'/home/aiffel-dj26'"
      ]
     },
     "execution_count": 76,
     "metadata": {},
     "output_type": "execute_result"
    }
   ],
   "source": [
    "os.getenv('HOME')"
   ]
  },
  {
   "cell_type": "code",
   "execution_count": 77,
   "metadata": {},
   "outputs": [
    {
     "data": {
      "text/plain": [
       "'3.14.1'"
      ]
     },
     "execution_count": 77,
     "metadata": {},
     "output_type": "execute_result"
    }
   ],
   "source": [
    "webdriver.__version__"
   ]
  },
  {
   "cell_type": "code",
   "execution_count": 78,
   "metadata": {},
   "outputs": [],
   "source": [
    "#Step 1. 크롬 웹브라우저 실행\n",
    "path = os.getenv('HOME')+ '/chromedriver'"
   ]
  },
  {
   "cell_type": "code",
   "execution_count": 79,
   "metadata": {},
   "outputs": [],
   "source": [
    "driver = webdriver.Chrome(path)\n",
    "# 사이트 주소는 네이버\n",
    "c\n",
    "time.sleep(1)"
   ]
  },
  {
   "cell_type": "code",
   "execution_count": 80,
   "metadata": {},
   "outputs": [],
   "source": [
    "#Step 2. 네이버 검색창에 \"검색어\" 검색\n",
    "element = driver.find_element_by_name(\"query\")\n",
    "element.send_keys(query_txt)\n",
    "element.submit()\n",
    "time.sleep(2)"
   ]
  },
  {
   "cell_type": "code",
   "execution_count": 81,
   "metadata": {},
   "outputs": [],
   "source": [
    "#Step 3. \"블로그\" 카테고리 선택\n",
    "driver.find_element_by_link_text(\"블로그\").click( )    \n",
    "time.sleep(2)"
   ]
  },
  {
   "cell_type": "code",
   "execution_count": 82,
   "metadata": {
    "scrolled": true
   },
   "outputs": [],
   "source": [
    "#Step 4. 오른쪽의 검색 옵션 버튼 클릭\n",
    "driver.find_element_by_class_name(\"btn_option._search_option_open_btn\").click( )\n",
    "time.sleep(2)"
   ]
  },
  {
   "cell_type": "code",
   "execution_count": 84,
   "metadata": {},
   "outputs": [],
   "source": [
    "driver.find_element_by_class_name(\"txt.txt_option._calendar_select_trigger\").click() # 관련도순 xpath\n",
    "# element.find_element_by_css_selector(\"#header > div.header_common > div > div.area_search > form > fieldset > a.button.button_blog\").click() # 관련도순 xpath\n",
    "# element.clear()\n",
    "# element.send_keys(query_txt)  # query_txt는 위에서 입력한 '이재용'\n",
    "# element.submit()"
   ]
  },
  {
   "cell_type": "code",
   "execution_count": 95,
   "metadata": {},
   "outputs": [
    {
     "name": "stdout",
     "output_type": "stream",
     "text": [
      "total_page : 2\n"
     ]
    },
    {
     "data": {
      "application/vnd.jupyter.widget-view+json": {
       "model_id": "5a3ec2e2be464f659c3faf9f74d9f53f",
       "version_major": 2,
       "version_minor": 0
      },
      "text/plain": [
       "  0%|          | 0/2 [00:00<?, ?it/s]"
      ]
     },
     "metadata": {},
     "output_type": "display_data"
    },
    {
     "name": "stdout",
     "output_type": "stream",
     "text": [
      "url갯수:  0\n",
      "url갯수:  0\n"
     ]
    }
   ],
   "source": [
    "#Step 1. 크롬 웹브라우저 실행\n",
    "path = os.getenv('HOME')+ '/chromedriver'\n",
    "\n",
    "driver = webdriver.Chrome(path)\n",
    "# 사이트 주소는 네이버\n",
    "driver.get('http://www.naver.com')\n",
    "time.sleep(0.1)\n",
    "\n",
    "# # login\n",
    "# login = {\n",
    "#     \"id\" : \"iminu95\",\n",
    "#     \"pw\" : \"95bbkmjamy\"\n",
    "# }\n",
    "\n",
    "# # 아이디와 비밀번호를 입력합니다.\n",
    "# time.sleep(0.5) ## 0.5초\n",
    "\n",
    "# driver.find_element_by_class_name('link_login').click( )\n",
    "# time.sleep(1)\n",
    "\n",
    "# # driver.find_element_by_name('id').send_keys('아이디') # \"아이디라는 값을 보내준다\"\n",
    "# driver.find_element_by_name('id').send_keys(login.get(\"id\"))\n",
    "# time.sleep(0.5) ## 0.5초\n",
    "# driver.find_element_by_name('pw').send_keys(login.get(\"pw\")) \n",
    "# time.sleep(0.5) ## 0.5초\n",
    "# driver.find_element_by_class_name('btn_global').click( )\n",
    "# time.sleep(0.5) ## 0.5초\n",
    "\n",
    "\n",
    "\n",
    "\n",
    "#Step 2. 네이버 검색창에 \"검색어\" 검색\n",
    "element = driver.find_element_by_name(\"query\")\n",
    "element.send_keys(query_txt)\n",
    "element.submit()\n",
    "time.sleep(0.1)\n",
    "\n",
    "#Step 3. \"블로그\" 카테고리 선택\n",
    "driver.find_element_by_link_text(\"블로그\").click( )    \n",
    "time.sleep(2)\n",
    "\n",
    "#Step 4. 오른쪽의 검색 옵션 버튼 클릭\n",
    "driver.find_element_by_class_name(\"btn_option._search_option_open_btn\").click( )\n",
    "time.sleep(2)\n",
    "\n",
    "\n",
    "#Step 6. 날짜 입력\n",
    "# driver.find_element_by_class_name(\"txt.txt_option._calendar_select_trigger\").click() # 관련도순 xpath\n",
    "\n",
    "# driver.find_element_by_id(\"search_start_date\").send_keys(start_date)\n",
    "# driver.find_element_by_id(\"search_end_date\").send_keys(end_date)\n",
    "# time.sleep(0.1)\n",
    "\n",
    "# driver.find_element_by_id(\"periodSearch\").click()\n",
    "# time.sleep(0.1)\n",
    "\n",
    "# searched_post_num = driver.find_element_by_class_name('search_number').text\n",
    "# print(searched_post_num)\n",
    "\n",
    "url_list = []\n",
    "title_list = []\n",
    "\n",
    "total_page = 2 \n",
    "# total_page = math.ceil(int(searched_post_num.replace(',', '').strip('건')) / 7)\n",
    "print('total_page :', total_page)\n",
    "\n",
    "for i in tqdm(range(0, total_page)):  # 페이지 번호\n",
    "    url = f'https://section.blog.naver.com/Search/Post.naver?pageNo={i}&rangeType=sim&orderBy=recentdate&startDate={start_date}&endDate={end_date}&keyword={query_txt}'\n",
    "    driver.get(url)\n",
    "#     response = requests.get(url)\n",
    "#     soup = BeautifulSoup(response.text, 'html.parser')\n",
    "#     print(soup)\n",
    "    time.sleep(0.5)\n",
    "#     area = soup.findAll('div', {'class' : 'list_search_post'}) #.find_all('a', {'class' : 'url'})\n",
    "#     print(area)\n",
    "    \n",
    "    # URL 크롤링 시작\n",
    "    titles = \"a.sh_blog_title._sp_each_url._sp_each_title\" # #content\n",
    "    article_raw = driver.find_elements_by_class_name(titles)\n",
    "#     article_raw = driver.find_elements_by_css_selector('#content > section > div.area_list_search > div:nth-child(1)')\n",
    "    \n",
    "#     article_raw = driver.find_elements_by_xpath(f'//*[@id=\"content\"]/section/div[2]/div[{i}]')\n",
    "    \n",
    "#     print(article_raw)\n",
    "\n",
    "    # url 크롤링 시작    # 7개 \n",
    "    for article in article_raw:\n",
    "        url = article.get_attribute('href')   \n",
    "        print(url)\n",
    "        url_list.append(url)\n",
    "    \n",
    "    # 제목 크롤링 시작    \n",
    "    for article in article_raw:\n",
    "        title = article.get_attribute('title')   \n",
    "        title_list.append(title)\n",
    "    \n",
    "        print(title)\n",
    "    \n",
    "print('url갯수: ', len(url_list))\n",
    "print('url갯수: ', len(title_list))\n",
    "\n",
    "# df = pd.DataFrame({'url':url_list, 'title':title_list})\n",
    "\n",
    "# # 저장하기\n",
    "# df.to_csv(\"./blog_url.csv\")"
   ]
  },
  {
   "cell_type": "code",
   "execution_count": 159,
   "metadata": {},
   "outputs": [
    {
     "data": {
      "text/plain": [
       "8"
      ]
     },
     "execution_count": 159,
     "metadata": {},
     "output_type": "execute_result"
    }
   ],
   "source": [
    "li = [2, 3, 4, 4, 5, 6, 7, 8]\n",
    "len(li)"
   ]
  },
  {
   "cell_type": "code",
   "execution_count": 167,
   "metadata": {},
   "outputs": [
    {
     "name": "stdout",
     "output_type": "stream",
     "text": [
      "0\n",
      "2\n",
      "4\n",
      "6\n"
     ]
    }
   ],
   "source": [
    "for i in range(0, 8, 2):\n",
    "    print(i)"
   ]
  },
  {
   "cell_type": "code",
   "execution_count": 168,
   "metadata": {},
   "outputs": [],
   "source": [
    "new = []\n",
    "for i in range(0, len(li)-1, 2):\n",
    "    new.append([li[i], li[i+1]])"
   ]
  },
  {
   "cell_type": "code",
   "execution_count": 169,
   "metadata": {},
   "outputs": [
    {
     "data": {
      "text/plain": [
       "[[2, 3], [4, 4], [5, 6], [7, 8]]"
      ]
     },
     "execution_count": 169,
     "metadata": {},
     "output_type": "execute_result"
    }
   ],
   "source": [
    "new"
   ]
  },
  {
   "cell_type": "code",
   "execution_count": 147,
   "metadata": {},
   "outputs": [
    {
     "name": "stdout",
     "output_type": "stream",
     "text": [
      "None\n"
     ]
    }
   ],
   "source": [
    "article_raw = driver.find_elements_by_xpath('//*[@id=\"content\"]/section/div[2]/div[1]')\n",
    "# article_raw.get_attribute('href')\n",
    "for i in article_raw:\n",
    "    print(i.get_attribute('href'))"
   ]
  },
  {
   "cell_type": "code",
   "execution_count": null,
   "metadata": {},
   "outputs": [],
   "source": [
    "//*[@id=\"content\"]/section/div[2]\n",
    "//*[@id=\"content\"]/section/div[2]\n",
    "//*[@id=\"content\"]/section/div[2]\n",
    "\n",
    "//*[@id=\"content\"]/section/div[2]/div[1]\n",
    "//*[@id=\"content\"]/section/div[2]/div[2]\n",
    "//*[@id=\"content\"]/section/div[2]/div[3]\n",
    "...\n",
    "//*[@id=\"content\"]/section/div[2]/div[7]"
   ]
  },
  {
   "cell_type": "markdown",
   "metadata": {},
   "source": [
    "1 page = 7 posts\n",
    "72 page search\n",
    "\n",
    "sample = https://section.blog.naver.com/Search/Post.naver?pageNo=1&rangeType=PERIOD&orderBy=sim&startDate=2019-01-01&endDate=2021-05-01&keyword=%EC%84%B1%EC%8B%AC%EB%8B%B9%EC%97%AC%ED%96%89%EB%8C%80%EC%A0%84"
   ]
  },
  {
   "cell_type": "code",
   "execution_count": 94,
   "metadata": {},
   "outputs": [],
   "source": [
    "## 제목 눌러서 블로그 페이지 열기\n",
    "driver.find_element_by_class_name('title').click()\n",
    "time.sleep(1)"
   ]
  },
  {
   "cell_type": "code",
   "execution_count": 107,
   "metadata": {},
   "outputs": [
    {
     "data": {
      "text/plain": [
       "(str, '8,994건')"
      ]
     },
     "execution_count": 107,
     "metadata": {},
     "output_type": "execute_result"
    }
   ],
   "source": [
    "type(searched_post_num), searched_post_num"
   ]
  },
  {
   "cell_type": "code",
   "execution_count": 121,
   "metadata": {},
   "outputs": [],
   "source": [
    "import re"
   ]
  },
  {
   "cell_type": "code",
   "execution_count": 124,
   "metadata": {},
   "outputs": [
    {
     "data": {
      "text/plain": [
       "',994건'"
      ]
     },
     "execution_count": 124,
     "metadata": {},
     "output_type": "execute_result"
    }
   ],
   "source": [
    "re.sub('^[0-9]', '', searched_post_num)"
   ]
  },
  {
   "cell_type": "code",
   "execution_count": null,
   "metadata": {},
   "outputs": [],
   "source": [
    "searched_post_num"
   ]
  },
  {
   "cell_type": "code",
   "execution_count": 126,
   "metadata": {},
   "outputs": [
    {
     "data": {
      "text/plain": [
       "'8994'"
      ]
     },
     "execution_count": 126,
     "metadata": {},
     "output_type": "execute_result"
    }
   ],
   "source": [
    "searched_post_num.replace(',', '').replace('건', '')"
   ]
  },
  {
   "cell_type": "code",
   "execution_count": 129,
   "metadata": {},
   "outputs": [
    {
     "data": {
      "text/plain": [
       "1285"
      ]
     },
     "execution_count": 129,
     "metadata": {},
     "output_type": "execute_result"
    }
   ],
   "source": [
    "total_page = math.ceil(int(searched_post_num.replace(',', '').strip('건')) / 7)\n",
    "total_page"
   ]
  }
 ],
 "metadata": {
  "kernelspec": {
   "display_name": "Python 3",
   "language": "python",
   "name": "python3"
  },
  "language_info": {
   "codemirror_mode": {
    "name": "ipython",
    "version": 3
   },
   "file_extension": ".py",
   "mimetype": "text/x-python",
   "name": "python",
   "nbconvert_exporter": "python",
   "pygments_lexer": "ipython3",
   "version": "3.7.9"
  }
 },
 "nbformat": 4,
 "nbformat_minor": 5
}
