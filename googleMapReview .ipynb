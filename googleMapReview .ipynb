{
 "cells": [
  {
   "cell_type": "markdown",
   "metadata": {},
   "source": [
    "# [해커톤3] 구글 리뷰 크롤링하기"
   ]
  },
  {
   "cell_type": "markdown",
   "metadata": {},
   "source": [
    "> * urllib는 파이썬에서 인터넷에서 데이터를 받아 오는 기능들이 있는 패키지로 기본적으로 내장되어 있음\n",
    "> * urllib에 인터넷 주소URL을 넣고 실행하면 데이터를 텍스트 형태로 받아올 수 있음 : 크롤링\n",
    "> * BeautifulSoup은 데이터를 추출하는데 필요한 기능이 들어 있는 라이브러리\n",
    "> * BeautifulSoup은 크롤링한 데이터에서 필요한 내용만 추출하는 라이브러리 : 파싱"
   ]
  },
  {
   "cell_type": "markdown",
   "metadata": {},
   "source": [
    "## 1. 크롤링 웹페이지 불러오기"
   ]
  },
  {
   "cell_type": "code",
   "execution_count": 1,
   "metadata": {},
   "outputs": [],
   "source": [
    "import urllib\n",
    "import urllib.request\n",
    "from urllib.request import urlopen\n",
    "import selenium \n",
    "from selenium import webdriver\n",
    "import bs4\n",
    "from bs4 import BeautifulSoup\n",
    "import time, os\n",
    "from datetime import datetime\n",
    "import pandas as pd\n",
    "import os"
   ]
  },
  {
   "cell_type": "code",
   "execution_count": 2,
   "metadata": {},
   "outputs": [],
   "source": [
    "link = 'https://www.google.com/maps/place/%EB%BF%8C%EB%A6%AC%EA%B3%B5%EC%9B%90/@36.2854269,127.3858948,17z/data=!4m7!3m6!1s0x3565496076e32ced:0x4f8951c6d2211063!8m2!3d36.2854269!4d127.3880835!9m1!1b1?hl=ko'\n",
    "driver = webdriver.Chrome('./chromedriver')\n",
    "driver.get(link)                 # 자동으로 해당 링크를 연다\n",
    "os.makedirs('result', exist_ok = True)   # 결과 저장 디렉토리"
   ]
  },
  {
   "cell_type": "markdown",
   "metadata": {},
   "source": [
    "### 1.1 자동 스크롤 다운 하기"
   ]
  },
  {
   "cell_type": "markdown",
   "metadata": {},
   "source": [
    "스크래핑하기 전에 대부분의 다른 최신 웹 사이트와 마찬가지로 페이지가 AJAX(동적페이지)를 사용하여 구현되므로 모든 리뷰를 아래로 스크롤하여 모든 리뷰를 로드해야한다."
   ]
  },
  {
   "cell_type": "code",
   "execution_count": 3,
   "metadata": {},
   "outputs": [],
   "source": [
    "# 정렬(최신순)-스크롤다운-loadmore\n",
    "\n",
    "scroll_cnt = 3\n",
    "\n",
    "for i in range(scroll_cnt):\n",
    "    # scroll to bottom :\n",
    "    driver.execute_script('window.scrollTo(0, document.body.scrollHeight);')\n",
    "    time.sleep(3)\n",
    "   \n",
    "    # click 'load more':\n",
    "    try:\n",
    "        load_more = driver.find_elements_by_class_name(\"ODSEW-KoToPc-ShBeI gXqMYb-hSRGPd\")\n",
    "        for i in load_more:\n",
    "            i.click()\n",
    "    except:\n",
    "         print(\"can't find load more button...\")"
   ]
  },
  {
   "cell_type": "markdown",
   "metadata": {},
   "source": [
    "### 1.2 리뷰 정보 가져오기"
   ]
  },
  {
   "cell_type": "code",
   "execution_count": 4,
   "metadata": {},
   "outputs": [],
   "source": [
    "# # 리뷰 가져오기01 \n",
    "# elem = driver.find_element_by_class_name('widget-pane-content-holder')\n",
    "# reviews = elem.find_elements_by_xpath('//*[@class=\"section-review NIyLF-haAclf gm2-body-2\"]//div[@class=\"ODSEW-ShBeI-content\"]')\n",
    "# print('there are %d reviews avaliable!' % len(reviews))\n",
    "# print('writing the data...')"
   ]
  },
  {
   "cell_type": "code",
   "execution_count": 5,
   "metadata": {},
   "outputs": [
    {
     "name": "stdout",
     "output_type": "stream",
     "text": [
      "there are 930 reviews avaliable!\n",
      "writing the data...\n"
     ]
    }
   ],
   "source": [
    "# 리뷰 가져오기02 : 최대 930건으로 제한이 있음\n",
    "elem = driver.find_element_by_class_name('widget-pane-content-holder')\n",
    "reviews = elem.find_elements_by_xpath('//*[@class=\"section-layout\"]//div[@class=\"ODSEW-ShBeI-content\"]')\n",
    "print('there are %d reviews avaliable!' % len(reviews))\n",
    "print('writing the data...')"
   ]
  },
  {
   "cell_type": "markdown",
   "metadata": {},
   "source": [
    "## 2. 리뷰 데이터셋으로 저장"
   ]
  },
  {
   "cell_type": "code",
   "execution_count": 6,
   "metadata": {},
   "outputs": [],
   "source": [
    "# 데이터셋 생성\n",
    "\n",
    "df = pd.DataFrame(columns=['name', 'ratings', 'date', 'comment'])"
   ]
  },
  {
   "cell_type": "code",
   "execution_count": 7,
   "metadata": {},
   "outputs": [],
   "source": [
    "# 해당 정보 데이터셋에 저장\n",
    "\n",
    "for review in reviews:\n",
    "    soup = BeautifulSoup(review.get_attribute('innerHTML'), 'html.parser')\n",
    "    \n",
    "    name = soup.find(class_= \"ODSEW-ShBeI-title\").text\n",
    "    \n",
    "    ratings = int(soup.find('span', class_='ODSEW-ShBeI-H1e3jb').get('aria-label').replace('별표', '').replace('개','').strip())\n",
    "    \n",
    "    date= soup.find(class_= \"ODSEW-ShBeI-RgZmSc-date\").text\n",
    "     \n",
    "    comment = soup.find('span', class_='ODSEW-ShBeI-text').text\n",
    "    if not comment:\n",
    "        comment = \"없음\" \n",
    "        \n",
    "    df = df.append({\n",
    "        'name': name,\n",
    "        'ratings': ratings,\n",
    "        'date' : date,\n",
    "        'comment' : comment\n",
    "    }, ignore_index=True)\n"
   ]
  },
  {
   "cell_type": "code",
   "execution_count": 8,
   "metadata": {},
   "outputs": [
    {
     "name": "stdout",
     "output_type": "stream",
     "text": [
      "저장완료\n"
     ]
    }
   ],
   "source": [
    "# csv 파일로 저장\n",
    "\n",
    "filename = datetime.now().strftime('result/%Y-%m-%d_%H-%M-%S.csv')   \n",
    "df.to_csv(filename, encoding='utf-8-sig', index=False)\n",
    "driver.stop_client()       \n",
    "driver.close()         \n",
    "\n",
    "print('저장완료')"
   ]
  },
  {
   "cell_type": "markdown",
   "metadata": {},
   "source": [
    "## 3. 저장 결과 확인"
   ]
  },
  {
   "cell_type": "code",
   "execution_count": 9,
   "metadata": {},
   "outputs": [],
   "source": [
    "import os\n",
    "from os.path import join"
   ]
  },
  {
   "cell_type": "code",
   "execution_count": 10,
   "metadata": {},
   "outputs": [
    {
     "data": {
      "text/html": [
       "<div>\n",
       "<style scoped>\n",
       "    .dataframe tbody tr th:only-of-type {\n",
       "        vertical-align: middle;\n",
       "    }\n",
       "\n",
       "    .dataframe tbody tr th {\n",
       "        vertical-align: top;\n",
       "    }\n",
       "\n",
       "    .dataframe thead th {\n",
       "        text-align: right;\n",
       "    }\n",
       "</style>\n",
       "<table border=\"1\" class=\"dataframe\">\n",
       "  <thead>\n",
       "    <tr style=\"text-align: right;\">\n",
       "      <th></th>\n",
       "      <th>name</th>\n",
       "      <th>ratings</th>\n",
       "      <th>date</th>\n",
       "      <th>comment</th>\n",
       "    </tr>\n",
       "  </thead>\n",
       "  <tbody>\n",
       "    <tr>\n",
       "      <th>0</th>\n",
       "      <td>너구리먹고싶당</td>\n",
       "      <td>5</td>\n",
       "      <td>2시간 전</td>\n",
       "      <td>ㅇㅇㅇ</td>\n",
       "    </tr>\n",
       "    <tr>\n",
       "      <th>1</th>\n",
       "      <td>박미정</td>\n",
       "      <td>5</td>\n",
       "      <td>1일 전</td>\n",
       "      <td>조용해서좋고 나의 뿌리를 알수있어서 좋았어요</td>\n",
       "    </tr>\n",
       "    <tr>\n",
       "      <th>2</th>\n",
       "      <td>김인호</td>\n",
       "      <td>5</td>\n",
       "      <td>1일 전</td>\n",
       "      <td>없음</td>\n",
       "    </tr>\n",
       "    <tr>\n",
       "      <th>3</th>\n",
       "      <td>이권환 도진道眞 TV</td>\n",
       "      <td>5</td>\n",
       "      <td>1일 전</td>\n",
       "      <td>\"조상은 자손의 뿌리요,\\n자손은 조상의 숨구멍이다.\"\\n\\n- 甑山道 安雲山 太上...</td>\n",
       "    </tr>\n",
       "    <tr>\n",
       "      <th>4</th>\n",
       "      <td>카르페</td>\n",
       "      <td>4</td>\n",
       "      <td>3일 전</td>\n",
       "      <td>없음</td>\n",
       "    </tr>\n",
       "    <tr>\n",
       "      <th>5</th>\n",
       "      <td>민기짱짱</td>\n",
       "      <td>5</td>\n",
       "      <td>3일 전</td>\n",
       "      <td>뿌리공원에는 많은 사람들이 산책을 하고 있어요.뿌리공원에는 볼거리가 많아요.뿌리공원...</td>\n",
       "    </tr>\n",
       "    <tr>\n",
       "      <th>6</th>\n",
       "      <td>김동섭</td>\n",
       "      <td>4</td>\n",
       "      <td>4일 전</td>\n",
       "      <td>없음</td>\n",
       "    </tr>\n",
       "    <tr>\n",
       "      <th>7</th>\n",
       "      <td>김지예</td>\n",
       "      <td>5</td>\n",
       "      <td>6일 전</td>\n",
       "      <td>없음</td>\n",
       "    </tr>\n",
       "    <tr>\n",
       "      <th>8</th>\n",
       "      <td>Jinwoo Yang (Alex)</td>\n",
       "      <td>5</td>\n",
       "      <td>1주 전</td>\n",
       "      <td>언제가도 좋은 곳...마음이 편해지는 힐링 스팟입니다.</td>\n",
       "    </tr>\n",
       "    <tr>\n",
       "      <th>9</th>\n",
       "      <td>HN Y</td>\n",
       "      <td>5</td>\n",
       "      <td>1주 전</td>\n",
       "      <td>없음</td>\n",
       "    </tr>\n",
       "    <tr>\n",
       "      <th>10</th>\n",
       "      <td>민민</td>\n",
       "      <td>5</td>\n",
       "      <td>1주 전</td>\n",
       "      <td>없음</td>\n",
       "    </tr>\n",
       "    <tr>\n",
       "      <th>11</th>\n",
       "      <td>구남모</td>\n",
       "      <td>5</td>\n",
       "      <td>1주 전</td>\n",
       "      <td>없음</td>\n",
       "    </tr>\n",
       "    <tr>\n",
       "      <th>12</th>\n",
       "      <td>minwook Lee</td>\n",
       "      <td>5</td>\n",
       "      <td>1주 전</td>\n",
       "      <td>없음</td>\n",
       "    </tr>\n",
       "    <tr>\n",
       "      <th>13</th>\n",
       "      <td>정Itemgo</td>\n",
       "      <td>5</td>\n",
       "      <td>1주 전</td>\n",
       "      <td>없음</td>\n",
       "    </tr>\n",
       "    <tr>\n",
       "      <th>14</th>\n",
       "      <td>전우호</td>\n",
       "      <td>2</td>\n",
       "      <td>1주 전</td>\n",
       "      <td>그러다\\n나아는사람만나면어떻하렴니까</td>\n",
       "    </tr>\n",
       "    <tr>\n",
       "      <th>15</th>\n",
       "      <td>송해호</td>\n",
       "      <td>4</td>\n",
       "      <td>2주 전</td>\n",
       "      <td>공원이 더. 새로워졌구 나들이 하기 좋습니다</td>\n",
       "    </tr>\n",
       "    <tr>\n",
       "      <th>16</th>\n",
       "      <td>김순배</td>\n",
       "      <td>5</td>\n",
       "      <td>2주 전</td>\n",
       "      <td>우리 조상의 뿌리(근원)를 알고 나'라는 존재에 대해 진지하게 다시 생각해 보는 귀...</td>\n",
       "    </tr>\n",
       "    <tr>\n",
       "      <th>17</th>\n",
       "      <td>김경영</td>\n",
       "      <td>4</td>\n",
       "      <td>2주 전</td>\n",
       "      <td>가족나들이 좋은곳</td>\n",
       "    </tr>\n",
       "    <tr>\n",
       "      <th>18</th>\n",
       "      <td>김기원</td>\n",
       "      <td>4</td>\n",
       "      <td>2주 전</td>\n",
       "      <td>없음</td>\n",
       "    </tr>\n",
       "    <tr>\n",
       "      <th>19</th>\n",
       "      <td>Little T.</td>\n",
       "      <td>3</td>\n",
       "      <td>2주 전</td>\n",
       "      <td>없음</td>\n",
       "    </tr>\n",
       "  </tbody>\n",
       "</table>\n",
       "</div>"
      ],
      "text/plain": [
       "                    name  ratings   date  \\\n",
       "0               너구리먹고싶당         5  2시간 전   \n",
       "1                   박미정         5   1일 전   \n",
       "2                   김인호         5   1일 전   \n",
       "3           이권환 도진道眞 TV         5   1일 전   \n",
       "4                   카르페         4   3일 전   \n",
       "5                  민기짱짱         5   3일 전   \n",
       "6                   김동섭         4   4일 전   \n",
       "7                   김지예         5   6일 전   \n",
       "8    Jinwoo Yang (Alex)         5   1주 전   \n",
       "9                  HN Y         5   1주 전   \n",
       "10                   민민         5   1주 전   \n",
       "11                  구남모         5   1주 전   \n",
       "12          minwook Lee         5   1주 전   \n",
       "13              정Itemgo         5   1주 전   \n",
       "14                  전우호         2   1주 전   \n",
       "15                  송해호         4   2주 전   \n",
       "16                  김순배         5   2주 전   \n",
       "17                  김경영         4   2주 전   \n",
       "18                  김기원         4   2주 전   \n",
       "19            Little T.         3   2주 전   \n",
       "\n",
       "                                              comment  \n",
       "0                                                 ㅇㅇㅇ  \n",
       "1                            조용해서좋고 나의 뿌리를 알수있어서 좋았어요  \n",
       "2                                                  없음  \n",
       "3   \"조상은 자손의 뿌리요,\\n자손은 조상의 숨구멍이다.\"\\n\\n- 甑山道 安雲山 太上...  \n",
       "4                                                  없음  \n",
       "5   뿌리공원에는 많은 사람들이 산책을 하고 있어요.뿌리공원에는 볼거리가 많아요.뿌리공원...  \n",
       "6                                                  없음  \n",
       "7                                                  없음  \n",
       "8                      언제가도 좋은 곳...마음이 편해지는 힐링 스팟입니다.  \n",
       "9                                                  없음  \n",
       "10                                                 없음  \n",
       "11                                                 없음  \n",
       "12                                                 없음  \n",
       "13                                                 없음  \n",
       "14                                그러다\\n나아는사람만나면어떻하렴니까  \n",
       "15                           공원이 더. 새로워졌구 나들이 하기 좋습니다  \n",
       "16  우리 조상의 뿌리(근원)를 알고 나'라는 존재에 대해 진지하게 다시 생각해 보는 귀...  \n",
       "17                                          가족나들이 좋은곳  \n",
       "18                                                 없음  \n",
       "19                                                 없음  "
      ]
     },
     "execution_count": 10,
     "metadata": {},
     "output_type": "execute_result"
    }
   ],
   "source": [
    "data_dir = os.getenv('HOME')+'/result'\n",
    "\n",
    "place_path = join(data_dir, '2021-06-20_19-36-33.csv')\n",
    "place_check = pd.read_csv(place_path)\n",
    "\n",
    "place_check.head(20)"
   ]
  },
  {
   "cell_type": "markdown",
   "metadata": {},
   "source": [
    "### 참고 자료 출처 :\n",
    "* http://egloos.zum.com/mcchae/v/11281390\n",
    "* 김경록서영덕, 2018, \"한입에 웹 크롤링\", 비제이퍼블릭."
   ]
  },
  {
   "cell_type": "markdown",
   "metadata": {},
   "source": [
    "### 이슈사항 :"
   ]
  },
  {
   "cell_type": "markdown",
   "metadata": {},
   "source": [
    "1. Google Map review는 최대 930건만 크롤링 가능\n",
    "2. 찾고자 하는 해당 정보의 HTML 태그가 주기적으로 변화  "
   ]
  },
  {
   "cell_type": "markdown",
   "metadata": {},
   "source": [
    "### [참고] 요소 찾기"
   ]
  },
  {
   "cell_type": "markdown",
   "metadata": {},
   "source": [
    "id_r = r.find('button', \n",
    "              class_='section-review-action-menu')['data-review-id']\n",
    "username = r.find('div', \n",
    "                  class_='section-review-title').find('span').text\n",
    "try:\n",
    "    review_text = r.find('span', class_='section-review-text').text\n",
    "except Exception:\n",
    "    review_text = None\n",
    "rating = r.find('span', class_='section-review-stars')['aria-label']\n",
    "rel_date = r.find('span', class_='section-review-publish-date').text"
   ]
  }
 ],
 "metadata": {
  "kernelspec": {
   "display_name": "aiffel",
   "language": "python",
   "name": "aiffel"
  },
  "language_info": {
   "codemirror_mode": {
    "name": "ipython",
    "version": 3
   },
   "file_extension": ".py",
   "mimetype": "text/x-python",
   "name": "python",
   "nbconvert_exporter": "python",
   "pygments_lexer": "ipython3",
   "version": "3.7.10"
  }
 },
 "nbformat": 4,
 "nbformat_minor": 4
}
