{
 "cells": [
  {
   "cell_type": "markdown",
   "metadata": {},
   "source": [
    "# [해커톤3] 구글 리뷰 크롤링하기"
   ]
  },
  {
   "cell_type": "markdown",
   "metadata": {},
   "source": [
    "> * urllib는 파이썬에서 인터넷에서 데이터를 받아 오는 기능들이 있는 패키지로 기본적으로 내장되어 있음\n",
    "> * urllib에 인터넷 주소URL을 넣고 실행하면 데이터를 텍스트 형태로 받아올 수 있음 : 크롤링\n",
    "> * BeautifulSoup은 데이터를 추출하는데 필요한 기능이 들어 있는 라이브러리\n",
    "> * BeautifulSoup은 크롤링한 데이터에서 필요한 내용만 추출하는 라이브러리 : 파싱"
   ]
  },
  {
   "cell_type": "markdown",
   "metadata": {},
   "source": [
    "## 구글지도 리뷰 크롤링"
   ]
  },
  {
   "cell_type": "code",
   "execution_count": 1,
   "metadata": {},
   "outputs": [],
   "source": [
    "import urllib\n",
    "import urllib.request\n",
    "from urllib.request import urlopen\n",
    "import selenium \n",
    "from selenium import webdriver\n",
    "import bs4\n",
    "from bs4 import BeautifulSoup\n",
    "import time, os\n",
    "from datetime import datetime\n",
    "import pandas as pd\n",
    "import os"
   ]
  },
  {
   "cell_type": "code",
   "execution_count": 2,
   "metadata": {},
   "outputs": [],
   "source": [
    "link = 'https://www.google.co.kr/maps/place/%EC%88%98%ED%86%B5%EA%B3%A8%EC%9C%A0%EC%9B%90%EC%A7%80/@36.3462199,127.2871404,16z/data=!4m11!1m2!2m1!1z7IiY7Ya16rOo!3m7!1s0x357ab320dafefd2b:0xe6383df46636c16c!8m2!3d36.3423148!4d127.28525!9m1!1b1!15sCgnsiJjthrXqs6iSARJ0b3VyaXN0X2F0dHJhY3Rpb24?hl=ko'\n",
    "driver = webdriver.Chrome('./chromedriver')\n",
    "driver.get(link)                 # 자동으로 해당 링크를 연다\n",
    "os.makedirs('result', exist_ok = True)   # 결과 저장 디렉토리\n"
   ]
  },
  {
   "cell_type": "markdown",
   "metadata": {},
   "source": [
    "### 자동 스크롤 다운 하기"
   ]
  },
  {
   "cell_type": "markdown",
   "metadata": {},
   "source": [
    "스크래핑하기 전에 대부분의 다른 최신 웹 사이트와 마찬가지로 페이지가 AJAX(동적페이지)를 사용하여 구현되므로 모든 리뷰를 아래로 스크롤하여 모든 리뷰를 로드해야한다."
   ]
  },
  {
   "cell_type": "code",
   "execution_count": null,
   "metadata": {},
   "outputs": [],
   "source": [
    "# scroll_cnt = 10\n",
    "\n",
    "# for i in range(scroll_cnt):\n",
    "#     driver.execute_script(\"window.scrollTo(0, document.body.scrollHeight);\")\n",
    "#     time.sleep(3)\n",
    "\n",
    "#     # click 'load more':\n",
    "#     try:\n",
    "#         load_more = driver.find_elements_by_class_name(\"section-expand-review\")\n",
    "#         for i in load_more:\n",
    "#             i.click()\n",
    "#     except:\n",
    "#         pass"
   ]
  },
  {
   "cell_type": "markdown",
   "metadata": {},
   "source": [
    "### 리뷰정보 가져오기"
   ]
  },
  {
   "cell_type": "code",
   "execution_count": 4,
   "metadata": {},
   "outputs": [
    {
     "name": "stdout",
     "output_type": "stream",
     "text": [
      "there are 543 reviews avaliable!\n",
      "writing the data...\n"
     ]
    }
   ],
   "source": [
    "# 리뷰 가져오기\n",
    "elem = driver.find_element_by_class_name('widget-pane-content-holder')\n",
    "reviews = elem.find_elements_by_xpath('//*[@class=\"section-review NIyLF-haAclf gm2-body-2\"]//div[@class=\"ODSEW-ShBeI-content\"]')\n",
    "print('there are %d reviews avaliable!' % len(reviews))\n",
    "print('writing the data...')"
   ]
  },
  {
   "cell_type": "code",
   "execution_count": 5,
   "metadata": {},
   "outputs": [],
   "source": [
    "# 해당 정보 저장하기\n",
    "\n",
    "df = pd.DataFrame(columns=['name', 'ratings', 'date', 'comment'])"
   ]
  },
  {
   "cell_type": "code",
   "execution_count": 6,
   "metadata": {},
   "outputs": [],
   "source": [
    "for review in reviews:\n",
    "    soup = BeautifulSoup(review.get_attribute('innerHTML'), 'html.parser')\n",
    "    \n",
    "    name = soup.find(class_= \"section-review-title\").text\n",
    "    \n",
    "    ratings = int(soup.find('span', class_='section-review-stars').get('aria-label').replace('별표', '').replace('개','').strip())\n",
    "    \n",
    "    date= soup.find(class_= \"section-review-publish-date\").text\n",
    "     \n",
    "    comment = soup.find('span', class_='section-review-text').text\n",
    "    if not comment:\n",
    "        comment = \"없음\" \n",
    "        \n",
    "    df = df.append({\n",
    "        'name': name,\n",
    "        'ratings': ratings,\n",
    "        'date' : date,\n",
    "        'comment' : comment\n",
    "    }, ignore_index=True)\n"
   ]
  },
  {
   "cell_type": "code",
   "execution_count": 7,
   "metadata": {},
   "outputs": [
    {
     "name": "stdout",
     "output_type": "stream",
     "text": [
      "끝!\n"
     ]
    }
   ],
   "source": [
    "filename = datetime.now().strftime('result/%Y-%m-%d_%H-%M-%S.csv')\n",
    "df.to_csv(filename, encoding='utf-8-sig', index=False)\n",
    "driver.stop_client()\n",
    "driver.close()\n",
    "\n",
    "print('끝!')"
   ]
  },
  {
   "cell_type": "markdown",
   "metadata": {},
   "source": [
    "## 결과 확인"
   ]
  },
  {
   "cell_type": "code",
   "execution_count": null,
   "metadata": {},
   "outputs": [],
   "source": [
    "import os\n",
    "from os.path import join"
   ]
  },
  {
   "cell_type": "code",
   "execution_count": null,
   "metadata": {},
   "outputs": [],
   "source": [
    "data_dir = os.getenv('HOME')+'/result'\n",
    "\n",
    "place_path = join(data_dir, '뿌리공원.csv')\n",
    "place_check = pd.read_csv(place_path)\n",
    "\n",
    "place_check.head(20)"
   ]
  },
  {
   "cell_type": "markdown",
   "metadata": {},
   "source": [
    "참고\n",
    "http://egloos.zum.com/mcchae/v/11281390"
   ]
  },
  {
   "cell_type": "markdown",
   "metadata": {},
   "source": [
    "## [참고] 요소찾기"
   ]
  },
  {
   "cell_type": "markdown",
   "metadata": {},
   "source": [
    "id_r = r.find('button', \n",
    "              class_='section-review-action-menu')['data-review-id']\n",
    "username = r.find('div', \n",
    "                  class_='section-review-title').find('span').text\n",
    "try:\n",
    "    review_text = r.find('span', class_='section-review-text').text\n",
    "except Exception:\n",
    "    review_text = None\n",
    "rating = r.find('span', class_='section-review-stars')['aria-label']\n",
    "rel_date = r.find('span', class_='section-review-publish-date').text"
   ]
  }
 ],
 "metadata": {
  "kernelspec": {
   "display_name": "aiffel",
   "language": "python",
   "name": "aiffel"
  },
  "language_info": {
   "codemirror_mode": {
    "name": "ipython",
    "version": 3
   },
   "file_extension": ".py",
   "mimetype": "text/x-python",
   "name": "python",
   "nbconvert_exporter": "python",
   "pygments_lexer": "ipython3",
   "version": "3.7.10"
  }
 },
 "nbformat": 4,
 "nbformat_minor": 4
}
